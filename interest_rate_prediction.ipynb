{
 "cells": [
  {
   "cell_type": "markdown",
   "metadata": {},
   "source": [
    "# Interest Rate Prediction"
   ]
  },
  {
   "cell_type": "markdown",
   "metadata": {
    "heading_collapsed": true
   },
   "source": [
    "## Case Study"
   ]
  },
  {
   "cell_type": "markdown",
   "metadata": {
    "hidden": true
   },
   "source": [
    "This data belongs to a loan aggregator agency which connects loan applications to different financial institutions in attempt to get the best interest rate. They want to now utilise past data to predict interest rate given by any financial institute just by looking at loan application characteristics.\n",
    "\n",
    "To achieve that , they have decided to do a POC with a data from a particular financial institution. The data is given in the file \"loans data.csv\". Lets begin: "
   ]
  },
  {
   "cell_type": "markdown",
   "metadata": {},
   "source": [
    "## Step 0: Basic Imports"
   ]
  },
  {
   "cell_type": "code",
   "execution_count": 1,
   "metadata": {
    "ExecuteTime": {
     "end_time": "2019-11-10T11:09:52.802041Z",
     "start_time": "2019-11-10T11:09:51.017730Z"
    }
   },
   "outputs": [],
   "source": [
    "import pandas as pd \n",
    "import numpy as np\n",
    "import matplotlib.pyplot as plt\n",
    "import seaborn as sns"
   ]
  },
  {
   "cell_type": "markdown",
   "metadata": {
    "heading_collapsed": true
   },
   "source": [
    "## Step 1: Load dataset"
   ]
  },
  {
   "cell_type": "code",
   "execution_count": 2,
   "metadata": {
    "ExecuteTime": {
     "end_time": "2019-11-10T11:10:24.083806Z",
     "start_time": "2019-11-10T11:10:24.045106Z"
    },
    "hidden": true
   },
   "outputs": [],
   "source": [
    "train_file='/media/dell/D_PROJECTS/Edvancer_Class/DataScienceWithR/Data/loan_data_train.csv' #relative path. So in present working directory it will look for data folder.\n",
    "test_file='/media/dell/D_PROJECTS/Edvancer_Class/DataScienceWithR/Data/loan_data_test.csv'\n",
    "\n",
    "df_train=pd.read_csv(train_file) #read_csv is a function in pandas.\n",
    "df_test=pd.read_csv(test_file)               "
   ]
  },
  {
   "cell_type": "code",
   "execution_count": 3,
   "metadata": {
    "ExecuteTime": {
     "end_time": "2019-11-10T11:16:26.930692Z",
     "start_time": "2019-11-10T11:16:26.913776Z"
    },
    "hidden": true
   },
   "outputs": [
    {
     "name": "stdout",
     "output_type": "stream",
     "text": [
      "(2200, 15)\n"
     ]
    },
    {
     "data": {
      "text/html": [
       "<div>\n",
       "<style scoped>\n",
       "    .dataframe tbody tr th:only-of-type {\n",
       "        vertical-align: middle;\n",
       "    }\n",
       "\n",
       "    .dataframe tbody tr th {\n",
       "        vertical-align: top;\n",
       "    }\n",
       "\n",
       "    .dataframe thead th {\n",
       "        text-align: right;\n",
       "    }\n",
       "</style>\n",
       "<table border=\"1\" class=\"dataframe\">\n",
       "  <thead>\n",
       "    <tr style=\"text-align: right;\">\n",
       "      <th></th>\n",
       "      <th>ID</th>\n",
       "      <th>Amount.Requested</th>\n",
       "      <th>Amount.Funded.By.Investors</th>\n",
       "      <th>Interest.Rate</th>\n",
       "      <th>Loan.Length</th>\n",
       "      <th>Loan.Purpose</th>\n",
       "      <th>Debt.To.Income.Ratio</th>\n",
       "      <th>State</th>\n",
       "      <th>Home.Ownership</th>\n",
       "      <th>Monthly.Income</th>\n",
       "      <th>FICO.Range</th>\n",
       "      <th>Open.CREDIT.Lines</th>\n",
       "      <th>Revolving.CREDIT.Balance</th>\n",
       "      <th>Inquiries.in.the.Last.6.Months</th>\n",
       "      <th>Employment.Length</th>\n",
       "    </tr>\n",
       "  </thead>\n",
       "  <tbody>\n",
       "    <tr>\n",
       "      <th>0</th>\n",
       "      <td>79542.0</td>\n",
       "      <td>25000</td>\n",
       "      <td>25000</td>\n",
       "      <td>18.49%</td>\n",
       "      <td>60 months</td>\n",
       "      <td>debt_consolidation</td>\n",
       "      <td>27.56%</td>\n",
       "      <td>VA</td>\n",
       "      <td>MORTGAGE</td>\n",
       "      <td>8606.56</td>\n",
       "      <td>720-724</td>\n",
       "      <td>11</td>\n",
       "      <td>15210</td>\n",
       "      <td>3.0</td>\n",
       "      <td>5 years</td>\n",
       "    </tr>\n",
       "    <tr>\n",
       "      <th>1</th>\n",
       "      <td>75473.0</td>\n",
       "      <td>19750</td>\n",
       "      <td>19750</td>\n",
       "      <td>17.27%</td>\n",
       "      <td>60 months</td>\n",
       "      <td>debt_consolidation</td>\n",
       "      <td>13.39%</td>\n",
       "      <td>NY</td>\n",
       "      <td>MORTGAGE</td>\n",
       "      <td>6737.50</td>\n",
       "      <td>710-714</td>\n",
       "      <td>14</td>\n",
       "      <td>19070</td>\n",
       "      <td>3.0</td>\n",
       "      <td>4 years</td>\n",
       "    </tr>\n",
       "  </tbody>\n",
       "</table>\n",
       "</div>"
      ],
      "text/plain": [
       "        ID Amount.Requested Amount.Funded.By.Investors Interest.Rate  \\\n",
       "0  79542.0            25000                      25000        18.49%   \n",
       "1  75473.0            19750                      19750        17.27%   \n",
       "\n",
       "  Loan.Length        Loan.Purpose Debt.To.Income.Ratio State Home.Ownership  \\\n",
       "0   60 months  debt_consolidation               27.56%    VA       MORTGAGE   \n",
       "1   60 months  debt_consolidation               13.39%    NY       MORTGAGE   \n",
       "\n",
       "   Monthly.Income FICO.Range Open.CREDIT.Lines Revolving.CREDIT.Balance  \\\n",
       "0         8606.56    720-724                11                    15210   \n",
       "1         6737.50    710-714                14                    19070   \n",
       "\n",
       "   Inquiries.in.the.Last.6.Months Employment.Length  \n",
       "0                             3.0           5 years  \n",
       "1                             3.0           4 years  "
      ]
     },
     "execution_count": 3,
     "metadata": {},
     "output_type": "execute_result"
    }
   ],
   "source": [
    "print(df_train.shape) #check no of rows (ie the no of data points) and cols (ie the no of features)\n",
    "df_train.head(2) #display the first 5 columns in your dataset"
   ]
  },
  {
   "cell_type": "markdown",
   "metadata": {
    "hidden": true
   },
   "source": [
    "14 features and 1 target variable"
   ]
  },
  {
   "cell_type": "code",
   "execution_count": 4,
   "metadata": {
    "ExecuteTime": {
     "end_time": "2019-11-10T11:16:38.964132Z",
     "start_time": "2019-11-10T11:16:38.947690Z"
    },
    "hidden": true,
    "scrolled": true
   },
   "outputs": [
    {
     "name": "stdout",
     "output_type": "stream",
     "text": [
      "(300, 14)\n"
     ]
    },
    {
     "data": {
      "text/html": [
       "<div>\n",
       "<style scoped>\n",
       "    .dataframe tbody tr th:only-of-type {\n",
       "        vertical-align: middle;\n",
       "    }\n",
       "\n",
       "    .dataframe tbody tr th {\n",
       "        vertical-align: top;\n",
       "    }\n",
       "\n",
       "    .dataframe thead th {\n",
       "        text-align: right;\n",
       "    }\n",
       "</style>\n",
       "<table border=\"1\" class=\"dataframe\">\n",
       "  <thead>\n",
       "    <tr style=\"text-align: right;\">\n",
       "      <th></th>\n",
       "      <th>ID</th>\n",
       "      <th>Amount.Requested</th>\n",
       "      <th>Amount.Funded.By.Investors</th>\n",
       "      <th>Loan.Length</th>\n",
       "      <th>Loan.Purpose</th>\n",
       "      <th>Debt.To.Income.Ratio</th>\n",
       "      <th>State</th>\n",
       "      <th>Home.Ownership</th>\n",
       "      <th>Monthly.Income</th>\n",
       "      <th>FICO.Range</th>\n",
       "      <th>Open.CREDIT.Lines</th>\n",
       "      <th>Revolving.CREDIT.Balance</th>\n",
       "      <th>Inquiries.in.the.Last.6.Months</th>\n",
       "      <th>Employment.Length</th>\n",
       "    </tr>\n",
       "  </thead>\n",
       "  <tbody>\n",
       "    <tr>\n",
       "      <th>29</th>\n",
       "      <td>29999</td>\n",
       "      <td>20000</td>\n",
       "      <td>18275</td>\n",
       "      <td>60 months</td>\n",
       "      <td>wedding</td>\n",
       "      <td>24.58%</td>\n",
       "      <td>TX</td>\n",
       "      <td>MORTGAGE</td>\n",
       "      <td>6000.00</td>\n",
       "      <td>710-714</td>\n",
       "      <td>14</td>\n",
       "      <td>12231</td>\n",
       "      <td>3</td>\n",
       "      <td>3 years</td>\n",
       "    </tr>\n",
       "    <tr>\n",
       "      <th>131</th>\n",
       "      <td>73010</td>\n",
       "      <td>8000</td>\n",
       "      <td>8000</td>\n",
       "      <td>36 months</td>\n",
       "      <td>credit_card</td>\n",
       "      <td>21.35%</td>\n",
       "      <td>TX</td>\n",
       "      <td>OWN</td>\n",
       "      <td>3541.67</td>\n",
       "      <td>700-704</td>\n",
       "      <td>13</td>\n",
       "      <td>6885</td>\n",
       "      <td>2</td>\n",
       "      <td>NaN</td>\n",
       "    </tr>\n",
       "    <tr>\n",
       "      <th>193</th>\n",
       "      <td>67335</td>\n",
       "      <td>23675</td>\n",
       "      <td>23675</td>\n",
       "      <td>36 months</td>\n",
       "      <td>credit_card</td>\n",
       "      <td>29.94%</td>\n",
       "      <td>PA</td>\n",
       "      <td>OWN</td>\n",
       "      <td>6399.00</td>\n",
       "      <td>680-684</td>\n",
       "      <td>21</td>\n",
       "      <td>21920</td>\n",
       "      <td>0</td>\n",
       "      <td>10+ years</td>\n",
       "    </tr>\n",
       "    <tr>\n",
       "      <th>170</th>\n",
       "      <td>72091</td>\n",
       "      <td>17825</td>\n",
       "      <td>17825</td>\n",
       "      <td>36 months</td>\n",
       "      <td>debt_consolidation</td>\n",
       "      <td>18.85%</td>\n",
       "      <td>TX</td>\n",
       "      <td>MORTGAGE</td>\n",
       "      <td>6250.00</td>\n",
       "      <td>690-694</td>\n",
       "      <td>12</td>\n",
       "      <td>27554</td>\n",
       "      <td>0</td>\n",
       "      <td>10+ years</td>\n",
       "    </tr>\n",
       "    <tr>\n",
       "      <th>284</th>\n",
       "      <td>32183</td>\n",
       "      <td>12000</td>\n",
       "      <td>12000</td>\n",
       "      <td>36 months</td>\n",
       "      <td>debt_consolidation</td>\n",
       "      <td>3.90%</td>\n",
       "      <td>AZ</td>\n",
       "      <td>RENT</td>\n",
       "      <td>7083.33</td>\n",
       "      <td>670-674</td>\n",
       "      <td>7</td>\n",
       "      <td>6040</td>\n",
       "      <td>1</td>\n",
       "      <td>2 years</td>\n",
       "    </tr>\n",
       "  </tbody>\n",
       "</table>\n",
       "</div>"
      ],
      "text/plain": [
       "        ID  Amount.Requested Amount.Funded.By.Investors Loan.Length  \\\n",
       "29   29999             20000                      18275   60 months   \n",
       "131  73010              8000                       8000   36 months   \n",
       "193  67335             23675                      23675   36 months   \n",
       "170  72091             17825                      17825   36 months   \n",
       "284  32183             12000                      12000   36 months   \n",
       "\n",
       "           Loan.Purpose Debt.To.Income.Ratio State Home.Ownership  \\\n",
       "29              wedding               24.58%    TX       MORTGAGE   \n",
       "131         credit_card               21.35%    TX            OWN   \n",
       "193         credit_card               29.94%    PA            OWN   \n",
       "170  debt_consolidation               18.85%    TX       MORTGAGE   \n",
       "284  debt_consolidation                3.90%    AZ           RENT   \n",
       "\n",
       "     Monthly.Income FICO.Range Open.CREDIT.Lines  Revolving.CREDIT.Balance  \\\n",
       "29          6000.00    710-714                14                     12231   \n",
       "131         3541.67    700-704                13                      6885   \n",
       "193         6399.00    680-684                21                     21920   \n",
       "170         6250.00    690-694                12                     27554   \n",
       "284         7083.33    670-674                 7                      6040   \n",
       "\n",
       "     Inquiries.in.the.Last.6.Months Employment.Length  \n",
       "29                                3           3 years  \n",
       "131                               2               NaN  \n",
       "193                               0         10+ years  \n",
       "170                               0         10+ years  \n",
       "284                               1           2 years  "
      ]
     },
     "execution_count": 4,
     "metadata": {},
     "output_type": "execute_result"
    }
   ],
   "source": [
    "#test data does not have interest rate\n",
    "print(df_test.shape)\n",
    "df_test.sample(5)"
   ]
  },
  {
   "cell_type": "markdown",
   "metadata": {},
   "source": [
    "## Step 2: Data Visualisation and Feature Selection"
   ]
  },
  {
   "cell_type": "markdown",
   "metadata": {},
   "source": [
    "### 2.1. Check dtypes"
   ]
  },
  {
   "cell_type": "code",
   "execution_count": 5,
   "metadata": {
    "ExecuteTime": {
     "end_time": "2019-11-10T11:18:55.915464Z",
     "start_time": "2019-11-10T11:18:55.909256Z"
    }
   },
   "outputs": [
    {
     "data": {
      "text/plain": [
       "ID                                float64\n",
       "Amount.Requested                   object\n",
       "Amount.Funded.By.Investors         object\n",
       "Interest.Rate                      object\n",
       "Loan.Length                        object\n",
       "Loan.Purpose                       object\n",
       "Debt.To.Income.Ratio               object\n",
       "State                              object\n",
       "Home.Ownership                     object\n",
       "Monthly.Income                    float64\n",
       "FICO.Range                         object\n",
       "Open.CREDIT.Lines                  object\n",
       "Revolving.CREDIT.Balance           object\n",
       "Inquiries.in.the.Last.6.Months    float64\n",
       "Employment.Length                  object\n",
       "dtype: object"
      ]
     },
     "execution_count": 5,
     "metadata": {},
     "output_type": "execute_result"
    }
   ],
   "source": [
    "df_train.dtypes #this will return a list of the columns and their respective dtypes"
   ]
  },
  {
   "cell_type": "code",
   "execution_count": 6,
   "metadata": {
    "ExecuteTime": {
     "end_time": "2019-11-10T11:18:41.831751Z",
     "start_time": "2019-11-10T11:18:41.819515Z"
    }
   },
   "outputs": [
    {
     "data": {
      "text/plain": [
       "array([dtype('float64'), dtype('O')], dtype=object)"
      ]
     },
     "execution_count": 6,
     "metadata": {},
     "output_type": "execute_result"
    }
   ],
   "source": [
    "#df_train.dtypes #this will return a list of the columns and their respective dtypes\n",
    "df_train.dtypes.unique() #will give the unique dtypes in my dataset"
   ]
  },
  {
   "cell_type": "code",
   "execution_count": 7,
   "metadata": {
    "ExecuteTime": {
     "end_time": "2019-11-10T11:21:17.841236Z",
     "start_time": "2019-11-10T11:21:17.824690Z"
    }
   },
   "outputs": [
    {
     "data": {
      "text/plain": [
       "(Index(['Amount.Requested', 'Amount.Funded.By.Investors', 'Interest.Rate',\n",
       "        'Loan.Length', 'Loan.Purpose', 'Debt.To.Income.Ratio', 'State',\n",
       "        'Home.Ownership', 'FICO.Range', 'Open.CREDIT.Lines',\n",
       "        'Revolving.CREDIT.Balance', 'Employment.Length'],\n",
       "       dtype='object'), 12)"
      ]
     },
     "execution_count": 7,
     "metadata": {},
     "output_type": "execute_result"
    }
   ],
   "source": [
    "#df_train.select_dtypes(\"object\") --> this will return a dataframe with only object type columns\n",
    "obj_cols = df_train.select_dtypes(\"object\").columns\n",
    "obj_cols, len(obj_cols)"
   ]
  },
  {
   "cell_type": "markdown",
   "metadata": {},
   "source": [
    "Dtypes for 12 feature has to be fixed"
   ]
  },
  {
   "cell_type": "code",
   "execution_count": 8,
   "metadata": {
    "ExecuteTime": {
     "end_time": "2019-11-10T11:24:28.150207Z",
     "start_time": "2019-11-10T11:24:28.120472Z"
    }
   },
   "outputs": [
    {
     "name": "stdout",
     "output_type": "stream",
     "text": [
      "(2200, 12)\n"
     ]
    },
    {
     "data": {
      "text/html": [
       "<div>\n",
       "<style scoped>\n",
       "    .dataframe tbody tr th:only-of-type {\n",
       "        vertical-align: middle;\n",
       "    }\n",
       "\n",
       "    .dataframe tbody tr th {\n",
       "        vertical-align: top;\n",
       "    }\n",
       "\n",
       "    .dataframe thead th {\n",
       "        text-align: right;\n",
       "    }\n",
       "</style>\n",
       "<table border=\"1\" class=\"dataframe\">\n",
       "  <thead>\n",
       "    <tr style=\"text-align: right;\">\n",
       "      <th></th>\n",
       "      <th>Amount.Requested</th>\n",
       "      <th>Amount.Funded.By.Investors</th>\n",
       "      <th>Interest.Rate</th>\n",
       "      <th>Loan.Length</th>\n",
       "      <th>Loan.Purpose</th>\n",
       "      <th>Debt.To.Income.Ratio</th>\n",
       "      <th>State</th>\n",
       "      <th>Home.Ownership</th>\n",
       "      <th>FICO.Range</th>\n",
       "      <th>Open.CREDIT.Lines</th>\n",
       "      <th>Revolving.CREDIT.Balance</th>\n",
       "      <th>Employment.Length</th>\n",
       "    </tr>\n",
       "  </thead>\n",
       "  <tbody>\n",
       "    <tr>\n",
       "      <th>21</th>\n",
       "      <td>15000</td>\n",
       "      <td>15000</td>\n",
       "      <td>12.12%</td>\n",
       "      <td>36 months</td>\n",
       "      <td>credit_card</td>\n",
       "      <td>19.16%</td>\n",
       "      <td>NJ</td>\n",
       "      <td>RENT</td>\n",
       "      <td>705-709</td>\n",
       "      <td>18</td>\n",
       "      <td>13830</td>\n",
       "      <td>10+ years</td>\n",
       "    </tr>\n",
       "    <tr>\n",
       "      <th>2006</th>\n",
       "      <td>4500</td>\n",
       "      <td>4500</td>\n",
       "      <td>8.90%</td>\n",
       "      <td>36 months</td>\n",
       "      <td>credit_card</td>\n",
       "      <td>18.18%</td>\n",
       "      <td>UT</td>\n",
       "      <td>RENT</td>\n",
       "      <td>700-704</td>\n",
       "      <td>8</td>\n",
       "      <td>5361</td>\n",
       "      <td>4 years</td>\n",
       "    </tr>\n",
       "    <tr>\n",
       "      <th>796</th>\n",
       "      <td>4750</td>\n",
       "      <td>4750</td>\n",
       "      <td>14.33%</td>\n",
       "      <td>60 months</td>\n",
       "      <td>debt_consolidation</td>\n",
       "      <td>23.48%</td>\n",
       "      <td>SC</td>\n",
       "      <td>RENT</td>\n",
       "      <td>740-744</td>\n",
       "      <td>11</td>\n",
       "      <td>1687</td>\n",
       "      <td>&lt; 1 year</td>\n",
       "    </tr>\n",
       "    <tr>\n",
       "      <th>200</th>\n",
       "      <td>7500</td>\n",
       "      <td>224.99</td>\n",
       "      <td>13.17%</td>\n",
       "      <td>36 months</td>\n",
       "      <td>other</td>\n",
       "      <td>1.03%</td>\n",
       "      <td>CT</td>\n",
       "      <td>MORTGAGE</td>\n",
       "      <td>675-679</td>\n",
       "      <td>3</td>\n",
       "      <td>3607</td>\n",
       "      <td>6 years</td>\n",
       "    </tr>\n",
       "    <tr>\n",
       "      <th>1486</th>\n",
       "      <td>9175</td>\n",
       "      <td>9175</td>\n",
       "      <td>13.67%</td>\n",
       "      <td>36 months</td>\n",
       "      <td>credit_card</td>\n",
       "      <td>19.43%</td>\n",
       "      <td>IL</td>\n",
       "      <td>MORTGAGE</td>\n",
       "      <td>675-679</td>\n",
       "      <td>8</td>\n",
       "      <td>25639</td>\n",
       "      <td>8 years</td>\n",
       "    </tr>\n",
       "  </tbody>\n",
       "</table>\n",
       "</div>"
      ],
      "text/plain": [
       "     Amount.Requested Amount.Funded.By.Investors Interest.Rate Loan.Length  \\\n",
       "21              15000                      15000        12.12%   36 months   \n",
       "2006             4500                       4500         8.90%   36 months   \n",
       "796              4750                       4750        14.33%   60 months   \n",
       "200              7500                     224.99        13.17%   36 months   \n",
       "1486             9175                       9175        13.67%   36 months   \n",
       "\n",
       "            Loan.Purpose Debt.To.Income.Ratio State Home.Ownership FICO.Range  \\\n",
       "21           credit_card               19.16%    NJ           RENT    705-709   \n",
       "2006         credit_card               18.18%    UT           RENT    700-704   \n",
       "796   debt_consolidation               23.48%    SC           RENT    740-744   \n",
       "200                other                1.03%    CT       MORTGAGE    675-679   \n",
       "1486         credit_card               19.43%    IL       MORTGAGE    675-679   \n",
       "\n",
       "     Open.CREDIT.Lines Revolving.CREDIT.Balance Employment.Length  \n",
       "21                  18                    13830         10+ years  \n",
       "2006                 8                     5361           4 years  \n",
       "796                 11                     1687          < 1 year  \n",
       "200                  3                     3607           6 years  \n",
       "1486                 8                    25639           8 years  "
      ]
     },
     "execution_count": 8,
     "metadata": {},
     "output_type": "execute_result"
    }
   ],
   "source": [
    "print(df_train[obj_cols].shape)\n",
    "df_train[obj_cols].sample(5) #slicing of dataframe-->dataframe[list_of_desired_cols]"
   ]
  },
  {
   "cell_type": "code",
   "execution_count": 9,
   "metadata": {
    "ExecuteTime": {
     "end_time": "2019-11-10T11:32:43.338517Z",
     "start_time": "2019-11-10T11:32:43.324683Z"
    }
   },
   "outputs": [
    {
     "data": {
      "text/plain": [
       "36 months    1722\n",
       "60 months     476\n",
       ".               1\n",
       "Name: Loan.Length, dtype: int64"
      ]
     },
     "execution_count": 9,
     "metadata": {},
     "output_type": "execute_result"
    }
   ],
   "source": [
    "df_train[\"Loan.Length\"].value_counts() #unique value and the count of each value"
   ]
  },
  {
   "cell_type": "code",
   "execution_count": 10,
   "metadata": {
    "ExecuteTime": {
     "end_time": "2019-11-10T11:33:31.756715Z",
     "start_time": "2019-11-10T11:33:31.749333Z"
    }
   },
   "outputs": [
    {
     "data": {
      "text/plain": [
       "debt_consolidation    1147\n",
       "credit_card            394\n",
       "other                  174\n",
       "home_improvement       135\n",
       "major_purchase          84\n",
       "small_business          80\n",
       "car                     45\n",
       "wedding                 35\n",
       "medical                 26\n",
       "moving                  25\n",
       "house                   19\n",
       "vacation                18\n",
       "educational             14\n",
       "renewable_energy         3\n",
       "Name: Loan.Purpose, dtype: int64"
      ]
     },
     "execution_count": 10,
     "metadata": {},
     "output_type": "execute_result"
    }
   ],
   "source": [
    "df_train[\"Loan.Purpose\"].value_counts()"
   ]
  },
  {
   "cell_type": "code",
   "execution_count": 11,
   "metadata": {
    "ExecuteTime": {
     "end_time": "2019-11-10T11:35:12.331185Z",
     "start_time": "2019-11-10T11:35:12.323910Z"
    }
   },
   "outputs": [
    {
     "data": {
      "text/plain": [
       "MORTGAGE    1018\n",
       "RENT         999\n",
       "OWN          177\n",
       "OTHER          4\n",
       "NONE           1\n",
       "Name: Home.Ownership, dtype: int64"
      ]
     },
     "execution_count": 11,
     "metadata": {},
     "output_type": "execute_result"
    }
   ],
   "source": [
    "df_train[\"Home.Ownership\"].value_counts()"
   ]
  },
  {
   "cell_type": "code",
   "execution_count": 12,
   "metadata": {
    "ExecuteTime": {
     "end_time": "2019-11-10T11:35:27.059823Z",
     "start_time": "2019-11-10T11:35:27.052826Z"
    }
   },
   "outputs": [
    {
     "data": {
      "text/plain": [
       "10+ years    575\n",
       "< 1 year     229\n",
       "2 years      217\n",
       "3 years      203\n",
       "5 years      181\n",
       "4 years      162\n",
       "1 year       159\n",
       "6 years      134\n",
       "7 years      109\n",
       "8 years       95\n",
       "9 years       66\n",
       ".              1\n",
       "Name: Employment.Length, dtype: int64"
      ]
     },
     "execution_count": 12,
     "metadata": {},
     "output_type": "execute_result"
    }
   ],
   "source": [
    "df_train[\"Employment.Length\"].value_counts()"
   ]
  },
  {
   "cell_type": "markdown",
   "metadata": {},
   "source": [
    "### 2.1.1. Some observations"
   ]
  },
  {
   "cell_type": "markdown",
   "metadata": {},
   "source": [
    "1. 'Amount.Requested': **convert it to numeric**\n",
    "2. 'Amount.Funded.By.Investors': **drop**\n",
    "3. 'Interest.Rate': **remove % and then to numeric**\n",
    "4. 'Loan.Length': **dummies for categories**\n",
    "5. 'Loan.Purpose': **dummies for categories**\n",
    "6. 'Debt.To.Income.Ratio': **remove % and then to numeric**\n",
    "7. 'State': **dummies for categories**\n",
    "8. 'Home.Ownership': **dummies for categories**\n",
    "9. 'FICO.Range': **replace it by a numeric column which is average of the range**\n",
    "10. 'Open.CREDIT.Lines': **convert it to numeric**\n",
    "11. 'Revolving.CREDIT.Balance': **convert it to numeric**\n",
    "12. 'Employment.Length': **convert it to number**\n",
    "\n",
    "\n",
    "##### Lets group by operation:\n",
    "\n",
    "1. drop: \n",
    "    - ID \n",
    "    - Amount.Funded.By.Investors\n",
    "<br>\n",
    "2. convert it to numeric \n",
    "    - Amount.Requested\n",
    "    - Open.CREDIT.Lines\n",
    "    - Revolving.CREDIT.Balance\n",
    "<br>\n",
    "3. remove % and then to numeric\n",
    "    - Interest Rate\n",
    "    - Debt to income ratio\n",
    "<br>\n",
    "4. replace it by a numeric column which is average of the range\n",
    "    - FICO.Range \n",
    "<br>\n",
    "5. convert to number:\n",
    "    - Employment Length \n",
    "<br>\n",
    "6. dummies for categories with good occurence rate:\n",
    "    - Loan Lenth\n",
    "    - Loan Purpose\n",
    "    - State\n",
    "    - Home ownership"
   ]
  },
  {
   "cell_type": "markdown",
   "metadata": {},
   "source": [
    "### 2.1.2. Fix Dtypes"
   ]
  },
  {
   "cell_type": "markdown",
   "metadata": {
    "heading_collapsed": true
   },
   "source": [
    "#### Operation 1: df.drop([ ], inplace=True)"
   ]
  },
  {
   "cell_type": "code",
   "execution_count": 13,
   "metadata": {
    "ExecuteTime": {
     "end_time": "2019-11-10T11:39:04.173979Z",
     "start_time": "2019-11-10T11:39:04.169633Z"
    },
    "hidden": true
   },
   "outputs": [
    {
     "data": {
      "text/plain": [
       "(2200, 15)"
      ]
     },
     "execution_count": 13,
     "metadata": {},
     "output_type": "execute_result"
    }
   ],
   "source": [
    "df_train.shape"
   ]
  },
  {
   "cell_type": "code",
   "execution_count": 14,
   "metadata": {
    "ExecuteTime": {
     "end_time": "2019-11-10T11:40:55.031709Z",
     "start_time": "2019-11-10T11:40:55.027279Z"
    },
    "hidden": true
   },
   "outputs": [],
   "source": [
    "df_train.drop(['ID','Amount.Funded.By.Investors'], axis=1, inplace=True)\n",
    "#with inplace=True df_train will itself change. "
   ]
  },
  {
   "cell_type": "code",
   "execution_count": 15,
   "metadata": {
    "ExecuteTime": {
     "end_time": "2019-11-10T11:41:55.827171Z",
     "start_time": "2019-11-10T11:41:55.822753Z"
    },
    "hidden": true
   },
   "outputs": [
    {
     "data": {
      "text/plain": [
       "(2200, 13)"
      ]
     },
     "execution_count": 15,
     "metadata": {},
     "output_type": "execute_result"
    }
   ],
   "source": [
    "df_train.shape"
   ]
  },
  {
   "cell_type": "markdown",
   "metadata": {
    "heading_collapsed": true
   },
   "source": [
    "#### Operation 2: pd.to_numeric"
   ]
  },
  {
   "cell_type": "markdown",
   "metadata": {
    "hidden": true
   },
   "source": [
    "We can see that many columns which should have really been numbers have been imported as character columns , probably because some characters values in those columns in the files. We'll convert all such columns to numbers ."
   ]
  },
  {
   "cell_type": "code",
   "execution_count": 16,
   "metadata": {
    "ExecuteTime": {
     "end_time": "2019-11-10T11:42:48.667471Z",
     "start_time": "2019-11-10T11:42:48.661398Z"
    },
    "hidden": true
   },
   "outputs": [
    {
     "data": {
      "text/plain": [
       "Amount.Requested                   object\n",
       "Interest.Rate                      object\n",
       "Loan.Length                        object\n",
       "Loan.Purpose                       object\n",
       "Debt.To.Income.Ratio               object\n",
       "State                              object\n",
       "Home.Ownership                     object\n",
       "Monthly.Income                    float64\n",
       "FICO.Range                         object\n",
       "Open.CREDIT.Lines                  object\n",
       "Revolving.CREDIT.Balance           object\n",
       "Inquiries.in.the.Last.6.Months    float64\n",
       "Employment.Length                  object\n",
       "dtype: object"
      ]
     },
     "execution_count": 16,
     "metadata": {},
     "output_type": "execute_result"
    }
   ],
   "source": [
    "df_train.dtypes"
   ]
  },
  {
   "cell_type": "code",
   "execution_count": 17,
   "metadata": {
    "ExecuteTime": {
     "end_time": "2019-11-10T11:48:03.174357Z",
     "start_time": "2019-11-10T11:48:03.164992Z"
    },
    "hidden": true
   },
   "outputs": [],
   "source": [
    "for col in ['Amount.Requested', 'Open.CREDIT.Lines','Revolving.CREDIT.Balance']:\n",
    "    df_train[col]=pd.to_numeric(df_train[col], errors='coerce') "
   ]
  },
  {
   "cell_type": "code",
   "execution_count": 18,
   "metadata": {
    "ExecuteTime": {
     "end_time": "2019-11-10T11:48:03.616050Z",
     "start_time": "2019-11-10T11:48:03.609756Z"
    },
    "hidden": true,
    "scrolled": true
   },
   "outputs": [
    {
     "data": {
      "text/plain": [
       "Amount.Requested                  float64\n",
       "Interest.Rate                      object\n",
       "Loan.Length                        object\n",
       "Loan.Purpose                       object\n",
       "Debt.To.Income.Ratio               object\n",
       "State                              object\n",
       "Home.Ownership                     object\n",
       "Monthly.Income                    float64\n",
       "FICO.Range                         object\n",
       "Open.CREDIT.Lines                 float64\n",
       "Revolving.CREDIT.Balance          float64\n",
       "Inquiries.in.the.Last.6.Months    float64\n",
       "Employment.Length                  object\n",
       "dtype: object"
      ]
     },
     "execution_count": 18,
     "metadata": {},
     "output_type": "execute_result"
    }
   ],
   "source": [
    "df_train.dtypes"
   ]
  },
  {
   "cell_type": "markdown",
   "metadata": {
    "heading_collapsed": true
   },
   "source": [
    "#### Operation 3: First String operation df[col].str.string_operation --> pd.to_numeric"
   ]
  },
  {
   "cell_type": "markdown",
   "metadata": {
    "hidden": true
   },
   "source": [
    "variable `Interest.Rate` and `Debt.To.Income.Ratio` contain \"%\" sign in their values and because of which they have come as character columns in the data. Lets remove these percentages first."
   ]
  },
  {
   "cell_type": "code",
   "execution_count": 19,
   "metadata": {
    "ExecuteTime": {
     "end_time": "2019-11-10T11:54:34.594879Z",
     "start_time": "2019-11-10T11:54:34.592302Z"
    },
    "hidden": true
   },
   "outputs": [],
   "source": [
    "#\"aa%bb\".replace(\"%\",\"\") #\"aabb\""
   ]
  },
  {
   "cell_type": "code",
   "execution_count": 20,
   "metadata": {
    "ExecuteTime": {
     "end_time": "2019-11-10T11:52:05.519101Z",
     "start_time": "2019-11-10T11:52:05.513023Z"
    },
    "hidden": true
   },
   "outputs": [
    {
     "data": {
      "text/plain": [
       "397    15.31%\n",
       "655    19.99%\n",
       "Name: Interest.Rate, dtype: object"
      ]
     },
     "execution_count": 20,
     "metadata": {},
     "output_type": "execute_result"
    }
   ],
   "source": [
    "df_train['Interest.Rate'].sample(2)"
   ]
  },
  {
   "cell_type": "code",
   "execution_count": 21,
   "metadata": {
    "ExecuteTime": {
     "end_time": "2019-11-10T11:54:57.665276Z",
     "start_time": "2019-11-10T11:54:57.656486Z"
    },
    "hidden": true
   },
   "outputs": [
    {
     "name": "stdout",
     "output_type": "stream",
     "text": [
      "Interest.Rate\n",
      "Debt.To.Income.Ratio\n"
     ]
    }
   ],
   "source": [
    "for col in ['Interest.Rate','Debt.To.Income.Ratio']:\n",
    "    print(col)\n",
    "    df_train[col]=df_train[col].str.replace(\"%\",\"\") #first convert the row value to string type\n",
    "                                                    #and then perfrom replace operation"
   ]
  },
  {
   "cell_type": "code",
   "execution_count": 22,
   "metadata": {
    "ExecuteTime": {
     "end_time": "2019-11-10T11:55:55.071322Z",
     "start_time": "2019-11-10T11:55:55.065486Z"
    },
    "hidden": true
   },
   "outputs": [
    {
     "data": {
      "text/plain": [
       "970    5.99\n",
       "104    7.90\n",
       "Name: Interest.Rate, dtype: object"
      ]
     },
     "execution_count": 22,
     "metadata": {},
     "output_type": "execute_result"
    }
   ],
   "source": [
    "#Lets check the effect of replace operation\n",
    "df_train['Interest.Rate'].sample(2)"
   ]
  },
  {
   "cell_type": "code",
   "execution_count": 23,
   "metadata": {
    "ExecuteTime": {
     "end_time": "2019-11-10T11:56:07.466553Z",
     "start_time": "2019-11-10T11:56:07.459843Z"
    },
    "hidden": true
   },
   "outputs": [],
   "source": [
    "#Now we can convert to numeric\n",
    "for col in ['Interest.Rate','Debt.To.Income.Ratio']:\n",
    "    df_train[col]=pd.to_numeric(df_train[col],errors='coerce') "
   ]
  },
  {
   "cell_type": "code",
   "execution_count": 24,
   "metadata": {
    "ExecuteTime": {
     "end_time": "2019-11-10T11:56:08.197503Z",
     "start_time": "2019-11-10T11:56:08.191101Z"
    },
    "hidden": true
   },
   "outputs": [
    {
     "data": {
      "text/plain": [
       "Amount.Requested                  float64\n",
       "Interest.Rate                     float64\n",
       "Loan.Length                        object\n",
       "Loan.Purpose                       object\n",
       "Debt.To.Income.Ratio              float64\n",
       "State                              object\n",
       "Home.Ownership                     object\n",
       "Monthly.Income                    float64\n",
       "FICO.Range                         object\n",
       "Open.CREDIT.Lines                 float64\n",
       "Revolving.CREDIT.Balance          float64\n",
       "Inquiries.in.the.Last.6.Months    float64\n",
       "Employment.Length                  object\n",
       "dtype: object"
      ]
     },
     "execution_count": 24,
     "metadata": {},
     "output_type": "execute_result"
    }
   ],
   "source": [
    "df_train.dtypes"
   ]
  },
  {
   "cell_type": "markdown",
   "metadata": {
    "heading_collapsed": true
   },
   "source": [
    "#### Operation 4: .str.split(expand=True) -->df_train[new_name]"
   ]
  },
  {
   "cell_type": "markdown",
   "metadata": {
    "hidden": true
   },
   "source": [
    "If we look at first few values of variable FICO.Range , we can see that we can convert it to numeric by taking average of the range given. To do that first we need to split the column with \"-\", so that we can have both end of ranges in separate columns and then we can simply average them."
   ]
  },
  {
   "cell_type": "code",
   "execution_count": 25,
   "metadata": {
    "ExecuteTime": {
     "end_time": "2019-11-10T12:01:20.865297Z",
     "start_time": "2019-11-10T12:01:20.860868Z"
    },
    "hidden": true
   },
   "outputs": [
    {
     "data": {
      "text/plain": [
       "['660', '770']"
      ]
     },
     "execution_count": 25,
     "metadata": {},
     "output_type": "execute_result"
    }
   ],
   "source": [
    "\"660-770\".split(\"-\") #for understanding"
   ]
  },
  {
   "cell_type": "code",
   "execution_count": 26,
   "metadata": {
    "ExecuteTime": {
     "end_time": "2019-11-10T12:01:46.447926Z",
     "start_time": "2019-11-10T12:01:46.441627Z"
    },
    "hidden": true
   },
   "outputs": [
    {
     "data": {
      "text/plain": [
       "1946    665-669\n",
       "159     700-704\n",
       "Name: FICO.Range, dtype: object"
      ]
     },
     "execution_count": 26,
     "metadata": {},
     "output_type": "execute_result"
    }
   ],
   "source": [
    "df_train['FICO.Range'].sample(2)"
   ]
  },
  {
   "cell_type": "code",
   "execution_count": 27,
   "metadata": {
    "ExecuteTime": {
     "end_time": "2019-11-10T12:02:55.211300Z",
     "start_time": "2019-11-10T12:02:55.199500Z"
    },
    "hidden": true
   },
   "outputs": [],
   "source": [
    "k=df_train['FICO.Range'].str.split(\"-\", expand=True).astype(float)"
   ]
  },
  {
   "cell_type": "code",
   "execution_count": 28,
   "metadata": {
    "ExecuteTime": {
     "end_time": "2019-11-10T12:02:55.643316Z",
     "start_time": "2019-11-10T12:02:55.632847Z"
    },
    "hidden": true
   },
   "outputs": [
    {
     "data": {
      "text/html": [
       "<div>\n",
       "<style scoped>\n",
       "    .dataframe tbody tr th:only-of-type {\n",
       "        vertical-align: middle;\n",
       "    }\n",
       "\n",
       "    .dataframe tbody tr th {\n",
       "        vertical-align: top;\n",
       "    }\n",
       "\n",
       "    .dataframe thead th {\n",
       "        text-align: right;\n",
       "    }\n",
       "</style>\n",
       "<table border=\"1\" class=\"dataframe\">\n",
       "  <thead>\n",
       "    <tr style=\"text-align: right;\">\n",
       "      <th></th>\n",
       "      <th>0</th>\n",
       "      <th>1</th>\n",
       "    </tr>\n",
       "  </thead>\n",
       "  <tbody>\n",
       "    <tr>\n",
       "      <th>0</th>\n",
       "      <td>720.0</td>\n",
       "      <td>724.0</td>\n",
       "    </tr>\n",
       "    <tr>\n",
       "      <th>1</th>\n",
       "      <td>710.0</td>\n",
       "      <td>714.0</td>\n",
       "    </tr>\n",
       "    <tr>\n",
       "      <th>2</th>\n",
       "      <td>690.0</td>\n",
       "      <td>694.0</td>\n",
       "    </tr>\n",
       "    <tr>\n",
       "      <th>3</th>\n",
       "      <td>710.0</td>\n",
       "      <td>714.0</td>\n",
       "    </tr>\n",
       "    <tr>\n",
       "      <th>4</th>\n",
       "      <td>730.0</td>\n",
       "      <td>734.0</td>\n",
       "    </tr>\n",
       "  </tbody>\n",
       "</table>\n",
       "</div>"
      ],
      "text/plain": [
       "       0      1\n",
       "0  720.0  724.0\n",
       "1  710.0  714.0\n",
       "2  690.0  694.0\n",
       "3  710.0  714.0\n",
       "4  730.0  734.0"
      ]
     },
     "execution_count": 28,
     "metadata": {},
     "output_type": "execute_result"
    }
   ],
   "source": [
    "#now k is a new dataframe with two columns and same no of rows\n",
    "k.head()"
   ]
  },
  {
   "cell_type": "code",
   "execution_count": 29,
   "metadata": {
    "ExecuteTime": {
     "end_time": "2019-11-10T12:03:20.864366Z",
     "start_time": "2019-11-10T12:03:20.859068Z"
    },
    "hidden": true
   },
   "outputs": [
    {
     "data": {
      "text/plain": [
       "0    float64\n",
       "1    float64\n",
       "dtype: object"
      ]
     },
     "execution_count": 29,
     "metadata": {},
     "output_type": "execute_result"
    }
   ],
   "source": [
    "k.dtypes"
   ]
  },
  {
   "cell_type": "code",
   "execution_count": 30,
   "metadata": {
    "ExecuteTime": {
     "end_time": "2019-11-10T12:06:08.296990Z",
     "start_time": "2019-11-10T12:06:08.283595Z"
    },
    "hidden": true
   },
   "outputs": [],
   "source": [
    "#creating a new column \"fico\" with average from k[0] (ie lower range) and k[1] (ie upper range)\n",
    "df_train['fico']=0.5*(k[0]+k[1])\n",
    "del df_train['FICO.Range']"
   ]
  },
  {
   "cell_type": "code",
   "execution_count": 31,
   "metadata": {
    "ExecuteTime": {
     "end_time": "2019-11-10T12:08:13.809260Z",
     "start_time": "2019-11-10T12:08:13.804624Z"
    },
    "hidden": true
   },
   "outputs": [
    {
     "data": {
      "text/plain": [
       "(2200, 13)"
      ]
     },
     "execution_count": 31,
     "metadata": {},
     "output_type": "execute_result"
    }
   ],
   "source": [
    "df_train.shape"
   ]
  },
  {
   "cell_type": "code",
   "execution_count": 32,
   "metadata": {
    "ExecuteTime": {
     "end_time": "2019-11-10T12:07:43.283086Z",
     "start_time": "2019-11-10T12:07:43.276905Z"
    },
    "hidden": true
   },
   "outputs": [
    {
     "data": {
      "text/plain": [
       "Amount.Requested                  float64\n",
       "Interest.Rate                     float64\n",
       "Loan.Length                        object\n",
       "Loan.Purpose                       object\n",
       "Debt.To.Income.Ratio              float64\n",
       "State                              object\n",
       "Home.Ownership                     object\n",
       "Monthly.Income                    float64\n",
       "Open.CREDIT.Lines                 float64\n",
       "Revolving.CREDIT.Balance          float64\n",
       "Inquiries.in.the.Last.6.Months    float64\n",
       "Employment.Length                  object\n",
       "fico                              float64\n",
       "dtype: object"
      ]
     },
     "execution_count": 32,
     "metadata": {},
     "output_type": "execute_result"
    }
   ],
   "source": [
    "df_train.dtypes"
   ]
  },
  {
   "cell_type": "markdown",
   "metadata": {},
   "source": [
    "#### Operation 5: np.where(condition, value_if_True, value_if_False)"
   ]
  },
  {
   "cell_type": "code",
   "execution_count": 33,
   "metadata": {
    "ExecuteTime": {
     "end_time": "2019-11-10T12:10:27.477287Z",
     "start_time": "2019-11-10T12:10:27.470432Z"
    }
   },
   "outputs": [
    {
     "data": {
      "text/plain": [
       "10+ years    575\n",
       "< 1 year     229\n",
       "2 years      217\n",
       "3 years      203\n",
       "5 years      181\n",
       "4 years      162\n",
       "1 year       159\n",
       "6 years      134\n",
       "7 years      109\n",
       "8 years       95\n",
       "9 years       66\n",
       ".              1\n",
       "Name: Employment.Length, dtype: int64"
      ]
     },
     "execution_count": 33,
     "metadata": {},
     "output_type": "execute_result"
    }
   ],
   "source": [
    "#checking unique values for \"Employment.Length\" and their corresponding values\n",
    "df_train['Employment.Length'].value_counts()"
   ]
  },
  {
   "cell_type": "code",
   "execution_count": 34,
   "metadata": {
    "ExecuteTime": {
     "end_time": "2019-11-10T12:11:47.995855Z",
     "start_time": "2019-11-10T12:11:47.986674Z"
    }
   },
   "outputs": [],
   "source": [
    "df_train['Employment.Length']=df_train['Employment.Length'].str.replace('years',\"\")\n",
    "df_train['Employment.Length']=df_train['Employment.Length'].str.replace('year',\"\")"
   ]
  },
  {
   "cell_type": "code",
   "execution_count": 35,
   "metadata": {
    "ExecuteTime": {
     "end_time": "2019-11-10T12:11:50.071576Z",
     "start_time": "2019-11-10T12:11:50.064076Z"
    }
   },
   "outputs": [
    {
     "data": {
      "text/plain": [
       "10+     575\n",
       "< 1     229\n",
       "2       217\n",
       "3       203\n",
       "5       181\n",
       "4       162\n",
       "1       159\n",
       "6       134\n",
       "7       109\n",
       "8        95\n",
       "9        66\n",
       ".         1\n",
       "Name: Employment.Length, dtype: int64"
      ]
     },
     "execution_count": 35,
     "metadata": {},
     "output_type": "execute_result"
    }
   ],
   "source": [
    "#verifying the two replace operations we performed\n",
    "df_train['Employment.Length'].value_counts()"
   ]
  },
  {
   "cell_type": "code",
   "execution_count": 36,
   "metadata": {
    "ExecuteTime": {
     "end_time": "2019-11-10T12:18:43.092307Z",
     "start_time": "2019-11-10T12:18:43.087761Z"
    }
   },
   "outputs": [
    {
     "data": {
      "text/plain": [
       "'78'"
      ]
     },
     "execution_count": 36,
     "metadata": {},
     "output_type": "execute_result"
    }
   ],
   "source": [
    "\"78+00\"[:2] #take index 0 and index 1. "
   ]
  },
  {
   "cell_type": "code",
   "execution_count": 37,
   "metadata": {
    "ExecuteTime": {
     "end_time": "2019-11-10T12:18:43.737441Z",
     "start_time": "2019-11-10T12:18:43.720507Z"
    }
   },
   "outputs": [],
   "source": [
    "#np.where(condition, value_if_True, value_if_False)\n",
    "df_train['Employment.Length'] = np.where(df_train['Employment.Length'].str[:2]==\"10\",10,\n",
    "                                         df_train['Employment.Length'])\n",
    "\n",
    "df_train['Employment.Length']=np.where(df_train['Employment.Length'].str[0]==\"<\",0,\n",
    "                                       df_train['Employment.Length'])"
   ]
  },
  {
   "cell_type": "code",
   "execution_count": 38,
   "metadata": {
    "ExecuteTime": {
     "end_time": "2019-11-10T12:26:09.142550Z",
     "start_time": "2019-11-10T12:26:09.134935Z"
    }
   },
   "outputs": [
    {
     "data": {
      "text/plain": [
       "10    575\n",
       "0     229\n",
       "2     217\n",
       "3     203\n",
       "5     181\n",
       "4     162\n",
       "1     159\n",
       "6     134\n",
       "7     109\n",
       "8      95\n",
       "9      66\n",
       ".       1\n",
       "Name: Employment.Length, dtype: int64"
      ]
     },
     "execution_count": 38,
     "metadata": {},
     "output_type": "execute_result"
    }
   ],
   "source": [
    "df_train['Employment.Length'].value_counts()"
   ]
  },
  {
   "cell_type": "code",
   "execution_count": 39,
   "metadata": {
    "ExecuteTime": {
     "end_time": "2019-11-10T12:26:59.826545Z",
     "start_time": "2019-11-10T12:26:59.821593Z"
    }
   },
   "outputs": [],
   "source": [
    "df_train['Employment.Length']=pd.to_numeric(df_train['Employment.Length'],errors='coerce')"
   ]
  },
  {
   "cell_type": "code",
   "execution_count": 40,
   "metadata": {},
   "outputs": [
    {
     "data": {
      "text/plain": [
       "10.0    575\n",
       "0.0     229\n",
       "2.0     217\n",
       "3.0     203\n",
       "5.0     181\n",
       "4.0     162\n",
       "1.0     159\n",
       "6.0     134\n",
       "7.0     109\n",
       "8.0      95\n",
       "9.0      66\n",
       "Name: Employment.Length, dtype: int64"
      ]
     },
     "execution_count": 40,
     "metadata": {},
     "output_type": "execute_result"
    }
   ],
   "source": [
    "df_train['Employment.Length'].value_counts()"
   ]
  },
  {
   "cell_type": "code",
   "execution_count": 41,
   "metadata": {
    "ExecuteTime": {
     "end_time": "2019-11-10T12:27:01.028889Z",
     "start_time": "2019-11-10T12:27:01.022967Z"
    }
   },
   "outputs": [
    {
     "data": {
      "text/plain": [
       "Amount.Requested                  float64\n",
       "Interest.Rate                     float64\n",
       "Loan.Length                        object\n",
       "Loan.Purpose                       object\n",
       "Debt.To.Income.Ratio              float64\n",
       "State                              object\n",
       "Home.Ownership                     object\n",
       "Monthly.Income                    float64\n",
       "Open.CREDIT.Lines                 float64\n",
       "Revolving.CREDIT.Balance          float64\n",
       "Inquiries.in.the.Last.6.Months    float64\n",
       "Employment.Length                 float64\n",
       "fico                              float64\n",
       "dtype: object"
      ]
     },
     "execution_count": 41,
     "metadata": {},
     "output_type": "execute_result"
    }
   ],
   "source": [
    "df_train.dtypes"
   ]
  },
  {
   "cell_type": "markdown",
   "metadata": {},
   "source": [
    "#### Operation 6: One hot encoding"
   ]
  },
  {
   "cell_type": "code",
   "execution_count": 42,
   "metadata": {
    "ExecuteTime": {
     "end_time": "2019-11-10T12:32:08.095926Z",
     "start_time": "2019-11-10T12:32:08.085376Z"
    }
   },
   "outputs": [
    {
     "data": {
      "text/plain": [
       "Index(['Loan.Length', 'Loan.Purpose', 'State', 'Home.Ownership'], dtype='object')"
      ]
     },
     "execution_count": 42,
     "metadata": {},
     "output_type": "execute_result"
    }
   ],
   "source": [
    "# Notice that to apply string function on pandas data frame columns you need to str attribute\n",
    "cat_cols=df_train.select_dtypes(['object']).columns\n",
    "cat_cols"
   ]
  },
  {
   "cell_type": "code",
   "execution_count": 43,
   "metadata": {
    "ExecuteTime": {
     "end_time": "2019-11-10T12:32:30.843695Z",
     "start_time": "2019-11-10T12:32:30.824258Z"
    }
   },
   "outputs": [
    {
     "name": "stdout",
     "output_type": "stream",
     "text": [
      "**************************************************\n",
      "Loan.Length\n",
      "--------------------------------------------------\n",
      "3\n",
      "--------------------------------------------------\n",
      "36 months    1722\n",
      "60 months     476\n",
      ".               1\n",
      "Name: Loan.Length, dtype: int64\n",
      "**************************************************\n",
      "Loan.Purpose\n",
      "--------------------------------------------------\n",
      "14\n",
      "--------------------------------------------------\n",
      "debt_consolidation    1147\n",
      "credit_card            394\n",
      "other                  174\n",
      "home_improvement       135\n",
      "major_purchase          84\n",
      "small_business          80\n",
      "car                     45\n",
      "wedding                 35\n",
      "medical                 26\n",
      "moving                  25\n",
      "house                   19\n",
      "vacation                18\n",
      "educational             14\n",
      "renewable_energy         3\n",
      "Name: Loan.Purpose, dtype: int64\n",
      "**************************************************\n",
      "State\n",
      "--------------------------------------------------\n",
      "46\n",
      "--------------------------------------------------\n",
      "CA    376\n",
      "NY    231\n",
      "FL    149\n",
      "TX    146\n",
      "PA     88\n",
      "IL     87\n",
      "GA     82\n",
      "NJ     81\n",
      "VA     70\n",
      "MA     64\n",
      "NC     59\n",
      "OH     59\n",
      "MD     59\n",
      "CO     54\n",
      "WA     52\n",
      "AZ     44\n",
      "CT     44\n",
      "MI     38\n",
      "AL     34\n",
      "MN     30\n",
      "NV     29\n",
      "MO     29\n",
      "SC     27\n",
      "OR     25\n",
      "WI     25\n",
      "KS     21\n",
      "LA     20\n",
      "KY     20\n",
      "OK     20\n",
      "NH     14\n",
      "RI     13\n",
      "UT     13\n",
      "WV     12\n",
      "NM     12\n",
      "HI     12\n",
      "AR     11\n",
      "DC      9\n",
      "AK      8\n",
      "MT      7\n",
      "DE      7\n",
      "VT      5\n",
      "WY      4\n",
      "SD      4\n",
      "IN      3\n",
      "MS      1\n",
      ".       1\n",
      "Name: State, dtype: int64\n",
      "**************************************************\n",
      "Home.Ownership\n",
      "--------------------------------------------------\n",
      "5\n",
      "--------------------------------------------------\n",
      "MORTGAGE    1018\n",
      "RENT         999\n",
      "OWN          177\n",
      "OTHER          4\n",
      "NONE           1\n",
      "Name: Home.Ownership, dtype: int64\n",
      "**************************************************\n"
     ]
    }
   ],
   "source": [
    "print(\"*\"*50)\n",
    "for col in cat_cols:\n",
    "    print(col)\n",
    "    print(\"-\"*50)\n",
    "    print(df_train[col].nunique())\n",
    "    print(\"-\"*50)\n",
    "    print(df_train[col].value_counts())\n",
    "    print(\"*\"*50)"
   ]
  },
  {
   "cell_type": "code",
   "execution_count": 44,
   "metadata": {
    "ExecuteTime": {
     "end_time": "2019-11-10T12:38:02.798705Z",
     "start_time": "2019-11-10T12:38:02.280921Z"
    }
   },
   "outputs": [
    {
     "name": "stdout",
     "output_type": "stream",
     "text": [
      "Loan.Length\n",
      "Loan.Purpose\n",
      "State\n",
      "Home.Ownership\n"
     ]
    }
   ],
   "source": [
    "# you can use following method if you want to ignore categories with too low frequencies ,\n",
    "# in next section for logistic regression we will be using  pandas' get dummies function. \n",
    "# you can work with either of these . \n",
    "# ignoring categories with low frequencies however will result in fewer columns without \n",
    "# affecting model performance too much .\n",
    "to_store = []\n",
    "new_cols = []\n",
    "\n",
    "for col in cat_cols:\n",
    "    \n",
    "    freqs = df_train[col].value_counts()\n",
    "    categories = freqs.index[freqs>20]\n",
    "    to_store.append((col, categories))\n",
    "    \n",
    "    for category in categories:\n",
    "        name=col+'.'+category\n",
    "        new_cols.append(name)\n",
    "        df_train[name]=(df_train[col]==category).astype(int)\n",
    "    del df_train[col]\n",
    "    print(col)"
   ]
  },
  {
   "cell_type": "code",
   "execution_count": 45,
   "metadata": {
    "ExecuteTime": {
     "end_time": "2019-11-10T12:43:20.500697Z",
     "start_time": "2019-11-10T12:43:20.496200Z"
    }
   },
   "outputs": [
    {
     "data": {
      "text/plain": [
       "(2200, 50)"
      ]
     },
     "execution_count": 45,
     "metadata": {},
     "output_type": "execute_result"
    }
   ],
   "source": [
    "df_train.shape"
   ]
  },
  {
   "cell_type": "code",
   "execution_count": 46,
   "metadata": {},
   "outputs": [
    {
     "data": {
      "text/plain": [
       "['Loan.Length.36 months',\n",
       " 'Loan.Length.60 months',\n",
       " 'Loan.Purpose.debt_consolidation',\n",
       " 'Loan.Purpose.credit_card',\n",
       " 'Loan.Purpose.other',\n",
       " 'Loan.Purpose.home_improvement',\n",
       " 'Loan.Purpose.major_purchase',\n",
       " 'Loan.Purpose.small_business',\n",
       " 'Loan.Purpose.car',\n",
       " 'Loan.Purpose.wedding',\n",
       " 'Loan.Purpose.medical',\n",
       " 'Loan.Purpose.moving',\n",
       " 'State.CA',\n",
       " 'State.NY',\n",
       " 'State.FL',\n",
       " 'State.TX',\n",
       " 'State.PA',\n",
       " 'State.IL',\n",
       " 'State.GA',\n",
       " 'State.NJ',\n",
       " 'State.VA',\n",
       " 'State.MA',\n",
       " 'State.NC',\n",
       " 'State.OH',\n",
       " 'State.MD',\n",
       " 'State.CO',\n",
       " 'State.WA',\n",
       " 'State.AZ',\n",
       " 'State.CT',\n",
       " 'State.MI',\n",
       " 'State.AL',\n",
       " 'State.MN',\n",
       " 'State.NV',\n",
       " 'State.MO',\n",
       " 'State.SC',\n",
       " 'State.OR',\n",
       " 'State.WI',\n",
       " 'State.KS',\n",
       " 'Home.Ownership.MORTGAGE',\n",
       " 'Home.Ownership.RENT',\n",
       " 'Home.Ownership.OWN']"
      ]
     },
     "execution_count": 46,
     "metadata": {},
     "output_type": "execute_result"
    }
   ],
   "source": [
    "new_cols #we are storing all categorical feature names so that extracting numerical feature name is easy. "
   ]
  },
  {
   "cell_type": "code",
   "execution_count": 47,
   "metadata": {},
   "outputs": [
    {
     "data": {
      "text/plain": [
       "[('Loan.Length', Index(['36 months', '60 months'], dtype='object')),\n",
       " ('Loan.Purpose',\n",
       "  Index(['debt_consolidation', 'credit_card', 'other', 'home_improvement',\n",
       "         'major_purchase', 'small_business', 'car', 'wedding', 'medical',\n",
       "         'moving'],\n",
       "        dtype='object')),\n",
       " ('State',\n",
       "  Index(['CA', 'NY', 'FL', 'TX', 'PA', 'IL', 'GA', 'NJ', 'VA', 'MA', 'NC', 'OH',\n",
       "         'MD', 'CO', 'WA', 'AZ', 'CT', 'MI', 'AL', 'MN', 'NV', 'MO', 'SC', 'OR',\n",
       "         'WI', 'KS'],\n",
       "        dtype='object')),\n",
       " ('Home.Ownership', Index(['MORTGAGE', 'RENT', 'OWN'], dtype='object'))]"
      ]
     },
     "execution_count": 47,
     "metadata": {},
     "output_type": "execute_result"
    }
   ],
   "source": [
    "to_store #we are storing \"features\" used for one-hot-encoding, and for each feature the corresponding categories\n",
    "         #used. This will help in replicating the same procedure for the test dataset. "
   ]
  },
  {
   "cell_type": "code",
   "execution_count": 48,
   "metadata": {
    "ExecuteTime": {
     "end_time": "2019-11-10T12:43:39.370588Z",
     "start_time": "2019-11-10T12:43:39.365368Z"
    }
   },
   "outputs": [
    {
     "data": {
      "text/plain": [
       "array([dtype('float64'), dtype('int64')], dtype=object)"
      ]
     },
     "execution_count": 48,
     "metadata": {},
     "output_type": "execute_result"
    }
   ],
   "source": [
    "df_train.dtypes.unique() #mission successful"
   ]
  },
  {
   "cell_type": "code",
   "execution_count": 49,
   "metadata": {
    "ExecuteTime": {
     "end_time": "2019-11-10T12:44:07.652762Z",
     "start_time": "2019-11-10T12:44:07.645451Z"
    }
   },
   "outputs": [
    {
     "data": {
      "text/plain": [
       "Amount.Requested                   float64\n",
       "Interest.Rate                      float64\n",
       "Debt.To.Income.Ratio               float64\n",
       "Monthly.Income                     float64\n",
       "Open.CREDIT.Lines                  float64\n",
       "Revolving.CREDIT.Balance           float64\n",
       "Inquiries.in.the.Last.6.Months     float64\n",
       "Employment.Length                  float64\n",
       "fico                               float64\n",
       "Loan.Length.36 months                int64\n",
       "Loan.Length.60 months                int64\n",
       "Loan.Purpose.debt_consolidation      int64\n",
       "Loan.Purpose.credit_card             int64\n",
       "Loan.Purpose.other                   int64\n",
       "Loan.Purpose.home_improvement        int64\n",
       "Loan.Purpose.major_purchase          int64\n",
       "Loan.Purpose.small_business          int64\n",
       "Loan.Purpose.car                     int64\n",
       "Loan.Purpose.wedding                 int64\n",
       "Loan.Purpose.medical                 int64\n",
       "Loan.Purpose.moving                  int64\n",
       "State.CA                             int64\n",
       "State.NY                             int64\n",
       "State.FL                             int64\n",
       "State.TX                             int64\n",
       "State.PA                             int64\n",
       "State.IL                             int64\n",
       "State.GA                             int64\n",
       "State.NJ                             int64\n",
       "State.VA                             int64\n",
       "State.MA                             int64\n",
       "State.NC                             int64\n",
       "State.OH                             int64\n",
       "State.MD                             int64\n",
       "State.CO                             int64\n",
       "State.WA                             int64\n",
       "State.AZ                             int64\n",
       "State.CT                             int64\n",
       "State.MI                             int64\n",
       "State.AL                             int64\n",
       "State.MN                             int64\n",
       "State.NV                             int64\n",
       "State.MO                             int64\n",
       "State.SC                             int64\n",
       "State.OR                             int64\n",
       "State.WI                             int64\n",
       "State.KS                             int64\n",
       "Home.Ownership.MORTGAGE              int64\n",
       "Home.Ownership.RENT                  int64\n",
       "Home.Ownership.OWN                   int64\n",
       "dtype: object"
      ]
     },
     "execution_count": 49,
     "metadata": {},
     "output_type": "execute_result"
    }
   ],
   "source": [
    "df_train.dtypes"
   ]
  },
  {
   "cell_type": "markdown",
   "metadata": {},
   "source": [
    "### 2.2. Correlation Coefficient"
   ]
  },
  {
   "cell_type": "code",
   "execution_count": 50,
   "metadata": {},
   "outputs": [
    {
     "data": {
      "text/plain": [
       "Index(['Amount.Requested', 'Interest.Rate', 'Debt.To.Income.Ratio',\n",
       "       'Monthly.Income', 'Open.CREDIT.Lines', 'Revolving.CREDIT.Balance',\n",
       "       'Inquiries.in.the.Last.6.Months', 'Employment.Length', 'fico'],\n",
       "      dtype='object')"
      ]
     },
     "execution_count": 50,
     "metadata": {},
     "output_type": "execute_result"
    }
   ],
   "source": [
    "df_train.columns.drop(new_cols) #list of all numerical features"
   ]
  },
  {
   "cell_type": "code",
   "execution_count": 51,
   "metadata": {},
   "outputs": [
    {
     "data": {
      "text/plain": [
       "(2200, 9)"
      ]
     },
     "execution_count": 51,
     "metadata": {},
     "output_type": "execute_result"
    }
   ],
   "source": [
    "numerical = df_train[df_train.columns.drop(new_cols)]\n",
    "numerical.shape"
   ]
  },
  {
   "cell_type": "code",
   "execution_count": 52,
   "metadata": {},
   "outputs": [
    {
     "data": {
      "image/png": "[encoded data removed]",
      "text/plain": [
       "<Figure size 720x576 with 2 Axes>"
      ]
     },
     "metadata": {
      "needs_background": "light"
     },
     "output_type": "display_data"
    }
   ],
   "source": [
    "ax, fig = plt.subplots(figsize=(10,8))\n",
    "sns.heatmap(numerical.corr(), annot=True, cmap='coolwarm')\n",
    "plt.show()"
   ]
  },
  {
   "cell_type": "markdown",
   "metadata": {},
   "source": [
    "### 2.3. Outliers"
   ]
  },
  {
   "cell_type": "code",
   "execution_count": 53,
   "metadata": {},
   "outputs": [
    {
     "data": {
      "image/png": "[encoded data removed]",
      "text/plain": [
       "<Figure size 2160x1800 with 9 Axes>"
      ]
     },
     "metadata": {
      "needs_background": "light"
     },
     "output_type": "display_data"
    }
   ],
   "source": [
    "from scipy import stats\n",
    "\n",
    "fig, axs = plt.subplots(ncols=3, nrows=3, figsize=(30, 25))\n",
    "index = 0\n",
    "axs = axs.flatten()\n",
    "for k,v in numerical.items():\n",
    "    sns.boxplot(y=k, data=numerical, ax=axs[index])\n",
    "    index += 1\n",
    "plt.tight_layout(pad=0.4, w_pad=0.5, h_pad=5.0)"
   ]
  },
  {
   "cell_type": "code",
   "execution_count": 54,
   "metadata": {},
   "outputs": [
    {
     "name": "stdout",
     "output_type": "stream",
     "text": [
      "Column Amount.Requested outliers = 2.32%\n",
      "Column Interest.Rate outliers = 0.23%\n",
      "Column Debt.To.Income.Ratio outliers = 0.00%\n",
      "Column Monthly.Income outliers = 4.95%\n",
      "Column Open.CREDIT.Lines outliers = 1.55%\n",
      "Column Revolving.CREDIT.Balance outliers = 5.64%\n",
      "Column Inquiries.in.the.Last.6.Months outliers = 10.09%\n",
      "Column Employment.Length outliers = 0.00%\n",
      "Column fico outliers = 2.23%\n"
     ]
    }
   ],
   "source": [
    "for k, v in numerical.items(): #k=column_name, v=values\n",
    "    q1 = v.quantile(0.25)\n",
    "    q3 = v.quantile(0.75)\n",
    "    irq = q3 - q1\n",
    "    v_col = v[(v <= q1 - 1.5 * irq) | (v >= q3 + 1.5 * irq)]\n",
    "    perc = np.shape(v_col)[0] * 100.0 / np.shape(numerical)[0]\n",
    "    print(\"Column %s outliers = %.2f%%\" % (k, perc))"
   ]
  },
  {
   "cell_type": "markdown",
   "metadata": {},
   "source": [
    "### 2.4. Missing values: SimpleImputer"
   ]
  },
  {
   "cell_type": "code",
   "execution_count": 55,
   "metadata": {},
   "outputs": [
    {
     "data": {
      "text/plain": [
       "Amount.Requested                    5\n",
       "Interest.Rate                       0\n",
       "Debt.To.Income.Ratio                1\n",
       "Monthly.Income                      3\n",
       "Open.CREDIT.Lines                   7\n",
       "Revolving.CREDIT.Balance            5\n",
       "Inquiries.in.the.Last.6.Months      3\n",
       "Employment.Length                  70\n",
       "fico                                0\n",
       "Loan.Length.36 months               0\n",
       "Loan.Length.60 months               0\n",
       "Loan.Purpose.debt_consolidation     0\n",
       "Loan.Purpose.credit_card            0\n",
       "Loan.Purpose.other                  0\n",
       "Loan.Purpose.home_improvement       0\n",
       "Loan.Purpose.major_purchase         0\n",
       "Loan.Purpose.small_business         0\n",
       "Loan.Purpose.car                    0\n",
       "Loan.Purpose.wedding                0\n",
       "Loan.Purpose.medical                0\n",
       "Loan.Purpose.moving                 0\n",
       "State.CA                            0\n",
       "State.NY                            0\n",
       "State.FL                            0\n",
       "State.TX                            0\n",
       "State.PA                            0\n",
       "State.IL                            0\n",
       "State.GA                            0\n",
       "State.NJ                            0\n",
       "State.VA                            0\n",
       "State.MA                            0\n",
       "State.NC                            0\n",
       "State.OH                            0\n",
       "State.MD                            0\n",
       "State.CO                            0\n",
       "State.WA                            0\n",
       "State.AZ                            0\n",
       "State.CT                            0\n",
       "State.MI                            0\n",
       "State.AL                            0\n",
       "State.MN                            0\n",
       "State.NV                            0\n",
       "State.MO                            0\n",
       "State.SC                            0\n",
       "State.OR                            0\n",
       "State.WI                            0\n",
       "State.KS                            0\n",
       "Home.Ownership.MORTGAGE             0\n",
       "Home.Ownership.RENT                 0\n",
       "Home.Ownership.OWN                  0\n",
       "dtype: int64"
      ]
     },
     "execution_count": 55,
     "metadata": {},
     "output_type": "execute_result"
    }
   ],
   "source": [
    "df_train.isnull().sum()"
   ]
  },
  {
   "cell_type": "code",
   "execution_count": 56,
   "metadata": {},
   "outputs": [],
   "source": [
    "from sklearn.impute import SimpleImputer\n",
    "imputer = SimpleImputer(missing_values=np.nan, strategy='mean')"
   ]
  },
  {
   "cell_type": "code",
   "execution_count": 57,
   "metadata": {},
   "outputs": [],
   "source": [
    "# imputer.fit(df_train) #learn the positions which has to be imputed\n",
    "# imputer.transform(df_train) #actually perform the imputer operation \n",
    "# imputer.fit(df_train) + imputer.transform(df_train) = imputer.fit_transform(df_train)"
   ]
  },
  {
   "cell_type": "code",
   "execution_count": 58,
   "metadata": {},
   "outputs": [],
   "source": [
    "#return type for imputer is always array. We have to convert that back to dataframe\n",
    "# How to convert array to dataframe:\n",
    "# new_df = pd.Dataframe(array)"
   ]
  },
  {
   "cell_type": "code",
   "execution_count": 59,
   "metadata": {},
   "outputs": [],
   "source": [
    "df_train = pd.DataFrame(imputer.fit_transform(df_train), columns=df_train.columns)"
   ]
  },
  {
   "cell_type": "code",
   "execution_count": 60,
   "metadata": {},
   "outputs": [
    {
     "data": {
      "text/plain": [
       "Amount.Requested                   0\n",
       "Interest.Rate                      0\n",
       "Debt.To.Income.Ratio               0\n",
       "Monthly.Income                     0\n",
       "Open.CREDIT.Lines                  0\n",
       "Revolving.CREDIT.Balance           0\n",
       "Inquiries.in.the.Last.6.Months     0\n",
       "Employment.Length                  0\n",
       "fico                               0\n",
       "Loan.Length.36 months              0\n",
       "Loan.Length.60 months              0\n",
       "Loan.Purpose.debt_consolidation    0\n",
       "Loan.Purpose.credit_card           0\n",
       "Loan.Purpose.other                 0\n",
       "Loan.Purpose.home_improvement      0\n",
       "Loan.Purpose.major_purchase        0\n",
       "Loan.Purpose.small_business        0\n",
       "Loan.Purpose.car                   0\n",
       "Loan.Purpose.wedding               0\n",
       "Loan.Purpose.medical               0\n",
       "Loan.Purpose.moving                0\n",
       "State.CA                           0\n",
       "State.NY                           0\n",
       "State.FL                           0\n",
       "State.TX                           0\n",
       "State.PA                           0\n",
       "State.IL                           0\n",
       "State.GA                           0\n",
       "State.NJ                           0\n",
       "State.VA                           0\n",
       "State.MA                           0\n",
       "State.NC                           0\n",
       "State.OH                           0\n",
       "State.MD                           0\n",
       "State.CO                           0\n",
       "State.WA                           0\n",
       "State.AZ                           0\n",
       "State.CT                           0\n",
       "State.MI                           0\n",
       "State.AL                           0\n",
       "State.MN                           0\n",
       "State.NV                           0\n",
       "State.MO                           0\n",
       "State.SC                           0\n",
       "State.OR                           0\n",
       "State.WI                           0\n",
       "State.KS                           0\n",
       "Home.Ownership.MORTGAGE            0\n",
       "Home.Ownership.RENT                0\n",
       "Home.Ownership.OWN                 0\n",
       "dtype: int64"
      ]
     },
     "execution_count": 60,
     "metadata": {},
     "output_type": "execute_result"
    }
   ],
   "source": [
    "df_train.isnull().sum()"
   ]
  },
  {
   "cell_type": "markdown",
   "metadata": {},
   "source": [
    "## Step 3: Defining Training and Test Set"
   ]
  },
  {
   "cell_type": "code",
   "execution_count": 61,
   "metadata": {},
   "outputs": [
    {
     "data": {
      "text/plain": [
       "((2200, 49), (2200,))"
      ]
     },
     "execution_count": 61,
     "metadata": {},
     "output_type": "execute_result"
    }
   ],
   "source": [
    "#dataframe.values --> will return array\n",
    "X_train, y_train = df_train.loc[:,df_train.columns!=\"Interest.Rate\"].values, df_train[\"Interest.Rate\"].values\n",
    "X_train.shape, y_train.shape"
   ]
  },
  {
   "cell_type": "markdown",
   "metadata": {},
   "source": [
    "## Step 4: Data Scaling"
   ]
  },
  {
   "cell_type": "code",
   "execution_count": 62,
   "metadata": {},
   "outputs": [],
   "source": [
    "from sklearn.preprocessing import StandardScaler #mean=0, std_deviation=1.0\n",
    "std = StandardScaler().fit(X_train)\n",
    "X_train = std.transform(X_train)"
   ]
  },
  {
   "cell_type": "markdown",
   "metadata": {},
   "source": [
    "#### There are three different types of scaler: Standard, MixMax and Robust. Read about them here: http://benalexkeen.com/feature-scaling-with-scikit-learn/"
   ]
  },
  {
   "cell_type": "markdown",
   "metadata": {},
   "source": [
    "## Step 5: Test set pipeline"
   ]
  },
  {
   "cell_type": "code",
   "execution_count": 63,
   "metadata": {},
   "outputs": [],
   "source": [
    "def preprocessing(dataframe, to_store, std):\n",
    "    \n",
    "    #Operation1\n",
    "    dataframe = dataframe.drop(['ID','Amount.Funded.By.Investors'],axis=1)\n",
    "    \n",
    "    #Operation2\n",
    "    for col in ['Amount.Requested', 'Open.CREDIT.Lines','Revolving.CREDIT.Balance']:\n",
    "        dataframe[col]=pd.to_numeric(dataframe[col],errors='coerce')\n",
    "    \n",
    "    #Operation3\n",
    "    for col in ['Debt.To.Income.Ratio']:\n",
    "        dataframe[col] = dataframe[col].str.replace(\"%\",\"\") \n",
    "    \n",
    "    for col in ['Debt.To.Income.Ratio']:\n",
    "        dataframe[col]=pd.to_numeric(dataframe[col],errors='coerce') \n",
    "    \n",
    "    #Operation4\n",
    "    k=dataframe['FICO.Range'].str.split(\"-\",expand=True).astype(float)\n",
    "    dataframe['fico']=0.5*(k[0]+k[1])\n",
    "    del dataframe['FICO.Range']\n",
    "    \n",
    "    #Operation5\n",
    "    dataframe['Employment.Length']=dataframe['Employment.Length'].str.replace('years',\"\")\n",
    "    dataframe['Employment.Length']=dataframe['Employment.Length'].str.replace('year',\"\")\n",
    "    \n",
    "    dataframe['Employment.Length']=np.where(dataframe['Employment.Length'].str[:2]==\"10\",10,\n",
    "                                       dataframe['Employment.Length'])\n",
    "\n",
    "    dataframe['Employment.Length']=np.where(dataframe['Employment.Length'].str[0]==\"<\",0,\n",
    "                                       dataframe['Employment.Length'])\n",
    "    \n",
    "    dataframe['Employment.Length']=pd.to_numeric(dataframe['Employment.Length'],errors='coerce')\n",
    "    \n",
    "    #Operation6\n",
    "    for column, categories in to_store:\n",
    "        for category in categories:\n",
    "            name=column+'.'+category\n",
    "            dataframe[name]=(dataframe[column]==category).astype(int)\n",
    "        del dataframe[column]\n",
    "    \n",
    "    #Missing values\n",
    "    imputer = SimpleImputer(missing_values=np.nan, strategy='mean')\n",
    "    dataframe = pd.DataFrame(imputer.fit_transform(dataframe), columns=dataframe.columns)\n",
    "    \n",
    "    #data scaling\n",
    "    X_test = dataframe.values\n",
    "    X_test = std.transform(X_test) #standard scaling\n",
    "    \n",
    "    return X_test"
   ]
  },
  {
   "cell_type": "code",
   "execution_count": 64,
   "metadata": {},
   "outputs": [
    {
     "data": {
      "text/plain": [
       "(300, 49)"
      ]
     },
     "execution_count": 64,
     "metadata": {},
     "output_type": "execute_result"
    }
   ],
   "source": [
    "X_test = preprocessing(df_test, to_store, std)\n",
    "X_test.shape"
   ]
  },
  {
   "cell_type": "markdown",
   "metadata": {},
   "source": [
    "## Step 6: Modelling"
   ]
  },
  {
   "cell_type": "markdown",
   "metadata": {},
   "source": [
    "### Linear Regression"
   ]
  },
  {
   "cell_type": "code",
   "execution_count": 80,
   "metadata": {},
   "outputs": [
    {
     "data": {
      "text/plain": [
       "LinearRegression(copy_X=True, fit_intercept=True, n_jobs=None, normalize=False)"
      ]
     },
     "execution_count": 80,
     "metadata": {},
     "output_type": "execute_result"
    }
   ],
   "source": [
    "from sklearn.linear_model import LinearRegression\n",
    "lm=LinearRegression()\n",
    "lm.fit(X_train, y_train)"
   ]
  },
  {
   "cell_type": "code",
   "execution_count": 82,
   "metadata": {},
   "outputs": [],
   "source": [
    "test_pred = lm.predict(X_test)"
   ]
  },
  {
   "cell_type": "markdown",
   "metadata": {},
   "source": [
    "We can write these to a csv file for submission like this :"
   ]
  },
  {
   "cell_type": "code",
   "execution_count": 67,
   "metadata": {},
   "outputs": [],
   "source": [
    "pd.DataFrame(test_pred).to_csv(\"mysubmission.csv\",index=False)"
   ]
  },
  {
   "cell_type": "markdown",
   "metadata": {},
   "source": [
    "### Ridge  Regression"
   ]
  },
  {
   "cell_type": "code",
   "execution_count": 115,
   "metadata": {},
   "outputs": [],
   "source": [
    "from sklearn.linear_model import Ridge\n",
    "from sklearn.model_selection import GridSearchCV"
   ]
  },
  {
   "cell_type": "code",
   "execution_count": 116,
   "metadata": {},
   "outputs": [],
   "source": [
    "model=Ridge()"
   ]
  },
  {
   "cell_type": "code",
   "execution_count": 122,
   "metadata": {},
   "outputs": [
    {
     "data": {
      "text/plain": [
       "array([  1.,   2.,   3.,   4.,   5.,   6.,   7.,   8.,   9.,  10.,  11.,\n",
       "        12.,  13.,  14.,  15.,  16.,  17.,  18.,  19.,  20.,  21.,  22.,\n",
       "        23.,  24.,  25.,  26.,  27.,  28.,  29.,  30.,  31.,  32.,  33.,\n",
       "        34.,  35.,  36.,  37.,  38.,  39.,  40.,  41.,  42.,  43.,  44.,\n",
       "        45.,  46.,  47.,  48.,  49.,  50.,  51.,  52.,  53.,  54.,  55.,\n",
       "        56.,  57.,  58.,  59.,  60.,  61.,  62.,  63.,  64.,  65.,  66.,\n",
       "        67.,  68.,  69.,  70.,  71.,  72.,  73.,  74.,  75.,  76.,  77.,\n",
       "        78.,  79.,  80.,  81.,  82.,  83.,  84.,  85.,  86.,  87.,  88.,\n",
       "        89.,  90.,  91.,  92.,  93.,  94.,  95.,  96.,  97.,  98.,  99.,\n",
       "       100.])"
      ]
     },
     "execution_count": 122,
     "metadata": {},
     "output_type": "execute_result"
    }
   ],
   "source": [
    "alpha=np.linspace(1,100,100) #defiing range for values for lambda\n",
    "params={'alpha':alpha}\n",
    "alpha"
   ]
  },
  {
   "cell_type": "code",
   "execution_count": 118,
   "metadata": {},
   "outputs": [],
   "source": [
    "#GridSearchCV by default choses best model based on max score obtained. \n",
    "grid_search = GridSearchCV(model, param_grid=params, cv=10, scoring='neg_mean_absolute_error')"
   ]
  },
  {
   "cell_type": "code",
   "execution_count": 119,
   "metadata": {},
   "outputs": [
    {
     "data": {
      "text/plain": [
       "GridSearchCV(cv=10, error_score='raise-deprecating',\n",
       "             estimator=Ridge(alpha=1.0, copy_X=True, fit_intercept=True,\n",
       "                             max_iter=None, normalize=False, random_state=None,\n",
       "                             solver='auto', tol=0.001),\n",
       "             iid='warn', n_jobs=None,\n",
       "             param_grid={'alpha': array([3.        , 3.02020202, 3.04040404, 3.06060606, 3.08080808,\n",
       "       3.1010101 , 3.12121212, 3.14141414, 3.16161616, 3.18181818,\n",
       "       3.2020202 , 3.222222...\n",
       "       4.51515152, 4.53535354, 4.55555556, 4.57575758, 4.5959596 ,\n",
       "       4.61616162, 4.63636364, 4.65656566, 4.67676768, 4.6969697 ,\n",
       "       4.71717172, 4.73737374, 4.75757576, 4.77777778, 4.7979798 ,\n",
       "       4.81818182, 4.83838384, 4.85858586, 4.87878788, 4.8989899 ,\n",
       "       4.91919192, 4.93939394, 4.95959596, 4.97979798, 5.        ])},\n",
       "             pre_dispatch='2*n_jobs', refit=True, return_train_score=False,\n",
       "             scoring='neg_mean_absolute_error', verbose=0)"
      ]
     },
     "execution_count": 119,
     "metadata": {},
     "output_type": "execute_result"
    }
   ],
   "source": [
    "grid_search.fit(X_train, y_train)"
   ]
  },
  {
   "cell_type": "code",
   "execution_count": 120,
   "metadata": {},
   "outputs": [
    {
     "data": {
      "text/plain": [
       "Ridge(alpha=3.3434343434343434, copy_X=True, fit_intercept=True, max_iter=None,\n",
       "      normalize=False, random_state=None, solver='auto', tol=0.001)"
      ]
     },
     "execution_count": 120,
     "metadata": {},
     "output_type": "execute_result"
    }
   ],
   "source": [
    "grid_search.best_estimator_"
   ]
  },
  {
   "cell_type": "code",
   "execution_count": 121,
   "metadata": {},
   "outputs": [
    {
     "data": {
      "text/plain": [
       "{'mean_fit_time': array([0.00316699, 0.00302832, 0.00295844, 0.00209534, 0.00202231,\n",
       "        0.00200248, 0.00203383, 0.00199537, 0.00200913, 0.00202975,\n",
       "        0.0019861 , 0.00199635, 0.0019953 , 0.00199323, 0.00196211,\n",
       "        0.00200844, 0.00197475, 0.00197086, 0.00199268, 0.00198717,\n",
       "        0.00196667, 0.00252721, 0.00222263, 0.00220964, 0.00224793,\n",
       "        0.00207241, 0.00200543, 0.00208757, 0.00198991, 0.00198154,\n",
       "        0.00200114, 0.00203948, 0.00199614, 0.00198894, 0.00206077,\n",
       "        0.00216308, 0.00286968, 0.00299101, 0.00243125, 0.00237513,\n",
       "        0.00275633, 0.00259256, 0.0024595 , 0.00201547, 0.00204418,\n",
       "        0.00200946, 0.00199108, 0.00201094, 0.00201557, 0.00201154,\n",
       "        0.00202594, 0.00203381, 0.00200164, 0.00199201, 0.00196247,\n",
       "        0.00196872, 0.0019907 , 0.00197637, 0.00202518, 0.00204234,\n",
       "        0.00203598, 0.00201998, 0.00221426, 0.0020292 , 0.00202496,\n",
       "        0.00202072, 0.00202777, 0.00228744, 0.00201905, 0.00200782,\n",
       "        0.00225468, 0.00223486, 0.00226779, 0.00237899, 0.00215123,\n",
       "        0.00202365, 0.00202363, 0.00203424, 0.00202334, 0.00202482,\n",
       "        0.00227613, 0.00231979, 0.00224082, 0.00227675, 0.00207779,\n",
       "        0.00202823, 0.00201824, 0.00203023, 0.00202985, 0.0020443 ,\n",
       "        0.00203185, 0.00203834, 0.00201881, 0.00202296, 0.00212157,\n",
       "        0.00317385, 0.00291219, 0.00369661, 0.00269852, 0.00229273]),\n",
       " 'std_fit_time': array([1.65355241e-04, 1.63079844e-04, 9.81996638e-04, 2.38741209e-04,\n",
       "        3.99960651e-05, 5.10229128e-05, 1.35263719e-04, 3.25377689e-05,\n",
       "        6.22515841e-05, 8.70409515e-05, 3.19039428e-05, 2.46986113e-05,\n",
       "        7.95632806e-05, 5.56741638e-05, 2.56696217e-05, 7.58789368e-05,\n",
       "        2.90297604e-05, 5.28686627e-05, 4.91325624e-05, 2.36839309e-05,\n",
       "        1.82114343e-05, 5.99747966e-04, 2.26946416e-04, 2.25620188e-04,\n",
       "        3.27674905e-04, 2.07180671e-04, 6.42076063e-05, 2.64153937e-04,\n",
       "        5.10135593e-05, 3.05322522e-05, 8.66752505e-05, 2.07266578e-04,\n",
       "        5.77648611e-05, 3.46734395e-05, 2.23586301e-04, 3.15503373e-04,\n",
       "        9.84508257e-04, 9.79204190e-04, 5.20237886e-04, 5.03404759e-04,\n",
       "        8.66573758e-04, 7.47172407e-04, 5.02150298e-04, 3.38999446e-05,\n",
       "        1.02548232e-04, 7.65778838e-05, 3.00857041e-05, 9.84547061e-05,\n",
       "        1.00527036e-04, 3.06012824e-05, 2.03143822e-05, 3.58826219e-05,\n",
       "        3.45756675e-05, 3.26313868e-05, 1.54346524e-05, 1.41894913e-05,\n",
       "        2.91421634e-05, 3.26802652e-05, 3.04733642e-05, 5.16613836e-05,\n",
       "        3.43140994e-05, 3.13159332e-05, 5.34964137e-04, 2.97288848e-05,\n",
       "        2.69777865e-05, 3.01246852e-05, 2.08652221e-05, 4.67489953e-04,\n",
       "        3.97810884e-05, 4.68371099e-05, 2.74290764e-04, 2.17124726e-04,\n",
       "        3.35091741e-04, 4.59345179e-04, 2.76457121e-04, 2.82903110e-05,\n",
       "        3.16276511e-05, 4.88491451e-05, 2.94499064e-05, 2.79698732e-05,\n",
       "        2.73952633e-04, 3.01696521e-04, 2.07112535e-04, 2.82393722e-04,\n",
       "        9.49710386e-05, 3.05810284e-05, 2.32478165e-05, 3.25100497e-05,\n",
       "        2.86091963e-05, 3.94480381e-05, 3.37117126e-05, 3.68109639e-05,\n",
       "        2.30256685e-05, 2.86184637e-05, 2.84512339e-04, 1.32508831e-03,\n",
       "        1.24295666e-03, 1.31746249e-03, 5.75170729e-04, 3.31905384e-04]),\n",
       " 'mean_score_time': array([0.00061476, 0.00059185, 0.00060649, 0.00045445, 0.00035481,\n",
       "        0.00035534, 0.00035274, 0.00035849, 0.00035577, 0.00035586,\n",
       "        0.00036392, 0.00035253, 0.00037525, 0.00035033, 0.00034902,\n",
       "        0.00035713, 0.00034971, 0.000352  , 0.0003567 , 0.00034928,\n",
       "        0.00034764, 0.00046244, 0.00039227, 0.0004066 , 0.00039582,\n",
       "        0.0003715 , 0.00036025, 0.000349  , 0.00034659, 0.00035529,\n",
       "        0.00036092, 0.0003571 , 0.00035572, 0.00035841, 0.00038404,\n",
       "        0.00038285, 0.00040789, 0.00053957, 0.00045583, 0.00048416,\n",
       "        0.00046544, 0.00049574, 0.00044158, 0.00035219, 0.00036032,\n",
       "        0.00035748, 0.00034914, 0.00036736, 0.0003653 , 0.00035667,\n",
       "        0.00037022, 0.00036156, 0.00035219, 0.00034859, 0.00034792,\n",
       "        0.00035357, 0.00036845, 0.00034997, 0.00037153, 0.00037735,\n",
       "        0.00037684, 0.00037234, 0.00037251, 0.0003777 , 0.00037031,\n",
       "        0.0003716 , 0.00038013, 0.00040767, 0.00035324, 0.00035875,\n",
       "        0.00048268, 0.00043783, 0.0004221 , 0.00043237, 0.00038052,\n",
       "        0.00037434, 0.00037506, 0.00037656, 0.0003732 , 0.00037255,\n",
       "        0.00044363, 0.00043929, 0.00041957, 0.0004205 , 0.0003808 ,\n",
       "        0.00037587, 0.00037427, 0.00037193, 0.00037613, 0.00037405,\n",
       "        0.00037184, 0.00037148, 0.00037193, 0.00037193, 0.0003736 ,\n",
       "        0.0005549 , 0.00046036, 0.00056434, 0.00046134, 0.00038381]),\n",
       " 'std_score_time': array([3.60870364e-05, 3.48964015e-05, 3.32467007e-04, 2.83380364e-04,\n",
       "        6.37857707e-06, 9.19269820e-06, 1.02538007e-05, 1.57346147e-05,\n",
       "        7.83291214e-06, 1.21257355e-05, 3.00017740e-05, 7.35102902e-06,\n",
       "        7.06493792e-05, 3.39894932e-06, 5.52642746e-06, 1.07296043e-05,\n",
       "        3.01352030e-06, 7.59219998e-06, 1.28871583e-05, 4.58978987e-06,\n",
       "        5.22397904e-06, 1.13657725e-04, 6.67367674e-05, 1.03944605e-04,\n",
       "        6.92342923e-05, 4.66104115e-05, 2.26755999e-05, 6.01627920e-06,\n",
       "        4.37034978e-06, 1.55871058e-05, 3.57287245e-05, 2.40332077e-05,\n",
       "        1.13733409e-05, 2.06151572e-05, 1.07455325e-04, 7.35570428e-05,\n",
       "        1.06373959e-04, 2.60335282e-04, 1.69460488e-04, 2.18152272e-04,\n",
       "        1.84826007e-04, 2.28669074e-04, 1.35537196e-04, 5.56164677e-06,\n",
       "        1.40533748e-05, 1.85311828e-05, 4.17906353e-06, 5.26405115e-05,\n",
       "        2.53717699e-05, 8.48515612e-06, 8.65548106e-06, 1.04596217e-05,\n",
       "        1.03906745e-05, 4.27886630e-06, 6.49098687e-06, 1.13538322e-05,\n",
       "        5.44120300e-05, 8.88086005e-06, 1.04077561e-05, 1.06858611e-05,\n",
       "        1.23348842e-05, 8.68318370e-06, 9.23034073e-06, 1.24954083e-05,\n",
       "        4.01478765e-06, 1.18512022e-05, 1.74114788e-05, 8.33272388e-05,\n",
       "        8.87301577e-06, 2.01398229e-05, 1.09027033e-04, 9.83334415e-05,\n",
       "        7.85832266e-05, 7.50592467e-05, 2.70755764e-05, 9.09150411e-06,\n",
       "        8.98711552e-06, 1.41461601e-05, 1.06041605e-05, 1.03151241e-05,\n",
       "        1.24370112e-04, 8.81724159e-05, 7.58801954e-05, 8.49972801e-05,\n",
       "        1.36669382e-05, 1.15863825e-05, 1.03126991e-05, 7.68211152e-06,\n",
       "        1.92521194e-05, 1.24916092e-05, 1.02969228e-05, 5.21308643e-06,\n",
       "        6.85220140e-06, 9.82620126e-06, 9.33066880e-06, 1.65590936e-04,\n",
       "        9.27330251e-05, 8.07716262e-05, 1.06367397e-04, 2.48865602e-05]),\n",
       " 'param_alpha': masked_array(data=[3.0, 3.0202020202020203, 3.04040404040404,\n",
       "                    3.0606060606060606, 3.080808080808081,\n",
       "                    3.101010101010101, 3.121212121212121,\n",
       "                    3.1414141414141414, 3.1616161616161618,\n",
       "                    3.1818181818181817, 3.202020202020202,\n",
       "                    3.2222222222222223, 3.242424242424242,\n",
       "                    3.2626262626262625, 3.282828282828283,\n",
       "                    3.303030303030303, 3.323232323232323,\n",
       "                    3.3434343434343434, 3.3636363636363638,\n",
       "                    3.383838383838384, 3.404040404040404,\n",
       "                    3.4242424242424243, 3.4444444444444446,\n",
       "                    3.4646464646464645, 3.484848484848485,\n",
       "                    3.505050505050505, 3.525252525252525,\n",
       "                    3.5454545454545454, 3.5656565656565657,\n",
       "                    3.5858585858585856, 3.606060606060606,\n",
       "                    3.6262626262626263, 3.6464646464646466,\n",
       "                    3.666666666666667, 3.686868686868687,\n",
       "                    3.707070707070707, 3.7272727272727275,\n",
       "                    3.7474747474747474, 3.7676767676767677,\n",
       "                    3.787878787878788, 3.808080808080808,\n",
       "                    3.8282828282828283, 3.8484848484848486,\n",
       "                    3.8686868686868685, 3.888888888888889,\n",
       "                    3.909090909090909, 3.9292929292929295,\n",
       "                    3.94949494949495, 3.9696969696969697, 3.98989898989899,\n",
       "                    4.01010101010101, 4.03030303030303, 4.05050505050505,\n",
       "                    4.070707070707071, 4.090909090909091,\n",
       "                    4.111111111111111, 4.1313131313131315,\n",
       "                    4.151515151515151, 4.171717171717171,\n",
       "                    4.191919191919192, 4.212121212121212,\n",
       "                    4.232323232323233, 4.252525252525253,\n",
       "                    4.272727272727273, 4.292929292929293,\n",
       "                    4.313131313131313, 4.333333333333334,\n",
       "                    4.353535353535354, 4.373737373737374,\n",
       "                    4.3939393939393945, 4.414141414141414,\n",
       "                    4.434343434343434, 4.454545454545455,\n",
       "                    4.474747474747475, 4.494949494949495,\n",
       "                    4.515151515151516, 4.5353535353535355,\n",
       "                    4.555555555555555, 4.575757575757576,\n",
       "                    4.595959595959596, 4.616161616161616,\n",
       "                    4.636363636363637, 4.656565656565657,\n",
       "                    4.6767676767676765, 4.696969696969697,\n",
       "                    4.717171717171717, 4.737373737373737,\n",
       "                    4.757575757575758, 4.777777777777778,\n",
       "                    4.7979797979797985, 4.818181818181818,\n",
       "                    4.838383838383838, 4.858585858585859,\n",
       "                    4.878787878787879, 4.8989898989899, 4.91919191919192,\n",
       "                    4.9393939393939394, 4.95959595959596, 4.97979797979798,\n",
       "                    5.0],\n",
       "              mask=[False, False, False, False, False, False, False, False,\n",
       "                    False, False, False, False, False, False, False, False,\n",
       "                    False, False, False, False, False, False, False, False,\n",
       "                    False, False, False, False, False, False, False, False,\n",
       "                    False, False, False, False, False, False, False, False,\n",
       "                    False, False, False, False, False, False, False, False,\n",
       "                    False, False, False, False, False, False, False, False,\n",
       "                    False, False, False, False, False, False, False, False,\n",
       "                    False, False, False, False, False, False, False, False,\n",
       "                    False, False, False, False, False, False, False, False,\n",
       "                    False, False, False, False, False, False, False, False,\n",
       "                    False, False, False, False, False, False, False, False,\n",
       "                    False, False, False, False],\n",
       "        fill_value='?',\n",
       "             dtype=object),\n",
       " 'params': [{'alpha': 3.0},\n",
       "  {'alpha': 3.0202020202020203},\n",
       "  {'alpha': 3.04040404040404},\n",
       "  {'alpha': 3.0606060606060606},\n",
       "  {'alpha': 3.080808080808081},\n",
       "  {'alpha': 3.101010101010101},\n",
       "  {'alpha': 3.121212121212121},\n",
       "  {'alpha': 3.1414141414141414},\n",
       "  {'alpha': 3.1616161616161618},\n",
       "  {'alpha': 3.1818181818181817},\n",
       "  {'alpha': 3.202020202020202},\n",
       "  {'alpha': 3.2222222222222223},\n",
       "  {'alpha': 3.242424242424242},\n",
       "  {'alpha': 3.2626262626262625},\n",
       "  {'alpha': 3.282828282828283},\n",
       "  {'alpha': 3.303030303030303},\n",
       "  {'alpha': 3.323232323232323},\n",
       "  {'alpha': 3.3434343434343434},\n",
       "  {'alpha': 3.3636363636363638},\n",
       "  {'alpha': 3.383838383838384},\n",
       "  {'alpha': 3.404040404040404},\n",
       "  {'alpha': 3.4242424242424243},\n",
       "  {'alpha': 3.4444444444444446},\n",
       "  {'alpha': 3.4646464646464645},\n",
       "  {'alpha': 3.484848484848485},\n",
       "  {'alpha': 3.505050505050505},\n",
       "  {'alpha': 3.525252525252525},\n",
       "  {'alpha': 3.5454545454545454},\n",
       "  {'alpha': 3.5656565656565657},\n",
       "  {'alpha': 3.5858585858585856},\n",
       "  {'alpha': 3.606060606060606},\n",
       "  {'alpha': 3.6262626262626263},\n",
       "  {'alpha': 3.6464646464646466},\n",
       "  {'alpha': 3.666666666666667},\n",
       "  {'alpha': 3.686868686868687},\n",
       "  {'alpha': 3.707070707070707},\n",
       "  {'alpha': 3.7272727272727275},\n",
       "  {'alpha': 3.7474747474747474},\n",
       "  {'alpha': 3.7676767676767677},\n",
       "  {'alpha': 3.787878787878788},\n",
       "  {'alpha': 3.808080808080808},\n",
       "  {'alpha': 3.8282828282828283},\n",
       "  {'alpha': 3.8484848484848486},\n",
       "  {'alpha': 3.8686868686868685},\n",
       "  {'alpha': 3.888888888888889},\n",
       "  {'alpha': 3.909090909090909},\n",
       "  {'alpha': 3.9292929292929295},\n",
       "  {'alpha': 3.94949494949495},\n",
       "  {'alpha': 3.9696969696969697},\n",
       "  {'alpha': 3.98989898989899},\n",
       "  {'alpha': 4.01010101010101},\n",
       "  {'alpha': 4.03030303030303},\n",
       "  {'alpha': 4.05050505050505},\n",
       "  {'alpha': 4.070707070707071},\n",
       "  {'alpha': 4.090909090909091},\n",
       "  {'alpha': 4.111111111111111},\n",
       "  {'alpha': 4.1313131313131315},\n",
       "  {'alpha': 4.151515151515151},\n",
       "  {'alpha': 4.171717171717171},\n",
       "  {'alpha': 4.191919191919192},\n",
       "  {'alpha': 4.212121212121212},\n",
       "  {'alpha': 4.232323232323233},\n",
       "  {'alpha': 4.252525252525253},\n",
       "  {'alpha': 4.272727272727273},\n",
       "  {'alpha': 4.292929292929293},\n",
       "  {'alpha': 4.313131313131313},\n",
       "  {'alpha': 4.333333333333334},\n",
       "  {'alpha': 4.353535353535354},\n",
       "  {'alpha': 4.373737373737374},\n",
       "  {'alpha': 4.3939393939393945},\n",
       "  {'alpha': 4.414141414141414},\n",
       "  {'alpha': 4.434343434343434},\n",
       "  {'alpha': 4.454545454545455},\n",
       "  {'alpha': 4.474747474747475},\n",
       "  {'alpha': 4.494949494949495},\n",
       "  {'alpha': 4.515151515151516},\n",
       "  {'alpha': 4.5353535353535355},\n",
       "  {'alpha': 4.555555555555555},\n",
       "  {'alpha': 4.575757575757576},\n",
       "  {'alpha': 4.595959595959596},\n",
       "  {'alpha': 4.616161616161616},\n",
       "  {'alpha': 4.636363636363637},\n",
       "  {'alpha': 4.656565656565657},\n",
       "  {'alpha': 4.6767676767676765},\n",
       "  {'alpha': 4.696969696969697},\n",
       "  {'alpha': 4.717171717171717},\n",
       "  {'alpha': 4.737373737373737},\n",
       "  {'alpha': 4.757575757575758},\n",
       "  {'alpha': 4.777777777777778},\n",
       "  {'alpha': 4.7979797979797985},\n",
       "  {'alpha': 4.818181818181818},\n",
       "  {'alpha': 4.838383838383838},\n",
       "  {'alpha': 4.858585858585859},\n",
       "  {'alpha': 4.878787878787879},\n",
       "  {'alpha': 4.8989898989899},\n",
       "  {'alpha': 4.91919191919192},\n",
       "  {'alpha': 4.9393939393939394},\n",
       "  {'alpha': 4.95959595959596},\n",
       "  {'alpha': 4.97979797979798},\n",
       "  {'alpha': 5.0}],\n",
       " 'split0_test_score': array([-1.7217957 , -1.72179862, -1.72180154, -1.72180446, -1.72180737,\n",
       "        -1.72181028, -1.72181319, -1.72181609, -1.72181899, -1.72182189,\n",
       "        -1.72182478, -1.72182767, -1.72183056, -1.72183345, -1.72183633,\n",
       "        -1.72183921, -1.72184208, -1.72184495, -1.72184782, -1.72185069,\n",
       "        -1.72185355, -1.72185641, -1.72185927, -1.72186213, -1.72186498,\n",
       "        -1.72186783, -1.72187067, -1.72187351, -1.72187635, -1.72187919,\n",
       "        -1.72188202, -1.72188486, -1.72188768, -1.72189051, -1.72189333,\n",
       "        -1.72189615, -1.72189897, -1.72190178, -1.7219046 , -1.7219074 ,\n",
       "        -1.72191021, -1.72191301, -1.72191581, -1.72191861, -1.72192141,\n",
       "        -1.7219242 , -1.72192699, -1.72192978, -1.72193256, -1.72193534,\n",
       "        -1.72193812, -1.7219409 , -1.72194367, -1.72194644, -1.72194921,\n",
       "        -1.72195198, -1.72195474, -1.7219575 , -1.72196026, -1.72196301,\n",
       "        -1.72196577, -1.72196852, -1.72197126, -1.72197401, -1.72197675,\n",
       "        -1.72197949, -1.72198223, -1.72198497, -1.7219877 , -1.72199043,\n",
       "        -1.72199316, -1.72199588, -1.72199861, -1.72200133, -1.72200405,\n",
       "        -1.72200676, -1.72200948, -1.72201219, -1.7220149 , -1.7220176 ,\n",
       "        -1.72202031, -1.72202301, -1.72202571, -1.72202841, -1.7220311 ,\n",
       "        -1.72203379, -1.72203648, -1.72203917, -1.72204186, -1.72204454,\n",
       "        -1.72204722, -1.7220499 , -1.72205258, -1.72205525, -1.72205792,\n",
       "        -1.72206059, -1.72206326, -1.72206593, -1.72206859, -1.72207125]),\n",
       " 'split1_test_score': array([-1.77146593, -1.77145565, -1.77144542, -1.77143522, -1.77142507,\n",
       "        -1.77141496, -1.77140489, -1.77139486, -1.77138487, -1.77137492,\n",
       "        -1.77136502, -1.77135515, -1.77134532, -1.77133554, -1.77132579,\n",
       "        -1.77131608, -1.77130641, -1.77129678, -1.77128719, -1.77127764,\n",
       "        -1.77126813, -1.77125865, -1.77124922, -1.77123982, -1.77123045,\n",
       "        -1.77122113, -1.77121184, -1.77120259, -1.77119338, -1.7711842 ,\n",
       "        -1.77117506, -1.77116596, -1.77115689, -1.77114786, -1.77113886,\n",
       "        -1.7711299 , -1.77112098, -1.77111209, -1.77110324, -1.77109442,\n",
       "        -1.77108578, -1.77107718, -1.77106862, -1.77106009, -1.7710516 ,\n",
       "        -1.77104313, -1.77103471, -1.77102631, -1.77101795, -1.77100963,\n",
       "        -1.77100134, -1.77099308, -1.77098485, -1.77097665, -1.77096849,\n",
       "        -1.77096036, -1.77095227, -1.7709442 , -1.77093617, -1.77092817,\n",
       "        -1.7709202 , -1.77091226, -1.77090436, -1.77089648, -1.77088864,\n",
       "        -1.77088083, -1.77087304, -1.77086529, -1.77085757, -1.77084988,\n",
       "        -1.77084222, -1.77083459, -1.77082699, -1.77081942, -1.77081188,\n",
       "        -1.77080437, -1.77079688, -1.77078943, -1.77078201, -1.77077461,\n",
       "        -1.77076725, -1.77075991, -1.7707526 , -1.77074532, -1.77073807,\n",
       "        -1.77073084, -1.77072365, -1.77071648, -1.77070934, -1.77070223,\n",
       "        -1.77069514, -1.77068809, -1.77068105, -1.77067405, -1.77066708,\n",
       "        -1.77066013, -1.7706532 , -1.77064631, -1.77063944, -1.7706326 ]),\n",
       " 'split2_test_score': array([-1.76974463, -1.76975389, -1.76976311, -1.76977227, -1.76978138,\n",
       "        -1.76979045, -1.76979946, -1.76980843, -1.76981735, -1.76982623,\n",
       "        -1.76983505, -1.76984384, -1.76985257, -1.76986126, -1.7698699 ,\n",
       "        -1.76987849, -1.76988704, -1.76989555, -1.769904  , -1.76991242,\n",
       "        -1.76992079, -1.76992911, -1.76993739, -1.76994563, -1.76995382,\n",
       "        -1.76996197, -1.76997008, -1.76997814, -1.76998616, -1.76999414,\n",
       "        -1.77000208, -1.77000997, -1.77001782, -1.77002563, -1.7700334 ,\n",
       "        -1.77004113, -1.77004881, -1.77005646, -1.77006406, -1.77007162,\n",
       "        -1.77007915, -1.77008663, -1.77009408, -1.77010148, -1.77010884,\n",
       "        -1.77011617, -1.77012346, -1.7701307 , -1.77013791, -1.77014508,\n",
       "        -1.77015221, -1.77015931, -1.77016637, -1.77017338, -1.77018036,\n",
       "        -1.77018731, -1.77019422, -1.77020108, -1.77020792, -1.77021471,\n",
       "        -1.77022147, -1.7702282 , -1.77023489, -1.77024154, -1.77024815,\n",
       "        -1.77025473, -1.77026128, -1.77026779, -1.77027427, -1.77028071,\n",
       "        -1.77028711, -1.77029348, -1.77029982, -1.77030612, -1.77031239,\n",
       "        -1.77031863, -1.77032483, -1.770331  , -1.77033713, -1.77034323,\n",
       "        -1.7703493 , -1.77035534, -1.77036134, -1.77036731, -1.77037325,\n",
       "        -1.77037915, -1.77038503, -1.77039087, -1.77039668, -1.77040246,\n",
       "        -1.7704082 , -1.77041392, -1.7704196 , -1.77042526, -1.77043088,\n",
       "        -1.77043647, -1.77044203, -1.77044756, -1.77045306, -1.77045853]),\n",
       " 'split3_test_score': array([-1.64769714, -1.64769991, -1.64770266, -1.64770541, -1.64770815,\n",
       "        -1.64771088, -1.64771361, -1.64771633, -1.64771904, -1.64772175,\n",
       "        -1.64772444, -1.64772714, -1.64772982, -1.6477325 , -1.64773517,\n",
       "        -1.64773783, -1.64774049, -1.64774314, -1.64774578, -1.64774842,\n",
       "        -1.64775105, -1.64775367, -1.64775629, -1.6477589 , -1.6477615 ,\n",
       "        -1.6477641 , -1.64776669, -1.64776927, -1.64777185, -1.64777442,\n",
       "        -1.64777699, -1.64777954, -1.6477821 , -1.64778464, -1.64778718,\n",
       "        -1.64778971, -1.64779224, -1.64779476, -1.64779727, -1.64779978,\n",
       "        -1.64780228, -1.64780478, -1.64780727, -1.64780975, -1.64781223,\n",
       "        -1.6478147 , -1.64781716, -1.64781962, -1.64782207, -1.64782452,\n",
       "        -1.64782696, -1.6478294 , -1.64783183, -1.64783425, -1.64783667,\n",
       "        -1.64783908, -1.64784149, -1.64784389, -1.64784628, -1.64784867,\n",
       "        -1.64785105, -1.64785343, -1.6478558 , -1.64785817, -1.64786053,\n",
       "        -1.64786288, -1.64786523, -1.64786758, -1.64786991, -1.64787225,\n",
       "        -1.64787457, -1.6478769 , -1.64787921, -1.64788152, -1.64788383,\n",
       "        -1.64788613, -1.64788842, -1.64789071, -1.647893  , -1.64789528,\n",
       "        -1.64789755, -1.64789982, -1.64790208, -1.64790434, -1.64790659,\n",
       "        -1.64790884, -1.64791108, -1.64791332, -1.64791555, -1.64791778,\n",
       "        -1.64792   , -1.64792222, -1.64792443, -1.64792664, -1.64792884,\n",
       "        -1.64793103, -1.64793323, -1.64793541, -1.6479376 , -1.64793977]),\n",
       " 'split4_test_score': array([-1.43233905, -1.43237335, -1.43240747, -1.43244143, -1.4324752 ,\n",
       "        -1.43250881, -1.43254225, -1.43257552, -1.43260863, -1.43264157,\n",
       "        -1.43267434, -1.43270695, -1.4327394 , -1.43277169, -1.43280383,\n",
       "        -1.4328358 , -1.43286762, -1.43289928, -1.43293079, -1.43296214,\n",
       "        -1.43299335, -1.4330244 , -1.4330553 , -1.43308606, -1.43311667,\n",
       "        -1.43314713, -1.43317744, -1.43320762, -1.43323765, -1.43326754,\n",
       "        -1.43329728, -1.43332689, -1.43335636, -1.43338569, -1.43341489,\n",
       "        -1.43344395, -1.43347288, -1.4335019 , -1.43353089, -1.43355975,\n",
       "        -1.43358847, -1.43361707, -1.43364554, -1.43367388, -1.43370209,\n",
       "        -1.43373017, -1.43375813, -1.43378596, -1.43381367, -1.43384126,\n",
       "        -1.43386872, -1.43389607, -1.43392329, -1.43395039, -1.43397737,\n",
       "        -1.43400424, -1.43403099, -1.43405762, -1.43408413, -1.43411053,\n",
       "        -1.43413682, -1.43416299, -1.43418905, -1.434215  , -1.43424083,\n",
       "        -1.43426656, -1.43429218, -1.43431769, -1.43434309, -1.43436838,\n",
       "        -1.43439356, -1.43441864, -1.43444362, -1.43446849, -1.43449325,\n",
       "        -1.43451791, -1.43454247, -1.43456693, -1.43459129, -1.43461554,\n",
       "        -1.4346397 , -1.43466375, -1.43468771, -1.43471157, -1.43473533,\n",
       "        -1.434759  , -1.43478256, -1.43480604, -1.43482942, -1.4348527 ,\n",
       "        -1.43487589, -1.43489899, -1.43492199, -1.4349449 , -1.43496772,\n",
       "        -1.43499045, -1.43501309, -1.43503564, -1.4350581 , -1.43508047]),\n",
       " 'split5_test_score': array([-1.63222553, -1.6321895 , -1.6321537 , -1.63211814, -1.63208281,\n",
       "        -1.63204772, -1.63201284, -1.6319782 , -1.63194378, -1.63190958,\n",
       "        -1.63187559, -1.63184183, -1.63180828, -1.63177494, -1.63174181,\n",
       "        -1.63170889, -1.63167618, -1.63164367, -1.63161136, -1.63157926,\n",
       "        -1.63154735, -1.63151564, -1.63148412, -1.6314528 , -1.63142167,\n",
       "        -1.63139072, -1.63135997, -1.6313294 , -1.63129901, -1.63126881,\n",
       "        -1.63123878, -1.63120894, -1.63117927, -1.63114978, -1.63112046,\n",
       "        -1.63109132, -1.63106234, -1.63103354, -1.6310049 , -1.63097643,\n",
       "        -1.63094812, -1.63091998, -1.630892  , -1.63086418, -1.63083652,\n",
       "        -1.63080901, -1.63078166, -1.63075447, -1.63072743, -1.63070054,\n",
       "        -1.63067381, -1.63064722, -1.63062078, -1.63059449, -1.63056834,\n",
       "        -1.63054234, -1.63051648, -1.63049076, -1.63046518, -1.63043975,\n",
       "        -1.63041445, -1.63038929, -1.63036426, -1.63033937, -1.63031461,\n",
       "        -1.63028999, -1.63026549, -1.63024113, -1.6302169 , -1.63019279,\n",
       "        -1.63016881, -1.63014496, -1.63012123, -1.63009763, -1.63007415,\n",
       "        -1.63005079, -1.63002755, -1.63000444, -1.62998144, -1.62995856,\n",
       "        -1.6299358 , -1.62991315, -1.62989062, -1.62986821, -1.6298459 ,\n",
       "        -1.62982371, -1.62980163, -1.62981421, -1.6298301 , -1.62984591,\n",
       "        -1.62986163, -1.62987726, -1.6298928 , -1.62990826, -1.62992363,\n",
       "        -1.62993891, -1.62995411, -1.62996923, -1.62998426, -1.62999921]),\n",
       " 'split6_test_score': array([-1.42666719, -1.42667619, -1.42668517, -1.42669412, -1.42670304,\n",
       "        -1.42671194, -1.42672081, -1.42672965, -1.42673847, -1.42674726,\n",
       "        -1.42675602, -1.42676476, -1.42677347, -1.42678216, -1.42679082,\n",
       "        -1.42679946, -1.42680807, -1.42681666, -1.42682522, -1.42683375,\n",
       "        -1.42684226, -1.42685075, -1.42685921, -1.42686765, -1.42687606,\n",
       "        -1.42688445, -1.42689281, -1.42690115, -1.42690947, -1.42691776,\n",
       "        -1.42692603, -1.42693428, -1.4269425 , -1.4269507 , -1.42695888,\n",
       "        -1.42696703, -1.42697516, -1.42698326, -1.42699135, -1.42699941,\n",
       "        -1.42700745, -1.42701547, -1.42702346, -1.42703143, -1.42703938,\n",
       "        -1.42704731, -1.42705522, -1.4270631 , -1.42707096, -1.4270788 ,\n",
       "        -1.42708662, -1.42709442, -1.4271022 , -1.42710996, -1.42711769,\n",
       "        -1.4271254 , -1.4271331 , -1.42714077, -1.42714842, -1.42715605,\n",
       "        -1.42716366, -1.42717125, -1.42717882, -1.42718637, -1.4271939 ,\n",
       "        -1.42720141, -1.4272089 , -1.42721637, -1.42722382, -1.42723125,\n",
       "        -1.42723866, -1.42724605, -1.42725343, -1.42726078, -1.42726811,\n",
       "        -1.42727543, -1.42728272, -1.42729   , -1.42729726, -1.42730449,\n",
       "        -1.42731171, -1.42731892, -1.4273261 , -1.42733326, -1.42734041,\n",
       "        -1.42734754, -1.42735465, -1.42736174, -1.42736881, -1.42737587,\n",
       "        -1.42738291, -1.42738993, -1.42739693, -1.42740391, -1.42741088,\n",
       "        -1.42741783, -1.42742476, -1.42743168, -1.42743858, -1.42744546]),\n",
       " 'split7_test_score': array([-1.5855908 , -1.58558566, -1.58558052, -1.58557539, -1.58557026,\n",
       "        -1.58556513, -1.58556001, -1.58555489, -1.58554977, -1.58554466,\n",
       "        -1.58553955, -1.58553445, -1.58552935, -1.58552425, -1.58551916,\n",
       "        -1.58551407, -1.58550898, -1.5855039 , -1.58549882, -1.58549374,\n",
       "        -1.58548867, -1.5854836 , -1.58547853, -1.58547347, -1.58546841,\n",
       "        -1.58546336, -1.58545831, -1.58545326, -1.58544821, -1.58544317,\n",
       "        -1.58543813, -1.5854331 , -1.58542807, -1.58542304, -1.58541802,\n",
       "        -1.585413  , -1.58540798, -1.58540297, -1.58539796, -1.58539295,\n",
       "        -1.58538795, -1.58538295, -1.58537795, -1.58537296, -1.58536797,\n",
       "        -1.58536298, -1.585358  , -1.58535302, -1.58534804, -1.58534307,\n",
       "        -1.5853381 , -1.58533314, -1.58532817, -1.58532321, -1.58531826,\n",
       "        -1.58531331, -1.58530836, -1.58530341, -1.58529847, -1.58529353,\n",
       "        -1.58528859, -1.58528366, -1.58527873, -1.5852738 , -1.58526888,\n",
       "        -1.58526396, -1.58525905, -1.58525413, -1.58524922, -1.58524432,\n",
       "        -1.58523941, -1.58523451, -1.58522962, -1.58522472, -1.58521983,\n",
       "        -1.58521495, -1.58521006, -1.58520518, -1.5852003 , -1.58519543,\n",
       "        -1.58519056, -1.58518569, -1.58518083, -1.58517596, -1.58517111,\n",
       "        -1.58516625, -1.5851614 , -1.58515655, -1.58515171, -1.58514686,\n",
       "        -1.58514202, -1.58513719, -1.58513235, -1.58512752, -1.5851227 ,\n",
       "        -1.58511787, -1.58511305, -1.58510824, -1.58510342, -1.58509861]),\n",
       " 'split8_test_score': array([-1.52807216, -1.52806456, -1.52805701, -1.52804952, -1.52804208,\n",
       "        -1.5280347 , -1.52802737, -1.5280201 , -1.52801288, -1.52800571,\n",
       "        -1.5279986 , -1.52799155, -1.52798454, -1.52797759, -1.52797069,\n",
       "        -1.52796385, -1.52795705, -1.52795031, -1.52794362, -1.52793698,\n",
       "        -1.52793039, -1.52792386, -1.52791737, -1.52791093, -1.52790454,\n",
       "        -1.52789821, -1.52789192, -1.52788568, -1.52787949, -1.52787335,\n",
       "        -1.52786726, -1.52786121, -1.52785521, -1.52784926, -1.52784336,\n",
       "        -1.52783751, -1.5278317 , -1.52782594, -1.52782022, -1.52781455,\n",
       "        -1.52780893, -1.52780335, -1.52779782, -1.52779233, -1.52778689,\n",
       "        -1.52778149, -1.52777614, -1.52777083, -1.52776556, -1.52776034,\n",
       "        -1.52775517, -1.52775003, -1.52774494, -1.52773989, -1.52773489,\n",
       "        -1.52772992, -1.527725  , -1.52772013, -1.52771529, -1.52771049,\n",
       "        -1.52770574, -1.52770103, -1.52769636, -1.52769173, -1.52768714,\n",
       "        -1.52768259, -1.52767808, -1.52767361, -1.52766918, -1.52766479,\n",
       "        -1.52766044, -1.52765613, -1.52765186, -1.52764762, -1.52764343,\n",
       "        -1.52763927, -1.52763516, -1.52763108, -1.52762703, -1.52762303,\n",
       "        -1.52761906, -1.52761513, -1.52761124, -1.52760739, -1.52760357,\n",
       "        -1.52759979, -1.52759604, -1.52759233, -1.52758866, -1.52758502,\n",
       "        -1.52758142, -1.52757786, -1.52757433, -1.52757083, -1.52756737,\n",
       "        -1.52756395, -1.52756056, -1.5275572 , -1.52755388, -1.52755059]),\n",
       " 'split9_test_score': array([-1.66089426, -1.66089395, -1.66089364, -1.66089333, -1.66089301,\n",
       "        -1.6608927 , -1.66089239, -1.66089208, -1.66089176, -1.66089145,\n",
       "        -1.66089113, -1.66089082, -1.66089051, -1.66089019, -1.66088988,\n",
       "        -1.66088956, -1.66088925, -1.66088893, -1.66088862, -1.6608883 ,\n",
       "        -1.66088798, -1.66088767, -1.66088735, -1.66088703, -1.66088672,\n",
       "        -1.6608864 , -1.66088608, -1.66088577, -1.66088545, -1.66088513,\n",
       "        -1.66088481, -1.66088449, -1.66088418, -1.66088386, -1.66088354,\n",
       "        -1.66088322, -1.6608829 , -1.66088258, -1.66088226, -1.66088194,\n",
       "        -1.66088162, -1.6608813 , -1.66088098, -1.66088066, -1.66088034,\n",
       "        -1.66088002, -1.6608797 , -1.66087938, -1.66087906, -1.66087874,\n",
       "        -1.66087842, -1.6608781 , -1.66087778, -1.66087746, -1.66087714,\n",
       "        -1.66087681, -1.66087649, -1.66087617, -1.66087585, -1.66087553,\n",
       "        -1.6608752 , -1.66087488, -1.66087456, -1.66087424, -1.66087391,\n",
       "        -1.66087359, -1.66087327, -1.66087295, -1.66087262, -1.6608723 ,\n",
       "        -1.66087198, -1.66087165, -1.66087133, -1.66087101, -1.66087068,\n",
       "        -1.66087036, -1.66087004, -1.66086971, -1.66086939, -1.66086907,\n",
       "        -1.66086874, -1.66086842, -1.66086809, -1.66086777, -1.66086745,\n",
       "        -1.66086712, -1.6608668 , -1.66086647, -1.66086615, -1.66086582,\n",
       "        -1.6608655 , -1.66086517, -1.66086485, -1.66086452, -1.6608642 ,\n",
       "        -1.66086387, -1.66086355, -1.66086322, -1.6608629 , -1.66086257]),\n",
       " 'mean_test_score': array([-1.61764924, -1.61764913, -1.61764902, -1.61764893, -1.61764884,\n",
       "        -1.61764876, -1.61764868, -1.61764861, -1.61764855, -1.6176485 ,\n",
       "        -1.61764845, -1.61764842, -1.61764838, -1.61764836, -1.61764834,\n",
       "        -1.61764832, -1.61764832, -1.61764832, -1.61764832, -1.61764833,\n",
       "        -1.61764835, -1.61764838, -1.61764841, -1.61764844, -1.61764848,\n",
       "        -1.61764853, -1.61764858, -1.61764864, -1.6176487 , -1.61764877,\n",
       "        -1.61764885, -1.61764892, -1.61764901, -1.6176491 , -1.61764919,\n",
       "        -1.61764929, -1.6176494 , -1.61764953, -1.61764967, -1.61764983,\n",
       "        -1.61765   , -1.61765017, -1.61765035, -1.61765054, -1.61765073,\n",
       "        -1.61765092, -1.61765112, -1.61765132, -1.61765152, -1.61765173,\n",
       "        -1.61765195, -1.61765217, -1.61765239, -1.61765261, -1.61765284,\n",
       "        -1.61765308, -1.61765331, -1.61765355, -1.6176538 , -1.61765404,\n",
       "        -1.6176543 , -1.61765455, -1.61765481, -1.61765507, -1.61765534,\n",
       "        -1.6176556 , -1.61765588, -1.61765615, -1.61765643, -1.61765671,\n",
       "        -1.61765699, -1.61765728, -1.61765757, -1.61765786, -1.61765816,\n",
       "        -1.61765846, -1.61765876, -1.61765907, -1.61765937, -1.61765968,\n",
       "        -1.61766   , -1.61766031, -1.61766063, -1.61766095, -1.61766128,\n",
       "        -1.6176616 , -1.61766193, -1.61766572, -1.61766983, -1.61767392,\n",
       "        -1.61767799, -1.61768205, -1.61768609, -1.61769012, -1.61769412,\n",
       "        -1.61769811, -1.61770208, -1.61770604, -1.61770998, -1.61771391]),\n",
       " 'std_test_score': array([0.11852863, 0.11852225, 0.11851591, 0.1185096 , 0.11850332,\n",
       "        0.11849708, 0.11849086, 0.11848467, 0.11847851, 0.11847237,\n",
       "        0.11846627, 0.1184602 , 0.11845415, 0.11844814, 0.11844215,\n",
       "        0.11843619, 0.11843025, 0.11842434, 0.11841846, 0.11841261,\n",
       "        0.11840678, 0.11840098, 0.11839521, 0.11838946, 0.11838374,\n",
       "        0.11837804, 0.11837237, 0.11836672, 0.1183611 , 0.1183555 ,\n",
       "        0.11834993, 0.11834438, 0.11833885, 0.11833335, 0.11832787,\n",
       "        0.11832242, 0.11831699, 0.11831155, 0.11830611, 0.1183007 ,\n",
       "        0.11829532, 0.11828997, 0.11828465, 0.11827934, 0.11827406,\n",
       "        0.1182688 , 0.11826356, 0.11825834, 0.11825314, 0.11824797,\n",
       "        0.11824281, 0.11823768, 0.11823257, 0.11822747, 0.1182224 ,\n",
       "        0.11821735, 0.11821232, 0.11820731, 0.11820231, 0.11819734,\n",
       "        0.11819239, 0.11818745, 0.11818254, 0.11817764, 0.11817277,\n",
       "        0.11816791, 0.11816307, 0.11815825, 0.11815344, 0.11814866,\n",
       "        0.11814389, 0.11813914, 0.11813441, 0.1181297 , 0.118125  ,\n",
       "        0.11812032, 0.11811566, 0.11811102, 0.11810639, 0.11810178,\n",
       "        0.11809719, 0.11809261, 0.11808805, 0.11808351, 0.11807898,\n",
       "        0.11807447, 0.11806998, 0.11806585, 0.11806178, 0.11805772,\n",
       "        0.11805367, 0.11804964, 0.11804561, 0.11804161, 0.11803761,\n",
       "        0.11803363, 0.11802966, 0.1180257 , 0.11802176, 0.11801783]),\n",
       " 'rank_test_score': array([ 35,  33,  31,  29,  26,  24,  22,  20,  18,  16,  14,  12,  10,\n",
       "          8,   6,   4,   2,   1,   3,   5,   7,   9,  11,  13,  15,  17,\n",
       "         19,  21,  23,  25,  27,  28,  30,  32,  34,  36,  37,  38,  39,\n",
       "         40,  41,  42,  43,  44,  45,  46,  47,  48,  49,  50,  51,  52,\n",
       "         53,  54,  55,  56,  57,  58,  59,  60,  61,  62,  63,  64,  65,\n",
       "         66,  67,  68,  69,  70,  71,  72,  73,  74,  75,  76,  77,  78,\n",
       "         79,  80,  81,  82,  83,  84,  85,  86,  87,  88,  89,  90,  91,\n",
       "         92,  93,  94,  95,  96,  97,  98,  99, 100], dtype=int32)}"
      ]
     },
     "execution_count": 121,
     "metadata": {},
     "output_type": "execute_result"
    }
   ],
   "source": [
    "grid_search.cv_results_"
   ]
  },
  {
   "cell_type": "markdown",
   "metadata": {},
   "source": [
    " if you want you can now fit a ridge regression model with obtained value of alpha , although there is no need, grid search automatically fits the best estimator on the entire data, you can directly use this to make predictions on test_data. But if you want to look at coefficients , its much more convenient to fit the model with direct function"
   ]
  },
  {
   "cell_type": "markdown",
   "metadata": {},
   "source": [
    "Using the report function given below you can see the cv performance of top few models as well, that will the tentative performance"
   ]
  },
  {
   "cell_type": "code",
   "execution_count": 123,
   "metadata": {},
   "outputs": [],
   "source": [
    "def report(results, n_top=3):\n",
    "    for i in range(1, n_top + 1):\n",
    "        candidates = np.flatnonzero(results['rank_test_score'] == i)\n",
    "        for candidate in candidates:\n",
    "            print(\"Model with rank: {0}\".format(i))\n",
    "            print(\"Mean validation score: {0:.3f} (std: {1:.3f})\".format(\n",
    "                  results['mean_test_score'][candidate],\n",
    "                  results['std_test_score'][candidate]))\n",
    "            print(\"Parameters: {0}\".format(results['params'][candidate]))\n",
    "            print(\"\")"
   ]
  },
  {
   "cell_type": "code",
   "execution_count": 76,
   "metadata": {},
   "outputs": [
    {
     "name": "stdout",
     "output_type": "stream",
     "text": [
      "Model with rank: 1\n",
      "Mean validation score: -1.618 (std: 0.119)\n",
      "Parameters: {'alpha': 3.0}\n",
      "\n",
      "Model with rank: 2\n",
      "Mean validation score: -1.618 (std: 0.118)\n",
      "Parameters: {'alpha': 4.0}\n",
      "\n",
      "Model with rank: 3\n",
      "Mean validation score: -1.618 (std: 0.119)\n",
      "Parameters: {'alpha': 2.0}\n",
      "\n",
      "Model with rank: 4\n",
      "Mean validation score: -1.618 (std: 0.118)\n",
      "Parameters: {'alpha': 5.0}\n",
      "\n",
      "Model with rank: 5\n",
      "Mean validation score: -1.618 (std: 0.119)\n",
      "Parameters: {'alpha': 1.0}\n",
      "\n",
      "Model with rank: 6\n",
      "Mean validation score: -1.618 (std: 0.118)\n",
      "Parameters: {'alpha': 6.0}\n",
      "\n",
      "Model with rank: 7\n",
      "Mean validation score: -1.618 (std: 0.118)\n",
      "Parameters: {'alpha': 7.0}\n",
      "\n",
      "Model with rank: 8\n",
      "Mean validation score: -1.618 (std: 0.118)\n",
      "Parameters: {'alpha': 8.0}\n",
      "\n",
      "Model with rank: 9\n",
      "Mean validation score: -1.618 (std: 0.117)\n",
      "Parameters: {'alpha': 9.0}\n",
      "\n",
      "Model with rank: 10\n",
      "Mean validation score: -1.618 (std: 0.117)\n",
      "Parameters: {'alpha': 10.0}\n",
      "\n",
      "Model with rank: 11\n",
      "Mean validation score: -1.619 (std: 0.117)\n",
      "Parameters: {'alpha': 11.0}\n",
      "\n",
      "Model with rank: 12\n",
      "Mean validation score: -1.619 (std: 0.117)\n",
      "Parameters: {'alpha': 12.0}\n",
      "\n",
      "Model with rank: 13\n",
      "Mean validation score: -1.619 (std: 0.117)\n",
      "Parameters: {'alpha': 13.0}\n",
      "\n",
      "Model with rank: 14\n",
      "Mean validation score: -1.619 (std: 0.117)\n",
      "Parameters: {'alpha': 14.0}\n",
      "\n",
      "Model with rank: 15\n",
      "Mean validation score: -1.619 (std: 0.117)\n",
      "Parameters: {'alpha': 15.0}\n",
      "\n",
      "Model with rank: 16\n",
      "Mean validation score: -1.619 (std: 0.117)\n",
      "Parameters: {'alpha': 16.0}\n",
      "\n",
      "Model with rank: 17\n",
      "Mean validation score: -1.619 (std: 0.117)\n",
      "Parameters: {'alpha': 17.0}\n",
      "\n",
      "Model with rank: 18\n",
      "Mean validation score: -1.619 (std: 0.117)\n",
      "Parameters: {'alpha': 18.0}\n",
      "\n",
      "Model with rank: 19\n",
      "Mean validation score: -1.619 (std: 0.116)\n",
      "Parameters: {'alpha': 19.0}\n",
      "\n",
      "Model with rank: 20\n",
      "Mean validation score: -1.619 (std: 0.116)\n",
      "Parameters: {'alpha': 20.0}\n",
      "\n",
      "Model with rank: 21\n",
      "Mean validation score: -1.619 (std: 0.116)\n",
      "Parameters: {'alpha': 21.0}\n",
      "\n",
      "Model with rank: 22\n",
      "Mean validation score: -1.620 (std: 0.116)\n",
      "Parameters: {'alpha': 22.0}\n",
      "\n",
      "Model with rank: 23\n",
      "Mean validation score: -1.620 (std: 0.116)\n",
      "Parameters: {'alpha': 23.0}\n",
      "\n",
      "Model with rank: 24\n",
      "Mean validation score: -1.620 (std: 0.116)\n",
      "Parameters: {'alpha': 24.0}\n",
      "\n",
      "Model with rank: 25\n",
      "Mean validation score: -1.620 (std: 0.116)\n",
      "Parameters: {'alpha': 25.0}\n",
      "\n",
      "Model with rank: 26\n",
      "Mean validation score: -1.620 (std: 0.116)\n",
      "Parameters: {'alpha': 26.0}\n",
      "\n",
      "Model with rank: 27\n",
      "Mean validation score: -1.620 (std: 0.116)\n",
      "Parameters: {'alpha': 27.0}\n",
      "\n",
      "Model with rank: 28\n",
      "Mean validation score: -1.620 (std: 0.116)\n",
      "Parameters: {'alpha': 28.0}\n",
      "\n",
      "Model with rank: 29\n",
      "Mean validation score: -1.620 (std: 0.116)\n",
      "Parameters: {'alpha': 29.0}\n",
      "\n",
      "Model with rank: 30\n",
      "Mean validation score: -1.620 (std: 0.116)\n",
      "Parameters: {'alpha': 30.0}\n",
      "\n",
      "Model with rank: 31\n",
      "Mean validation score: -1.620 (std: 0.116)\n",
      "Parameters: {'alpha': 31.0}\n",
      "\n",
      "Model with rank: 32\n",
      "Mean validation score: -1.620 (std: 0.116)\n",
      "Parameters: {'alpha': 32.0}\n",
      "\n",
      "Model with rank: 33\n",
      "Mean validation score: -1.620 (std: 0.116)\n",
      "Parameters: {'alpha': 33.0}\n",
      "\n",
      "Model with rank: 34\n",
      "Mean validation score: -1.621 (std: 0.116)\n",
      "Parameters: {'alpha': 34.0}\n",
      "\n",
      "Model with rank: 35\n",
      "Mean validation score: -1.621 (std: 0.116)\n",
      "Parameters: {'alpha': 35.0}\n",
      "\n",
      "Model with rank: 36\n",
      "Mean validation score: -1.621 (std: 0.116)\n",
      "Parameters: {'alpha': 36.0}\n",
      "\n",
      "Model with rank: 37\n",
      "Mean validation score: -1.621 (std: 0.116)\n",
      "Parameters: {'alpha': 37.0}\n",
      "\n",
      "Model with rank: 38\n",
      "Mean validation score: -1.621 (std: 0.116)\n",
      "Parameters: {'alpha': 38.0}\n",
      "\n",
      "Model with rank: 39\n",
      "Mean validation score: -1.621 (std: 0.116)\n",
      "Parameters: {'alpha': 39.0}\n",
      "\n",
      "Model with rank: 40\n",
      "Mean validation score: -1.621 (std: 0.116)\n",
      "Parameters: {'alpha': 40.0}\n",
      "\n",
      "Model with rank: 41\n",
      "Mean validation score: -1.621 (std: 0.116)\n",
      "Parameters: {'alpha': 41.0}\n",
      "\n",
      "Model with rank: 42\n",
      "Mean validation score: -1.621 (std: 0.116)\n",
      "Parameters: {'alpha': 42.0}\n",
      "\n",
      "Model with rank: 43\n",
      "Mean validation score: -1.622 (std: 0.116)\n",
      "Parameters: {'alpha': 43.0}\n",
      "\n",
      "Model with rank: 44\n",
      "Mean validation score: -1.622 (std: 0.115)\n",
      "Parameters: {'alpha': 44.0}\n",
      "\n",
      "Model with rank: 45\n",
      "Mean validation score: -1.622 (std: 0.115)\n",
      "Parameters: {'alpha': 45.0}\n",
      "\n",
      "Model with rank: 46\n",
      "Mean validation score: -1.622 (std: 0.115)\n",
      "Parameters: {'alpha': 46.0}\n",
      "\n",
      "Model with rank: 47\n",
      "Mean validation score: -1.622 (std: 0.115)\n",
      "Parameters: {'alpha': 47.0}\n",
      "\n",
      "Model with rank: 48\n",
      "Mean validation score: -1.622 (std: 0.115)\n",
      "Parameters: {'alpha': 48.0}\n",
      "\n",
      "Model with rank: 49\n",
      "Mean validation score: -1.622 (std: 0.115)\n",
      "Parameters: {'alpha': 49.0}\n",
      "\n",
      "Model with rank: 50\n",
      "Mean validation score: -1.622 (std: 0.115)\n",
      "Parameters: {'alpha': 50.0}\n",
      "\n",
      "Model with rank: 51\n",
      "Mean validation score: -1.622 (std: 0.115)\n",
      "Parameters: {'alpha': 51.0}\n",
      "\n",
      "Model with rank: 52\n",
      "Mean validation score: -1.622 (std: 0.115)\n",
      "Parameters: {'alpha': 52.0}\n",
      "\n",
      "Model with rank: 53\n",
      "Mean validation score: -1.623 (std: 0.115)\n",
      "Parameters: {'alpha': 53.0}\n",
      "\n",
      "Model with rank: 54\n",
      "Mean validation score: -1.623 (std: 0.115)\n",
      "Parameters: {'alpha': 54.0}\n",
      "\n",
      "Model with rank: 55\n",
      "Mean validation score: -1.623 (std: 0.115)\n",
      "Parameters: {'alpha': 55.0}\n",
      "\n",
      "Model with rank: 56\n",
      "Mean validation score: -1.623 (std: 0.115)\n",
      "Parameters: {'alpha': 56.0}\n",
      "\n",
      "Model with rank: 57\n",
      "Mean validation score: -1.623 (std: 0.115)\n",
      "Parameters: {'alpha': 57.0}\n",
      "\n",
      "Model with rank: 58\n",
      "Mean validation score: -1.623 (std: 0.115)\n",
      "Parameters: {'alpha': 58.0}\n",
      "\n",
      "Model with rank: 59\n",
      "Mean validation score: -1.623 (std: 0.115)\n",
      "Parameters: {'alpha': 59.0}\n",
      "\n",
      "Model with rank: 60\n",
      "Mean validation score: -1.623 (std: 0.115)\n",
      "Parameters: {'alpha': 60.0}\n",
      "\n",
      "Model with rank: 61\n",
      "Mean validation score: -1.623 (std: 0.115)\n",
      "Parameters: {'alpha': 61.0}\n",
      "\n",
      "Model with rank: 62\n",
      "Mean validation score: -1.624 (std: 0.115)\n",
      "Parameters: {'alpha': 62.0}\n",
      "\n",
      "Model with rank: 63\n",
      "Mean validation score: -1.624 (std: 0.115)\n",
      "Parameters: {'alpha': 63.0}\n",
      "\n",
      "Model with rank: 64\n",
      "Mean validation score: -1.624 (std: 0.115)\n",
      "Parameters: {'alpha': 64.0}\n",
      "\n",
      "Model with rank: 65\n",
      "Mean validation score: -1.624 (std: 0.115)\n",
      "Parameters: {'alpha': 65.0}\n",
      "\n",
      "Model with rank: 66\n",
      "Mean validation score: -1.624 (std: 0.115)\n",
      "Parameters: {'alpha': 66.0}\n",
      "\n",
      "Model with rank: 67\n",
      "Mean validation score: -1.624 (std: 0.115)\n",
      "Parameters: {'alpha': 67.0}\n",
      "\n",
      "Model with rank: 68\n",
      "Mean validation score: -1.624 (std: 0.115)\n",
      "Parameters: {'alpha': 68.0}\n",
      "\n",
      "Model with rank: 69\n",
      "Mean validation score: -1.624 (std: 0.115)\n",
      "Parameters: {'alpha': 69.0}\n",
      "\n",
      "Model with rank: 70\n",
      "Mean validation score: -1.624 (std: 0.115)\n",
      "Parameters: {'alpha': 70.0}\n",
      "\n",
      "Model with rank: 71\n",
      "Mean validation score: -1.625 (std: 0.115)\n",
      "Parameters: {'alpha': 71.0}\n",
      "\n",
      "Model with rank: 72\n",
      "Mean validation score: -1.625 (std: 0.115)\n",
      "Parameters: {'alpha': 72.0}\n",
      "\n",
      "Model with rank: 73\n",
      "Mean validation score: -1.625 (std: 0.115)\n",
      "Parameters: {'alpha': 73.0}\n",
      "\n",
      "Model with rank: 74\n",
      "Mean validation score: -1.625 (std: 0.115)\n",
      "Parameters: {'alpha': 74.0}\n",
      "\n",
      "Model with rank: 75\n",
      "Mean validation score: -1.625 (std: 0.114)\n",
      "Parameters: {'alpha': 75.0}\n",
      "\n",
      "Model with rank: 76\n",
      "Mean validation score: -1.625 (std: 0.114)\n",
      "Parameters: {'alpha': 76.0}\n",
      "\n",
      "Model with rank: 77\n",
      "Mean validation score: -1.625 (std: 0.114)\n",
      "Parameters: {'alpha': 77.0}\n",
      "\n",
      "Model with rank: 78\n",
      "Mean validation score: -1.625 (std: 0.114)\n",
      "Parameters: {'alpha': 78.0}\n",
      "\n",
      "Model with rank: 79\n",
      "Mean validation score: -1.626 (std: 0.114)\n",
      "Parameters: {'alpha': 79.0}\n",
      "\n",
      "Model with rank: 80\n",
      "Mean validation score: -1.626 (std: 0.114)\n",
      "Parameters: {'alpha': 80.0}\n",
      "\n",
      "Model with rank: 81\n",
      "Mean validation score: -1.626 (std: 0.114)\n",
      "Parameters: {'alpha': 81.0}\n",
      "\n",
      "Model with rank: 82\n",
      "Mean validation score: -1.626 (std: 0.114)\n",
      "Parameters: {'alpha': 82.0}\n",
      "\n",
      "Model with rank: 83\n",
      "Mean validation score: -1.626 (std: 0.114)\n",
      "Parameters: {'alpha': 83.0}\n",
      "\n",
      "Model with rank: 84\n",
      "Mean validation score: -1.626 (std: 0.114)\n",
      "Parameters: {'alpha': 84.0}\n",
      "\n",
      "Model with rank: 85\n",
      "Mean validation score: -1.626 (std: 0.114)\n",
      "Parameters: {'alpha': 85.0}\n",
      "\n",
      "Model with rank: 86\n",
      "Mean validation score: -1.626 (std: 0.114)\n",
      "Parameters: {'alpha': 86.0}\n",
      "\n",
      "Model with rank: 87\n",
      "Mean validation score: -1.627 (std: 0.114)\n",
      "Parameters: {'alpha': 87.0}\n",
      "\n",
      "Model with rank: 88\n",
      "Mean validation score: -1.627 (std: 0.114)\n",
      "Parameters: {'alpha': 88.0}\n",
      "\n",
      "Model with rank: 89\n",
      "Mean validation score: -1.627 (std: 0.114)\n",
      "Parameters: {'alpha': 89.0}\n",
      "\n",
      "Model with rank: 90\n",
      "Mean validation score: -1.627 (std: 0.114)\n",
      "Parameters: {'alpha': 90.0}\n",
      "\n",
      "Model with rank: 91\n",
      "Mean validation score: -1.627 (std: 0.114)\n",
      "Parameters: {'alpha': 91.0}\n",
      "\n",
      "Model with rank: 92\n",
      "Mean validation score: -1.627 (std: 0.114)\n",
      "Parameters: {'alpha': 92.0}\n",
      "\n",
      "Model with rank: 93\n",
      "Mean validation score: -1.627 (std: 0.114)\n",
      "Parameters: {'alpha': 93.0}\n",
      "\n",
      "Model with rank: 94\n",
      "Mean validation score: -1.627 (std: 0.114)\n",
      "Parameters: {'alpha': 94.0}\n",
      "\n",
      "Model with rank: 95\n",
      "Mean validation score: -1.628 (std: 0.114)\n",
      "Parameters: {'alpha': 95.0}\n",
      "\n",
      "Model with rank: 96\n",
      "Mean validation score: -1.628 (std: 0.114)\n",
      "Parameters: {'alpha': 96.0}\n",
      "\n",
      "Model with rank: 97\n",
      "Mean validation score: -1.628 (std: 0.114)\n",
      "Parameters: {'alpha': 97.0}\n",
      "\n",
      "Model with rank: 98\n",
      "Mean validation score: -1.628 (std: 0.114)\n",
      "Parameters: {'alpha': 98.0}\n",
      "\n",
      "Model with rank: 99\n",
      "Mean validation score: -1.628 (std: 0.114)\n",
      "Parameters: {'alpha': 99.0}\n",
      "\n",
      "Model with rank: 100\n",
      "Mean validation score: -1.628 (std: 0.114)\n",
      "Parameters: {'alpha': 100.0}\n",
      "\n"
     ]
    }
   ],
   "source": [
    "report(grid_search.cv_results_,100)"
   ]
  },
  {
   "cell_type": "code",
   "execution_count": 124,
   "metadata": {},
   "outputs": [],
   "source": [
    "test_pred=grid_search.predict(X_test)"
   ]
  },
  {
   "cell_type": "code",
   "execution_count": 78,
   "metadata": {},
   "outputs": [],
   "source": [
    "pd.DataFrame(test_pred).to_csv(\"mysubmission.csv\",index=False)"
   ]
  }
 ],
 "metadata": {
  "kernelspec": {
   "display_name": "Python 3",
   "language": "python",
   "name": "python3"
  },
  "language_info": {
   "codemirror_mode": {
    "name": "ipython",
    "version": 3
   },
   "file_extension": ".py",
   "mimetype": "text/x-python",
   "name": "python",
   "nbconvert_exporter": "python",
   "pygments_lexer": "ipython3",
   "version": "3.7.4"
  }
 },
 "nbformat": 4,
 "nbformat_minor": 2
}
