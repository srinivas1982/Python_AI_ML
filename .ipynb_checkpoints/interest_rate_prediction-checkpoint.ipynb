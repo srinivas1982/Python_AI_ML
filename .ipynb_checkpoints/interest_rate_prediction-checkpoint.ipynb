{
 "cells": [
  {
   "cell_type": "markdown",
   "metadata": {},
   "source": [
    "# Interest Rate Prediction"
   ]
  },
  {
   "cell_type": "markdown",
   "metadata": {
    "heading_collapsed": true
   },
   "source": [
    "## Case Study"
   ]
  },
  {
   "cell_type": "markdown",
   "metadata": {
    "hidden": true
   },
   "source": [
    "This data belongs to a loan aggregator agency which connects loan applications to different financial institutions in attempt to get the best interest rate. They want to now utilise past data to predict interest rate given by any financial institute just by looking at loan application characteristics.\n",
    "\n",
    "To achieve that , they have decided to do a POC with a data from a particular financial institution. The data is given in the file \"loans data.csv\". Lets begin: "
   ]
  },
  {
   "cell_type": "markdown",
   "metadata": {},
   "source": [
    "## Step 0: Basic Imports"
   ]
  },
  {
   "cell_type": "code",
   "execution_count": 1,
   "metadata": {
    "ExecuteTime": {
     "end_time": "2019-11-10T11:09:52.802041Z",
     "start_time": "2019-11-10T11:09:51.017730Z"
    }
   },
   "outputs": [],
   "source": [
    "import pandas as pd \n",
    "import numpy as np\n",
    "import matplotlib.pyplot as plt\n",
    "import seaborn as sns"
   ]
  },
  {
   "cell_type": "markdown",
   "metadata": {
    "heading_collapsed": true
   },
   "source": [
    "## Step 1: Load dataset"
   ]
  },
  {
   "cell_type": "code",
   "execution_count": 2,
   "metadata": {
    "ExecuteTime": {
     "end_time": "2019-11-10T11:10:24.083806Z",
     "start_time": "2019-11-10T11:10:24.045106Z"
    },
    "hidden": true
   },
   "outputs": [],
   "source": [
    "train_file='/media/dell/D_PROJECTS/Edvancer_Class/DataScienceWithR/Data/loan_data_train.csv' #relative path. So in present working directory it will look for data folder.\n",
    "test_file='/media/dell/D_PROJECTS/Edvancer_Class/DataScienceWithR/Data/loan_data_test.csv'\n",
    "\n",
    "df_train=pd.read_csv(train_file) #read_csv is a function in pandas.\n",
    "df_test=pd.read_csv(test_file)               "
   ]
  },
  {
   "cell_type": "code",
   "execution_count": 3,
   "metadata": {
    "ExecuteTime": {
     "end_time": "2019-11-10T11:16:26.930692Z",
     "start_time": "2019-11-10T11:16:26.913776Z"
    },
    "hidden": true
   },
   "outputs": [
    {
     "name": "stdout",
     "output_type": "stream",
     "text": [
      "(2200, 15)\n"
     ]
    },
    {
     "data": {
      "text/html": [
       "<div>\n",
       "<style scoped>\n",
       "    .dataframe tbody tr th:only-of-type {\n",
       "        vertical-align: middle;\n",
       "    }\n",
       "\n",
       "    .dataframe tbody tr th {\n",
       "        vertical-align: top;\n",
       "    }\n",
       "\n",
       "    .dataframe thead th {\n",
       "        text-align: right;\n",
       "    }\n",
       "</style>\n",
       "<table border=\"1\" class=\"dataframe\">\n",
       "  <thead>\n",
       "    <tr style=\"text-align: right;\">\n",
       "      <th></th>\n",
       "      <th>ID</th>\n",
       "      <th>Amount.Requested</th>\n",
       "      <th>Amount.Funded.By.Investors</th>\n",
       "      <th>Interest.Rate</th>\n",
       "      <th>Loan.Length</th>\n",
       "      <th>Loan.Purpose</th>\n",
       "      <th>Debt.To.Income.Ratio</th>\n",
       "      <th>State</th>\n",
       "      <th>Home.Ownership</th>\n",
       "      <th>Monthly.Income</th>\n",
       "      <th>FICO.Range</th>\n",
       "      <th>Open.CREDIT.Lines</th>\n",
       "      <th>Revolving.CREDIT.Balance</th>\n",
       "      <th>Inquiries.in.the.Last.6.Months</th>\n",
       "      <th>Employment.Length</th>\n",
       "    </tr>\n",
       "  </thead>\n",
       "  <tbody>\n",
       "    <tr>\n",
       "      <th>0</th>\n",
       "      <td>79542.0</td>\n",
       "      <td>25000</td>\n",
       "      <td>25000</td>\n",
       "      <td>18.49%</td>\n",
       "      <td>60 months</td>\n",
       "      <td>debt_consolidation</td>\n",
       "      <td>27.56%</td>\n",
       "      <td>VA</td>\n",
       "      <td>MORTGAGE</td>\n",
       "      <td>8606.56</td>\n",
       "      <td>720-724</td>\n",
       "      <td>11</td>\n",
       "      <td>15210</td>\n",
       "      <td>3.0</td>\n",
       "      <td>5 years</td>\n",
       "    </tr>\n",
       "    <tr>\n",
       "      <th>1</th>\n",
       "      <td>75473.0</td>\n",
       "      <td>19750</td>\n",
       "      <td>19750</td>\n",
       "      <td>17.27%</td>\n",
       "      <td>60 months</td>\n",
       "      <td>debt_consolidation</td>\n",
       "      <td>13.39%</td>\n",
       "      <td>NY</td>\n",
       "      <td>MORTGAGE</td>\n",
       "      <td>6737.50</td>\n",
       "      <td>710-714</td>\n",
       "      <td>14</td>\n",
       "      <td>19070</td>\n",
       "      <td>3.0</td>\n",
       "      <td>4 years</td>\n",
       "    </tr>\n",
       "  </tbody>\n",
       "</table>\n",
       "</div>"
      ],
      "text/plain": [
       "        ID Amount.Requested Amount.Funded.By.Investors Interest.Rate  \\\n",
       "0  79542.0            25000                      25000        18.49%   \n",
       "1  75473.0            19750                      19750        17.27%   \n",
       "\n",
       "  Loan.Length        Loan.Purpose Debt.To.Income.Ratio State Home.Ownership  \\\n",
       "0   60 months  debt_consolidation               27.56%    VA       MORTGAGE   \n",
       "1   60 months  debt_consolidation               13.39%    NY       MORTGAGE   \n",
       "\n",
       "   Monthly.Income FICO.Range Open.CREDIT.Lines Revolving.CREDIT.Balance  \\\n",
       "0         8606.56    720-724                11                    15210   \n",
       "1         6737.50    710-714                14                    19070   \n",
       "\n",
       "   Inquiries.in.the.Last.6.Months Employment.Length  \n",
       "0                             3.0           5 years  \n",
       "1                             3.0           4 years  "
      ]
     },
     "execution_count": 3,
     "metadata": {},
     "output_type": "execute_result"
    }
   ],
   "source": [
    "print(df_train.shape) #check no of rows (ie the no of data points) and cols (ie the no of features)\n",
    "df_train.head(2) #display the first 5 columns in your dataset"
   ]
  },
  {
   "cell_type": "markdown",
   "metadata": {
    "hidden": true
   },
   "source": [
    "14 features and 1 target variable"
   ]
  },
  {
   "cell_type": "code",
   "execution_count": 4,
   "metadata": {
    "ExecuteTime": {
     "end_time": "2019-11-10T11:16:38.964132Z",
     "start_time": "2019-11-10T11:16:38.947690Z"
    },
    "hidden": true,
    "scrolled": true
   },
   "outputs": [
    {
     "name": "stdout",
     "output_type": "stream",
     "text": [
      "(300, 14)\n"
     ]
    },
    {
     "data": {
      "text/html": [
       "<div>\n",
       "<style scoped>\n",
       "    .dataframe tbody tr th:only-of-type {\n",
       "        vertical-align: middle;\n",
       "    }\n",
       "\n",
       "    .dataframe tbody tr th {\n",
       "        vertical-align: top;\n",
       "    }\n",
       "\n",
       "    .dataframe thead th {\n",
       "        text-align: right;\n",
       "    }\n",
       "</style>\n",
       "<table border=\"1\" class=\"dataframe\">\n",
       "  <thead>\n",
       "    <tr style=\"text-align: right;\">\n",
       "      <th></th>\n",
       "      <th>ID</th>\n",
       "      <th>Amount.Requested</th>\n",
       "      <th>Amount.Funded.By.Investors</th>\n",
       "      <th>Loan.Length</th>\n",
       "      <th>Loan.Purpose</th>\n",
       "      <th>Debt.To.Income.Ratio</th>\n",
       "      <th>State</th>\n",
       "      <th>Home.Ownership</th>\n",
       "      <th>Monthly.Income</th>\n",
       "      <th>FICO.Range</th>\n",
       "      <th>Open.CREDIT.Lines</th>\n",
       "      <th>Revolving.CREDIT.Balance</th>\n",
       "      <th>Inquiries.in.the.Last.6.Months</th>\n",
       "      <th>Employment.Length</th>\n",
       "    </tr>\n",
       "  </thead>\n",
       "  <tbody>\n",
       "    <tr>\n",
       "      <th>152</th>\n",
       "      <td>21458</td>\n",
       "      <td>14000</td>\n",
       "      <td>14000</td>\n",
       "      <td>36 months</td>\n",
       "      <td>major_purchase</td>\n",
       "      <td>10.68%</td>\n",
       "      <td>FL</td>\n",
       "      <td>MORTGAGE</td>\n",
       "      <td>21666.67</td>\n",
       "      <td>735-739</td>\n",
       "      <td>14</td>\n",
       "      <td>13850</td>\n",
       "      <td>3</td>\n",
       "      <td>1 year</td>\n",
       "    </tr>\n",
       "    <tr>\n",
       "      <th>38</th>\n",
       "      <td>65775</td>\n",
       "      <td>7000</td>\n",
       "      <td>7000</td>\n",
       "      <td>36 months</td>\n",
       "      <td>debt_consolidation</td>\n",
       "      <td>23.02%</td>\n",
       "      <td>TX</td>\n",
       "      <td>MORTGAGE</td>\n",
       "      <td>6000.00</td>\n",
       "      <td>705-709</td>\n",
       "      <td>17</td>\n",
       "      <td>19634</td>\n",
       "      <td>2</td>\n",
       "      <td>6 years</td>\n",
       "    </tr>\n",
       "    <tr>\n",
       "      <th>193</th>\n",
       "      <td>67335</td>\n",
       "      <td>23675</td>\n",
       "      <td>23675</td>\n",
       "      <td>36 months</td>\n",
       "      <td>credit_card</td>\n",
       "      <td>29.94%</td>\n",
       "      <td>PA</td>\n",
       "      <td>OWN</td>\n",
       "      <td>6399.00</td>\n",
       "      <td>680-684</td>\n",
       "      <td>21</td>\n",
       "      <td>21920</td>\n",
       "      <td>0</td>\n",
       "      <td>10+ years</td>\n",
       "    </tr>\n",
       "    <tr>\n",
       "      <th>182</th>\n",
       "      <td>86134</td>\n",
       "      <td>10300</td>\n",
       "      <td>10300</td>\n",
       "      <td>36 months</td>\n",
       "      <td>debt_consolidation</td>\n",
       "      <td>33.37%</td>\n",
       "      <td>GA</td>\n",
       "      <td>MORTGAGE</td>\n",
       "      <td>2583.33</td>\n",
       "      <td>715-719</td>\n",
       "      <td>19</td>\n",
       "      <td>12475</td>\n",
       "      <td>0</td>\n",
       "      <td>7 years</td>\n",
       "    </tr>\n",
       "    <tr>\n",
       "      <th>143</th>\n",
       "      <td>54576</td>\n",
       "      <td>14000</td>\n",
       "      <td>14000</td>\n",
       "      <td>36 months</td>\n",
       "      <td>debt_consolidation</td>\n",
       "      <td>22.55%</td>\n",
       "      <td>NJ</td>\n",
       "      <td>MORTGAGE</td>\n",
       "      <td>8750.00</td>\n",
       "      <td>710-714</td>\n",
       "      <td>8</td>\n",
       "      <td>25026</td>\n",
       "      <td>0</td>\n",
       "      <td>10+ years</td>\n",
       "    </tr>\n",
       "  </tbody>\n",
       "</table>\n",
       "</div>"
      ],
      "text/plain": [
       "        ID  Amount.Requested Amount.Funded.By.Investors Loan.Length  \\\n",
       "152  21458             14000                      14000   36 months   \n",
       "38   65775              7000                       7000   36 months   \n",
       "193  67335             23675                      23675   36 months   \n",
       "182  86134             10300                      10300   36 months   \n",
       "143  54576             14000                      14000   36 months   \n",
       "\n",
       "           Loan.Purpose Debt.To.Income.Ratio State Home.Ownership  \\\n",
       "152      major_purchase               10.68%    FL       MORTGAGE   \n",
       "38   debt_consolidation               23.02%    TX       MORTGAGE   \n",
       "193         credit_card               29.94%    PA            OWN   \n",
       "182  debt_consolidation               33.37%    GA       MORTGAGE   \n",
       "143  debt_consolidation               22.55%    NJ       MORTGAGE   \n",
       "\n",
       "     Monthly.Income FICO.Range Open.CREDIT.Lines  Revolving.CREDIT.Balance  \\\n",
       "152        21666.67    735-739                14                     13850   \n",
       "38          6000.00    705-709                17                     19634   \n",
       "193         6399.00    680-684                21                     21920   \n",
       "182         2583.33    715-719                19                     12475   \n",
       "143         8750.00    710-714                 8                     25026   \n",
       "\n",
       "     Inquiries.in.the.Last.6.Months Employment.Length  \n",
       "152                               3            1 year  \n",
       "38                                2           6 years  \n",
       "193                               0         10+ years  \n",
       "182                               0           7 years  \n",
       "143                               0         10+ years  "
      ]
     },
     "execution_count": 4,
     "metadata": {},
     "output_type": "execute_result"
    }
   ],
   "source": [
    "#test data does not have interest rate\n",
    "print(df_test.shape)\n",
    "df_test.sample(5)"
   ]
  },
  {
   "cell_type": "markdown",
   "metadata": {},
   "source": [
    "## Step 2: Data Visualisation and Feature Selection"
   ]
  },
  {
   "cell_type": "markdown",
   "metadata": {},
   "source": [
    "### 2.1. Check dtypes"
   ]
  },
  {
   "cell_type": "code",
   "execution_count": 5,
   "metadata": {
    "ExecuteTime": {
     "end_time": "2019-11-10T11:18:55.915464Z",
     "start_time": "2019-11-10T11:18:55.909256Z"
    }
   },
   "outputs": [
    {
     "data": {
      "text/plain": [
       "ID                                float64\n",
       "Amount.Requested                   object\n",
       "Amount.Funded.By.Investors         object\n",
       "Interest.Rate                      object\n",
       "Loan.Length                        object\n",
       "Loan.Purpose                       object\n",
       "Debt.To.Income.Ratio               object\n",
       "State                              object\n",
       "Home.Ownership                     object\n",
       "Monthly.Income                    float64\n",
       "FICO.Range                         object\n",
       "Open.CREDIT.Lines                  object\n",
       "Revolving.CREDIT.Balance           object\n",
       "Inquiries.in.the.Last.6.Months    float64\n",
       "Employment.Length                  object\n",
       "dtype: object"
      ]
     },
     "execution_count": 5,
     "metadata": {},
     "output_type": "execute_result"
    }
   ],
   "source": [
    "df_train.dtypes #this will return a list of the columns and their respective dtypes"
   ]
  },
  {
   "cell_type": "code",
   "execution_count": 6,
   "metadata": {
    "ExecuteTime": {
     "end_time": "2019-11-10T11:18:41.831751Z",
     "start_time": "2019-11-10T11:18:41.819515Z"
    }
   },
   "outputs": [
    {
     "data": {
      "text/plain": [
       "array([dtype('float64'), dtype('O')], dtype=object)"
      ]
     },
     "execution_count": 6,
     "metadata": {},
     "output_type": "execute_result"
    }
   ],
   "source": [
    "#df_train.dtypes #this will return a list of the columns and their respective dtypes\n",
    "df_train.dtypes.unique() #will give the unique dtypes in my dataset"
   ]
  },
  {
   "cell_type": "code",
   "execution_count": 7,
   "metadata": {
    "ExecuteTime": {
     "end_time": "2019-11-10T11:21:17.841236Z",
     "start_time": "2019-11-10T11:21:17.824690Z"
    }
   },
   "outputs": [
    {
     "data": {
      "text/plain": [
       "(Index(['Amount.Requested', 'Amount.Funded.By.Investors', 'Interest.Rate',\n",
       "        'Loan.Length', 'Loan.Purpose', 'Debt.To.Income.Ratio', 'State',\n",
       "        'Home.Ownership', 'FICO.Range', 'Open.CREDIT.Lines',\n",
       "        'Revolving.CREDIT.Balance', 'Employment.Length'],\n",
       "       dtype='object'), 12)"
      ]
     },
     "execution_count": 7,
     "metadata": {},
     "output_type": "execute_result"
    }
   ],
   "source": [
    "#df_train.select_dtypes(\"object\") --> this will return a dataframe with only object type columns\n",
    "obj_cols = df_train.select_dtypes(\"object\").columns\n",
    "obj_cols, len(obj_cols)"
   ]
  },
  {
   "cell_type": "markdown",
   "metadata": {},
   "source": [
    "Dtypes for 12 feature has to be fixed"
   ]
  },
  {
   "cell_type": "code",
   "execution_count": 8,
   "metadata": {
    "ExecuteTime": {
     "end_time": "2019-11-10T11:24:28.150207Z",
     "start_time": "2019-11-10T11:24:28.120472Z"
    }
   },
   "outputs": [
    {
     "name": "stdout",
     "output_type": "stream",
     "text": [
      "(2200, 12)\n"
     ]
    },
    {
     "data": {
      "text/html": [
       "<div>\n",
       "<style scoped>\n",
       "    .dataframe tbody tr th:only-of-type {\n",
       "        vertical-align: middle;\n",
       "    }\n",
       "\n",
       "    .dataframe tbody tr th {\n",
       "        vertical-align: top;\n",
       "    }\n",
       "\n",
       "    .dataframe thead th {\n",
       "        text-align: right;\n",
       "    }\n",
       "</style>\n",
       "<table border=\"1\" class=\"dataframe\">\n",
       "  <thead>\n",
       "    <tr style=\"text-align: right;\">\n",
       "      <th></th>\n",
       "      <th>Amount.Requested</th>\n",
       "      <th>Amount.Funded.By.Investors</th>\n",
       "      <th>Interest.Rate</th>\n",
       "      <th>Loan.Length</th>\n",
       "      <th>Loan.Purpose</th>\n",
       "      <th>Debt.To.Income.Ratio</th>\n",
       "      <th>State</th>\n",
       "      <th>Home.Ownership</th>\n",
       "      <th>FICO.Range</th>\n",
       "      <th>Open.CREDIT.Lines</th>\n",
       "      <th>Revolving.CREDIT.Balance</th>\n",
       "      <th>Employment.Length</th>\n",
       "    </tr>\n",
       "  </thead>\n",
       "  <tbody>\n",
       "    <tr>\n",
       "      <th>1417</th>\n",
       "      <td>10000</td>\n",
       "      <td>10000</td>\n",
       "      <td>18.55%</td>\n",
       "      <td>36 months</td>\n",
       "      <td>credit_card</td>\n",
       "      <td>6.24%</td>\n",
       "      <td>FL</td>\n",
       "      <td>RENT</td>\n",
       "      <td>670-674</td>\n",
       "      <td>8</td>\n",
       "      <td>9783</td>\n",
       "      <td>3 years</td>\n",
       "    </tr>\n",
       "    <tr>\n",
       "      <th>1735</th>\n",
       "      <td>9250</td>\n",
       "      <td>9250</td>\n",
       "      <td>12.12%</td>\n",
       "      <td>36 months</td>\n",
       "      <td>debt_consolidation</td>\n",
       "      <td>29.46%</td>\n",
       "      <td>TX</td>\n",
       "      <td>MORTGAGE</td>\n",
       "      <td>685-689</td>\n",
       "      <td>10</td>\n",
       "      <td>5440</td>\n",
       "      <td>10+ years</td>\n",
       "    </tr>\n",
       "    <tr>\n",
       "      <th>1970</th>\n",
       "      <td>20000</td>\n",
       "      <td>20000</td>\n",
       "      <td>12.69%</td>\n",
       "      <td>60 months</td>\n",
       "      <td>debt_consolidation</td>\n",
       "      <td>17.96%</td>\n",
       "      <td>RI</td>\n",
       "      <td>MORTGAGE</td>\n",
       "      <td>735-739</td>\n",
       "      <td>13</td>\n",
       "      <td>22946</td>\n",
       "      <td>10+ years</td>\n",
       "    </tr>\n",
       "    <tr>\n",
       "      <th>1723</th>\n",
       "      <td>5000</td>\n",
       "      <td>5000</td>\n",
       "      <td>15.21%</td>\n",
       "      <td>60 months</td>\n",
       "      <td>house</td>\n",
       "      <td>10.38%</td>\n",
       "      <td>CA</td>\n",
       "      <td>RENT</td>\n",
       "      <td>680-684</td>\n",
       "      <td>11</td>\n",
       "      <td>5045</td>\n",
       "      <td>8 years</td>\n",
       "    </tr>\n",
       "    <tr>\n",
       "      <th>395</th>\n",
       "      <td>35000</td>\n",
       "      <td>34950</td>\n",
       "      <td>8.90%</td>\n",
       "      <td>36 months</td>\n",
       "      <td>debt_consolidation</td>\n",
       "      <td>20.46%</td>\n",
       "      <td>CT</td>\n",
       "      <td>RENT</td>\n",
       "      <td>735-739</td>\n",
       "      <td>19</td>\n",
       "      <td>21536</td>\n",
       "      <td>1 year</td>\n",
       "    </tr>\n",
       "  </tbody>\n",
       "</table>\n",
       "</div>"
      ],
      "text/plain": [
       "     Amount.Requested Amount.Funded.By.Investors Interest.Rate Loan.Length  \\\n",
       "1417            10000                      10000        18.55%   36 months   \n",
       "1735             9250                       9250        12.12%   36 months   \n",
       "1970            20000                      20000        12.69%   60 months   \n",
       "1723             5000                       5000        15.21%   60 months   \n",
       "395             35000                      34950         8.90%   36 months   \n",
       "\n",
       "            Loan.Purpose Debt.To.Income.Ratio State Home.Ownership FICO.Range  \\\n",
       "1417         credit_card                6.24%    FL           RENT    670-674   \n",
       "1735  debt_consolidation               29.46%    TX       MORTGAGE    685-689   \n",
       "1970  debt_consolidation               17.96%    RI       MORTGAGE    735-739   \n",
       "1723               house               10.38%    CA           RENT    680-684   \n",
       "395   debt_consolidation               20.46%    CT           RENT    735-739   \n",
       "\n",
       "     Open.CREDIT.Lines Revolving.CREDIT.Balance Employment.Length  \n",
       "1417                 8                     9783           3 years  \n",
       "1735                10                     5440         10+ years  \n",
       "1970                13                    22946         10+ years  \n",
       "1723                11                     5045           8 years  \n",
       "395                 19                    21536            1 year  "
      ]
     },
     "execution_count": 8,
     "metadata": {},
     "output_type": "execute_result"
    }
   ],
   "source": [
    "print(df_train[obj_cols].shape)\n",
    "df_train[obj_cols].sample(5) #slicing of dataframe-->dataframe[list_of_desired_cols]"
   ]
  },
  {
   "cell_type": "code",
   "execution_count": 9,
   "metadata": {
    "ExecuteTime": {
     "end_time": "2019-11-10T11:32:43.338517Z",
     "start_time": "2019-11-10T11:32:43.324683Z"
    }
   },
   "outputs": [
    {
     "data": {
      "text/plain": [
       "36 months    1722\n",
       "60 months     476\n",
       ".               1\n",
       "Name: Loan.Length, dtype: int64"
      ]
     },
     "execution_count": 9,
     "metadata": {},
     "output_type": "execute_result"
    }
   ],
   "source": [
    "df_train[\"Loan.Length\"].value_counts() #unique value and the count of each value"
   ]
  },
  {
   "cell_type": "code",
   "execution_count": 10,
   "metadata": {
    "ExecuteTime": {
     "end_time": "2019-11-10T11:33:31.756715Z",
     "start_time": "2019-11-10T11:33:31.749333Z"
    }
   },
   "outputs": [
    {
     "data": {
      "text/plain": [
       "debt_consolidation    1147\n",
       "credit_card            394\n",
       "other                  174\n",
       "home_improvement       135\n",
       "major_purchase          84\n",
       "small_business          80\n",
       "car                     45\n",
       "wedding                 35\n",
       "medical                 26\n",
       "moving                  25\n",
       "house                   19\n",
       "vacation                18\n",
       "educational             14\n",
       "renewable_energy         3\n",
       "Name: Loan.Purpose, dtype: int64"
      ]
     },
     "execution_count": 10,
     "metadata": {},
     "output_type": "execute_result"
    }
   ],
   "source": [
    "df_train[\"Loan.Purpose\"].value_counts()"
   ]
  },
  {
   "cell_type": "code",
   "execution_count": 11,
   "metadata": {
    "ExecuteTime": {
     "end_time": "2019-11-10T11:35:12.331185Z",
     "start_time": "2019-11-10T11:35:12.323910Z"
    }
   },
   "outputs": [
    {
     "data": {
      "text/plain": [
       "MORTGAGE    1018\n",
       "RENT         999\n",
       "OWN          177\n",
       "OTHER          4\n",
       "NONE           1\n",
       "Name: Home.Ownership, dtype: int64"
      ]
     },
     "execution_count": 11,
     "metadata": {},
     "output_type": "execute_result"
    }
   ],
   "source": [
    "df_train[\"Home.Ownership\"].value_counts()"
   ]
  },
  {
   "cell_type": "code",
   "execution_count": 12,
   "metadata": {
    "ExecuteTime": {
     "end_time": "2019-11-10T11:35:27.059823Z",
     "start_time": "2019-11-10T11:35:27.052826Z"
    }
   },
   "outputs": [
    {
     "data": {
      "text/plain": [
       "10+ years    575\n",
       "< 1 year     229\n",
       "2 years      217\n",
       "3 years      203\n",
       "5 years      181\n",
       "4 years      162\n",
       "1 year       159\n",
       "6 years      134\n",
       "7 years      109\n",
       "8 years       95\n",
       "9 years       66\n",
       ".              1\n",
       "Name: Employment.Length, dtype: int64"
      ]
     },
     "execution_count": 12,
     "metadata": {},
     "output_type": "execute_result"
    }
   ],
   "source": [
    "df_train[\"Employment.Length\"].value_counts()"
   ]
  },
  {
   "cell_type": "markdown",
   "metadata": {},
   "source": [
    "### 2.1.1. Some observations"
   ]
  },
  {
   "cell_type": "markdown",
   "metadata": {},
   "source": [
    "1. 'Amount.Requested': **convert it to numeric**\n",
    "2. 'Amount.Funded.By.Investors': **drop**\n",
    "3. 'Interest.Rate': **remove % and then to numeric**\n",
    "4. 'Loan.Length': **dummies for categories**\n",
    "5. 'Loan.Purpose': **dummies for categories**\n",
    "6. 'Debt.To.Income.Ratio': **remove % and then to numeric**\n",
    "7. 'State': **dummies for categories**\n",
    "8. 'Home.Ownership': **dummies for categories**\n",
    "9. 'FICO.Range': **replace it by a numeric column which is average of the range**\n",
    "10. 'Open.CREDIT.Lines': **convert it to numeric**\n",
    "11. 'Revolving.CREDIT.Balance': **convert it to numeric**\n",
    "12. 'Employment.Length': **convert it to number**\n",
    "\n",
    "\n",
    "##### Lets group by operation:\n",
    "\n",
    "1. drop: \n",
    "    - ID \n",
    "    - Amount.Funded.By.Investors\n",
    "<br>\n",
    "2. convert it to numeric \n",
    "    - Amount.Requested\n",
    "    - Open.CREDIT.Lines\n",
    "    - Revolving.CREDIT.Balance\n",
    "<br>\n",
    "3. remove % and then to numeric\n",
    "    - Interest Rate\n",
    "    - Debt to income ratio\n",
    "<br>\n",
    "4. replace it by a numeric column which is average of the range\n",
    "    - FICO.Range \n",
    "<br>\n",
    "5. convert to number:\n",
    "    - Employment Length \n",
    "<br>\n",
    "6. dummies for categories with good occurence rate:\n",
    "    - Loan Lenth\n",
    "    - Loan Purpose\n",
    "    - State\n",
    "    - Home ownership"
   ]
  },
  {
   "cell_type": "markdown",
   "metadata": {},
   "source": [
    "### 2.1.2. Fix Dtypes"
   ]
  },
  {
   "cell_type": "markdown",
   "metadata": {
    "heading_collapsed": true
   },
   "source": [
    "#### Operation 1: df.drop([ ], inplace=True)"
   ]
  },
  {
   "cell_type": "code",
   "execution_count": 13,
   "metadata": {
    "ExecuteTime": {
     "end_time": "2019-11-10T11:39:04.173979Z",
     "start_time": "2019-11-10T11:39:04.169633Z"
    },
    "hidden": true
   },
   "outputs": [
    {
     "data": {
      "text/plain": [
       "(2200, 15)"
      ]
     },
     "execution_count": 13,
     "metadata": {},
     "output_type": "execute_result"
    }
   ],
   "source": [
    "df_train.shape"
   ]
  },
  {
   "cell_type": "code",
   "execution_count": 14,
   "metadata": {
    "ExecuteTime": {
     "end_time": "2019-11-10T11:40:55.031709Z",
     "start_time": "2019-11-10T11:40:55.027279Z"
    },
    "hidden": true
   },
   "outputs": [],
   "source": [
    "df_train.drop(['ID','Amount.Funded.By.Investors'], axis=1, inplace=True)\n",
    "#with inplace=True df_train will itself change. "
   ]
  },
  {
   "cell_type": "code",
   "execution_count": 15,
   "metadata": {
    "ExecuteTime": {
     "end_time": "2019-11-10T11:41:55.827171Z",
     "start_time": "2019-11-10T11:41:55.822753Z"
    },
    "hidden": true
   },
   "outputs": [
    {
     "data": {
      "text/plain": [
       "(2200, 13)"
      ]
     },
     "execution_count": 15,
     "metadata": {},
     "output_type": "execute_result"
    }
   ],
   "source": [
    "df_train.shape"
   ]
  },
  {
   "cell_type": "markdown",
   "metadata": {
    "heading_collapsed": true
   },
   "source": [
    "#### Operation 2: pd.to_numeric"
   ]
  },
  {
   "cell_type": "markdown",
   "metadata": {
    "hidden": true
   },
   "source": [
    "We can see that many columns which should have really been numbers have been imported as character columns , probably because some characters values in those columns in the files. We'll convert all such columns to numbers ."
   ]
  },
  {
   "cell_type": "code",
   "execution_count": 16,
   "metadata": {
    "ExecuteTime": {
     "end_time": "2019-11-10T11:42:48.667471Z",
     "start_time": "2019-11-10T11:42:48.661398Z"
    },
    "hidden": true
   },
   "outputs": [
    {
     "data": {
      "text/plain": [
       "Amount.Requested                   object\n",
       "Interest.Rate                      object\n",
       "Loan.Length                        object\n",
       "Loan.Purpose                       object\n",
       "Debt.To.Income.Ratio               object\n",
       "State                              object\n",
       "Home.Ownership                     object\n",
       "Monthly.Income                    float64\n",
       "FICO.Range                         object\n",
       "Open.CREDIT.Lines                  object\n",
       "Revolving.CREDIT.Balance           object\n",
       "Inquiries.in.the.Last.6.Months    float64\n",
       "Employment.Length                  object\n",
       "dtype: object"
      ]
     },
     "execution_count": 16,
     "metadata": {},
     "output_type": "execute_result"
    }
   ],
   "source": [
    "df_train.dtypes"
   ]
  },
  {
   "cell_type": "code",
   "execution_count": 17,
   "metadata": {
    "ExecuteTime": {
     "end_time": "2019-11-10T11:48:03.174357Z",
     "start_time": "2019-11-10T11:48:03.164992Z"
    },
    "hidden": true
   },
   "outputs": [],
   "source": [
    "for col in ['Amount.Requested', 'Open.CREDIT.Lines','Revolving.CREDIT.Balance']:\n",
    "    df_train[col]=pd.to_numeric(df_train[col], errors='coerce') "
   ]
  },
  {
   "cell_type": "code",
   "execution_count": 18,
   "metadata": {
    "ExecuteTime": {
     "end_time": "2019-11-10T11:48:03.616050Z",
     "start_time": "2019-11-10T11:48:03.609756Z"
    },
    "hidden": true,
    "scrolled": true
   },
   "outputs": [
    {
     "data": {
      "text/plain": [
       "Amount.Requested                  float64\n",
       "Interest.Rate                      object\n",
       "Loan.Length                        object\n",
       "Loan.Purpose                       object\n",
       "Debt.To.Income.Ratio               object\n",
       "State                              object\n",
       "Home.Ownership                     object\n",
       "Monthly.Income                    float64\n",
       "FICO.Range                         object\n",
       "Open.CREDIT.Lines                 float64\n",
       "Revolving.CREDIT.Balance          float64\n",
       "Inquiries.in.the.Last.6.Months    float64\n",
       "Employment.Length                  object\n",
       "dtype: object"
      ]
     },
     "execution_count": 18,
     "metadata": {},
     "output_type": "execute_result"
    }
   ],
   "source": [
    "df_train.dtypes"
   ]
  },
  {
   "cell_type": "markdown",
   "metadata": {
    "heading_collapsed": true
   },
   "source": [
    "#### Operation 3: First String operation df[col].str.string_operation --> pd.to_numeric"
   ]
  },
  {
   "cell_type": "markdown",
   "metadata": {
    "hidden": true
   },
   "source": [
    "variable `Interest.Rate` and `Debt.To.Income.Ratio` contain \"%\" sign in their values and because of which they have come as character columns in the data. Lets remove these percentages first."
   ]
  },
  {
   "cell_type": "code",
   "execution_count": 19,
   "metadata": {
    "ExecuteTime": {
     "end_time": "2019-11-10T11:54:34.594879Z",
     "start_time": "2019-11-10T11:54:34.592302Z"
    },
    "hidden": true
   },
   "outputs": [],
   "source": [
    "#\"aa%bb\".replace(\"%\",\"\") #\"aabb\""
   ]
  },
  {
   "cell_type": "code",
   "execution_count": 20,
   "metadata": {
    "ExecuteTime": {
     "end_time": "2019-11-10T11:52:05.519101Z",
     "start_time": "2019-11-10T11:52:05.513023Z"
    },
    "hidden": true
   },
   "outputs": [
    {
     "data": {
      "text/plain": [
       "1411    15.80%\n",
       "193      7.49%\n",
       "Name: Interest.Rate, dtype: object"
      ]
     },
     "execution_count": 20,
     "metadata": {},
     "output_type": "execute_result"
    }
   ],
   "source": [
    "df_train['Interest.Rate'].sample(2)"
   ]
  },
  {
   "cell_type": "code",
   "execution_count": 21,
   "metadata": {
    "ExecuteTime": {
     "end_time": "2019-11-10T11:54:57.665276Z",
     "start_time": "2019-11-10T11:54:57.656486Z"
    },
    "hidden": true
   },
   "outputs": [
    {
     "name": "stdout",
     "output_type": "stream",
     "text": [
      "Interest.Rate\n",
      "Debt.To.Income.Ratio\n"
     ]
    }
   ],
   "source": [
    "for col in ['Interest.Rate','Debt.To.Income.Ratio']:\n",
    "    print(col)\n",
    "    df_train[col]=df_train[col].str.replace(\"%\",\"\") #first convert the row value to string type\n",
    "                                                    #and then perfrom replace operation"
   ]
  },
  {
   "cell_type": "code",
   "execution_count": 22,
   "metadata": {
    "ExecuteTime": {
     "end_time": "2019-11-10T11:55:55.071322Z",
     "start_time": "2019-11-10T11:55:55.065486Z"
    },
    "hidden": true
   },
   "outputs": [
    {
     "data": {
      "text/plain": [
       "1402    14.09\n",
       "1406    15.95\n",
       "Name: Interest.Rate, dtype: object"
      ]
     },
     "execution_count": 22,
     "metadata": {},
     "output_type": "execute_result"
    }
   ],
   "source": [
    "#Lets check the effect of replace operation\n",
    "df_train['Interest.Rate'].sample(2)"
   ]
  },
  {
   "cell_type": "code",
   "execution_count": 23,
   "metadata": {
    "ExecuteTime": {
     "end_time": "2019-11-10T11:56:07.466553Z",
     "start_time": "2019-11-10T11:56:07.459843Z"
    },
    "hidden": true
   },
   "outputs": [],
   "source": [
    "#Now we can convert to numeric\n",
    "for col in ['Interest.Rate','Debt.To.Income.Ratio']:\n",
    "    df_train[col]=pd.to_numeric(df_train[col],errors='coerce') "
   ]
  },
  {
   "cell_type": "code",
   "execution_count": 24,
   "metadata": {
    "ExecuteTime": {
     "end_time": "2019-11-10T11:56:08.197503Z",
     "start_time": "2019-11-10T11:56:08.191101Z"
    },
    "hidden": true
   },
   "outputs": [
    {
     "data": {
      "text/plain": [
       "Amount.Requested                  float64\n",
       "Interest.Rate                     float64\n",
       "Loan.Length                        object\n",
       "Loan.Purpose                       object\n",
       "Debt.To.Income.Ratio              float64\n",
       "State                              object\n",
       "Home.Ownership                     object\n",
       "Monthly.Income                    float64\n",
       "FICO.Range                         object\n",
       "Open.CREDIT.Lines                 float64\n",
       "Revolving.CREDIT.Balance          float64\n",
       "Inquiries.in.the.Last.6.Months    float64\n",
       "Employment.Length                  object\n",
       "dtype: object"
      ]
     },
     "execution_count": 24,
     "metadata": {},
     "output_type": "execute_result"
    }
   ],
   "source": [
    "df_train.dtypes"
   ]
  },
  {
   "cell_type": "markdown",
   "metadata": {
    "heading_collapsed": true
   },
   "source": [
    "#### Operation 4: .str.split(expand=True) -->df_train[new_name]"
   ]
  },
  {
   "cell_type": "markdown",
   "metadata": {
    "hidden": true
   },
   "source": [
    "If we look at first few values of variable FICO.Range , we can see that we can convert it to numeric by taking average of the range given. To do that first we need to split the column with \"-\", so that we can have both end of ranges in separate columns and then we can simply average them."
   ]
  },
  {
   "cell_type": "code",
   "execution_count": 25,
   "metadata": {
    "ExecuteTime": {
     "end_time": "2019-11-10T12:01:20.865297Z",
     "start_time": "2019-11-10T12:01:20.860868Z"
    },
    "hidden": true
   },
   "outputs": [
    {
     "data": {
      "text/plain": [
       "['660', '770']"
      ]
     },
     "execution_count": 25,
     "metadata": {},
     "output_type": "execute_result"
    }
   ],
   "source": [
    "\"660-770\".split(\"-\") #for understanding"
   ]
  },
  {
   "cell_type": "code",
   "execution_count": 26,
   "metadata": {
    "ExecuteTime": {
     "end_time": "2019-11-10T12:01:46.447926Z",
     "start_time": "2019-11-10T12:01:46.441627Z"
    },
    "hidden": true
   },
   "outputs": [
    {
     "data": {
      "text/plain": [
       "534     785-789\n",
       "1531    740-744\n",
       "Name: FICO.Range, dtype: object"
      ]
     },
     "execution_count": 26,
     "metadata": {},
     "output_type": "execute_result"
    }
   ],
   "source": [
    "df_train['FICO.Range'].sample(2)"
   ]
  },
  {
   "cell_type": "code",
   "execution_count": 27,
   "metadata": {
    "ExecuteTime": {
     "end_time": "2019-11-10T12:02:55.211300Z",
     "start_time": "2019-11-10T12:02:55.199500Z"
    },
    "hidden": true
   },
   "outputs": [],
   "source": [
    "k=df_train['FICO.Range'].str.split(\"-\", expand=True).astype(float)"
   ]
  },
  {
   "cell_type": "code",
   "execution_count": 28,
   "metadata": {
    "ExecuteTime": {
     "end_time": "2019-11-10T12:02:55.643316Z",
     "start_time": "2019-11-10T12:02:55.632847Z"
    },
    "hidden": true
   },
   "outputs": [
    {
     "data": {
      "text/html": [
       "<div>\n",
       "<style scoped>\n",
       "    .dataframe tbody tr th:only-of-type {\n",
       "        vertical-align: middle;\n",
       "    }\n",
       "\n",
       "    .dataframe tbody tr th {\n",
       "        vertical-align: top;\n",
       "    }\n",
       "\n",
       "    .dataframe thead th {\n",
       "        text-align: right;\n",
       "    }\n",
       "</style>\n",
       "<table border=\"1\" class=\"dataframe\">\n",
       "  <thead>\n",
       "    <tr style=\"text-align: right;\">\n",
       "      <th></th>\n",
       "      <th>0</th>\n",
       "      <th>1</th>\n",
       "    </tr>\n",
       "  </thead>\n",
       "  <tbody>\n",
       "    <tr>\n",
       "      <th>0</th>\n",
       "      <td>720.0</td>\n",
       "      <td>724.0</td>\n",
       "    </tr>\n",
       "    <tr>\n",
       "      <th>1</th>\n",
       "      <td>710.0</td>\n",
       "      <td>714.0</td>\n",
       "    </tr>\n",
       "    <tr>\n",
       "      <th>2</th>\n",
       "      <td>690.0</td>\n",
       "      <td>694.0</td>\n",
       "    </tr>\n",
       "    <tr>\n",
       "      <th>3</th>\n",
       "      <td>710.0</td>\n",
       "      <td>714.0</td>\n",
       "    </tr>\n",
       "    <tr>\n",
       "      <th>4</th>\n",
       "      <td>730.0</td>\n",
       "      <td>734.0</td>\n",
       "    </tr>\n",
       "  </tbody>\n",
       "</table>\n",
       "</div>"
      ],
      "text/plain": [
       "       0      1\n",
       "0  720.0  724.0\n",
       "1  710.0  714.0\n",
       "2  690.0  694.0\n",
       "3  710.0  714.0\n",
       "4  730.0  734.0"
      ]
     },
     "execution_count": 28,
     "metadata": {},
     "output_type": "execute_result"
    }
   ],
   "source": [
    "#now k is a new dataframe with two columns and same no of rows\n",
    "k.head()"
   ]
  },
  {
   "cell_type": "code",
   "execution_count": 29,
   "metadata": {
    "ExecuteTime": {
     "end_time": "2019-11-10T12:03:20.864366Z",
     "start_time": "2019-11-10T12:03:20.859068Z"
    },
    "hidden": true
   },
   "outputs": [
    {
     "data": {
      "text/plain": [
       "0    float64\n",
       "1    float64\n",
       "dtype: object"
      ]
     },
     "execution_count": 29,
     "metadata": {},
     "output_type": "execute_result"
    }
   ],
   "source": [
    "k.dtypes"
   ]
  },
  {
   "cell_type": "code",
   "execution_count": 30,
   "metadata": {
    "ExecuteTime": {
     "end_time": "2019-11-10T12:06:08.296990Z",
     "start_time": "2019-11-10T12:06:08.283595Z"
    },
    "hidden": true
   },
   "outputs": [],
   "source": [
    "#creating a new column \"fico\" with average from k[0] (ie lower range) and k[1] (ie upper range)\n",
    "df_train['fico']=0.5*(k[0]+k[1])\n",
    "del df_train['FICO.Range']"
   ]
  },
  {
   "cell_type": "code",
   "execution_count": 31,
   "metadata": {
    "ExecuteTime": {
     "end_time": "2019-11-10T12:08:13.809260Z",
     "start_time": "2019-11-10T12:08:13.804624Z"
    },
    "hidden": true
   },
   "outputs": [
    {
     "data": {
      "text/plain": [
       "(2200, 13)"
      ]
     },
     "execution_count": 31,
     "metadata": {},
     "output_type": "execute_result"
    }
   ],
   "source": [
    "df_train.shape"
   ]
  },
  {
   "cell_type": "code",
   "execution_count": 32,
   "metadata": {
    "ExecuteTime": {
     "end_time": "2019-11-10T12:07:43.283086Z",
     "start_time": "2019-11-10T12:07:43.276905Z"
    },
    "hidden": true
   },
   "outputs": [
    {
     "data": {
      "text/plain": [
       "Amount.Requested                  float64\n",
       "Interest.Rate                     float64\n",
       "Loan.Length                        object\n",
       "Loan.Purpose                       object\n",
       "Debt.To.Income.Ratio              float64\n",
       "State                              object\n",
       "Home.Ownership                     object\n",
       "Monthly.Income                    float64\n",
       "Open.CREDIT.Lines                 float64\n",
       "Revolving.CREDIT.Balance          float64\n",
       "Inquiries.in.the.Last.6.Months    float64\n",
       "Employment.Length                  object\n",
       "fico                              float64\n",
       "dtype: object"
      ]
     },
     "execution_count": 32,
     "metadata": {},
     "output_type": "execute_result"
    }
   ],
   "source": [
    "df_train.dtypes"
   ]
  },
  {
   "cell_type": "markdown",
   "metadata": {},
   "source": [
    "#### Operation 5: np.where(condition, value_if_True, value_if_False)"
   ]
  },
  {
   "cell_type": "code",
   "execution_count": 33,
   "metadata": {
    "ExecuteTime": {
     "end_time": "2019-11-10T12:10:27.477287Z",
     "start_time": "2019-11-10T12:10:27.470432Z"
    }
   },
   "outputs": [
    {
     "data": {
      "text/plain": [
       "10+ years    575\n",
       "< 1 year     229\n",
       "2 years      217\n",
       "3 years      203\n",
       "5 years      181\n",
       "4 years      162\n",
       "1 year       159\n",
       "6 years      134\n",
       "7 years      109\n",
       "8 years       95\n",
       "9 years       66\n",
       ".              1\n",
       "Name: Employment.Length, dtype: int64"
      ]
     },
     "execution_count": 33,
     "metadata": {},
     "output_type": "execute_result"
    }
   ],
   "source": [
    "#checking unique values for \"Employment.Length\" and their corresponding values\n",
    "df_train['Employment.Length'].value_counts()"
   ]
  },
  {
   "cell_type": "code",
   "execution_count": 34,
   "metadata": {
    "ExecuteTime": {
     "end_time": "2019-11-10T12:11:47.995855Z",
     "start_time": "2019-11-10T12:11:47.986674Z"
    }
   },
   "outputs": [],
   "source": [
    "df_train['Employment.Length']=df_train['Employment.Length'].str.replace('years',\"\")\n",
    "df_train['Employment.Length']=df_train['Employment.Length'].str.replace('year',\"\")"
   ]
  },
  {
   "cell_type": "code",
   "execution_count": 35,
   "metadata": {
    "ExecuteTime": {
     "end_time": "2019-11-10T12:11:50.071576Z",
     "start_time": "2019-11-10T12:11:50.064076Z"
    }
   },
   "outputs": [
    {
     "data": {
      "text/plain": [
       "10+     575\n",
       "< 1     229\n",
       "2       217\n",
       "3       203\n",
       "5       181\n",
       "4       162\n",
       "1       159\n",
       "6       134\n",
       "7       109\n",
       "8        95\n",
       "9        66\n",
       ".         1\n",
       "Name: Employment.Length, dtype: int64"
      ]
     },
     "execution_count": 35,
     "metadata": {},
     "output_type": "execute_result"
    }
   ],
   "source": [
    "#verifying the two replace operations we performed\n",
    "df_train['Employment.Length'].value_counts()"
   ]
  },
  {
   "cell_type": "code",
   "execution_count": 36,
   "metadata": {
    "ExecuteTime": {
     "end_time": "2019-11-10T12:18:43.092307Z",
     "start_time": "2019-11-10T12:18:43.087761Z"
    }
   },
   "outputs": [
    {
     "data": {
      "text/plain": [
       "'78'"
      ]
     },
     "execution_count": 36,
     "metadata": {},
     "output_type": "execute_result"
    }
   ],
   "source": [
    "\"78+00\"[:2] #take index 0 and index 1. "
   ]
  },
  {
   "cell_type": "code",
   "execution_count": 37,
   "metadata": {
    "ExecuteTime": {
     "end_time": "2019-11-10T12:18:43.737441Z",
     "start_time": "2019-11-10T12:18:43.720507Z"
    }
   },
   "outputs": [],
   "source": [
    "#np.where(condition, value_if_True, value_if_False)\n",
    "df_train['Employment.Length'] = np.where(df_train['Employment.Length'].str[:2]==\"10\",10,\n",
    "                                         df_train['Employment.Length'])\n",
    "\n",
    "df_train['Employment.Length']=np.where(df_train['Employment.Length'].str[0]==\"<\",0,\n",
    "                                       df_train['Employment.Length'])"
   ]
  },
  {
   "cell_type": "code",
   "execution_count": 38,
   "metadata": {
    "ExecuteTime": {
     "end_time": "2019-11-10T12:26:09.142550Z",
     "start_time": "2019-11-10T12:26:09.134935Z"
    }
   },
   "outputs": [
    {
     "data": {
      "text/plain": [
       "10    575\n",
       "0     229\n",
       "2     217\n",
       "3     203\n",
       "5     181\n",
       "4     162\n",
       "1     159\n",
       "6     134\n",
       "7     109\n",
       "8      95\n",
       "9      66\n",
       ".       1\n",
       "Name: Employment.Length, dtype: int64"
      ]
     },
     "execution_count": 38,
     "metadata": {},
     "output_type": "execute_result"
    }
   ],
   "source": [
    "df_train['Employment.Length'].value_counts()"
   ]
  },
  {
   "cell_type": "code",
   "execution_count": 39,
   "metadata": {
    "ExecuteTime": {
     "end_time": "2019-11-10T12:26:59.826545Z",
     "start_time": "2019-11-10T12:26:59.821593Z"
    }
   },
   "outputs": [],
   "source": [
    "df_train['Employment.Length']=pd.to_numeric(df_train['Employment.Length'],errors='coerce')"
   ]
  },
  {
   "cell_type": "code",
   "execution_count": 40,
   "metadata": {},
   "outputs": [
    {
     "data": {
      "text/plain": [
       "10.0    575\n",
       "0.0     229\n",
       "2.0     217\n",
       "3.0     203\n",
       "5.0     181\n",
       "4.0     162\n",
       "1.0     159\n",
       "6.0     134\n",
       "7.0     109\n",
       "8.0      95\n",
       "9.0      66\n",
       "Name: Employment.Length, dtype: int64"
      ]
     },
     "execution_count": 40,
     "metadata": {},
     "output_type": "execute_result"
    }
   ],
   "source": [
    "df_train['Employment.Length'].value_counts()"
   ]
  },
  {
   "cell_type": "code",
   "execution_count": 41,
   "metadata": {
    "ExecuteTime": {
     "end_time": "2019-11-10T12:27:01.028889Z",
     "start_time": "2019-11-10T12:27:01.022967Z"
    }
   },
   "outputs": [
    {
     "data": {
      "text/plain": [
       "Amount.Requested                  float64\n",
       "Interest.Rate                     float64\n",
       "Loan.Length                        object\n",
       "Loan.Purpose                       object\n",
       "Debt.To.Income.Ratio              float64\n",
       "State                              object\n",
       "Home.Ownership                     object\n",
       "Monthly.Income                    float64\n",
       "Open.CREDIT.Lines                 float64\n",
       "Revolving.CREDIT.Balance          float64\n",
       "Inquiries.in.the.Last.6.Months    float64\n",
       "Employment.Length                 float64\n",
       "fico                              float64\n",
       "dtype: object"
      ]
     },
     "execution_count": 41,
     "metadata": {},
     "output_type": "execute_result"
    }
   ],
   "source": [
    "df_train.dtypes"
   ]
  },
  {
   "cell_type": "markdown",
   "metadata": {},
   "source": [
    "#### Operation 6: One hot encoding"
   ]
  },
  {
   "cell_type": "code",
   "execution_count": 42,
   "metadata": {
    "ExecuteTime": {
     "end_time": "2019-11-10T12:32:08.095926Z",
     "start_time": "2019-11-10T12:32:08.085376Z"
    }
   },
   "outputs": [
    {
     "data": {
      "text/plain": [
       "Index(['Loan.Length', 'Loan.Purpose', 'State', 'Home.Ownership'], dtype='object')"
      ]
     },
     "execution_count": 42,
     "metadata": {},
     "output_type": "execute_result"
    }
   ],
   "source": [
    "# Notice that to apply string function on pandas data frame columns you need to str attribute\n",
    "cat_cols=df_train.select_dtypes(['object']).columns\n",
    "cat_cols"
   ]
  },
  {
   "cell_type": "code",
   "execution_count": 43,
   "metadata": {
    "ExecuteTime": {
     "end_time": "2019-11-10T12:32:30.843695Z",
     "start_time": "2019-11-10T12:32:30.824258Z"
    }
   },
   "outputs": [
    {
     "name": "stdout",
     "output_type": "stream",
     "text": [
      "**************************************************\n",
      "Loan.Length\n",
      "--------------------------------------------------\n",
      "3\n",
      "--------------------------------------------------\n",
      "36 months    1722\n",
      "60 months     476\n",
      ".               1\n",
      "Name: Loan.Length, dtype: int64\n",
      "**************************************************\n",
      "Loan.Purpose\n",
      "--------------------------------------------------\n",
      "14\n",
      "--------------------------------------------------\n",
      "debt_consolidation    1147\n",
      "credit_card            394\n",
      "other                  174\n",
      "home_improvement       135\n",
      "major_purchase          84\n",
      "small_business          80\n",
      "car                     45\n",
      "wedding                 35\n",
      "medical                 26\n",
      "moving                  25\n",
      "house                   19\n",
      "vacation                18\n",
      "educational             14\n",
      "renewable_energy         3\n",
      "Name: Loan.Purpose, dtype: int64\n",
      "**************************************************\n",
      "State\n",
      "--------------------------------------------------\n",
      "46\n",
      "--------------------------------------------------\n",
      "CA    376\n",
      "NY    231\n",
      "FL    149\n",
      "TX    146\n",
      "PA     88\n",
      "IL     87\n",
      "GA     82\n",
      "NJ     81\n",
      "VA     70\n",
      "MA     64\n",
      "OH     59\n",
      "NC     59\n",
      "MD     59\n",
      "CO     54\n",
      "WA     52\n",
      "CT     44\n",
      "AZ     44\n",
      "MI     38\n",
      "AL     34\n",
      "MN     30\n",
      "NV     29\n",
      "MO     29\n",
      "SC     27\n",
      "WI     25\n",
      "OR     25\n",
      "KS     21\n",
      "KY     20\n",
      "OK     20\n",
      "LA     20\n",
      "NH     14\n",
      "RI     13\n",
      "UT     13\n",
      "NM     12\n",
      "WV     12\n",
      "HI     12\n",
      "AR     11\n",
      "DC      9\n",
      "AK      8\n",
      "DE      7\n",
      "MT      7\n",
      "VT      5\n",
      "WY      4\n",
      "SD      4\n",
      "IN      3\n",
      ".       1\n",
      "MS      1\n",
      "Name: State, dtype: int64\n",
      "**************************************************\n",
      "Home.Ownership\n",
      "--------------------------------------------------\n",
      "5\n",
      "--------------------------------------------------\n",
      "MORTGAGE    1018\n",
      "RENT         999\n",
      "OWN          177\n",
      "OTHER          4\n",
      "NONE           1\n",
      "Name: Home.Ownership, dtype: int64\n",
      "**************************************************\n"
     ]
    }
   ],
   "source": [
    "print(\"*\"*50)\n",
    "for col in cat_cols:\n",
    "    print(col)\n",
    "    print(\"-\"*50)\n",
    "    print(df_train[col].nunique())\n",
    "    print(\"-\"*50)\n",
    "    print(df_train[col].value_counts())\n",
    "    print(\"*\"*50)"
   ]
  },
  {
   "cell_type": "code",
   "execution_count": 44,
   "metadata": {
    "ExecuteTime": {
     "end_time": "2019-11-10T12:38:02.798705Z",
     "start_time": "2019-11-10T12:38:02.280921Z"
    }
   },
   "outputs": [
    {
     "name": "stdout",
     "output_type": "stream",
     "text": [
      "Loan.Length\n",
      "Loan.Purpose\n",
      "State\n",
      "Home.Ownership\n"
     ]
    }
   ],
   "source": [
    "# you can use following method if you want to ignore categories with too low frequencies ,\n",
    "# in next section for logistic regression we will be using  pandas' get dummies function. \n",
    "# you can work with either of these . \n",
    "# ignoring categories with low frequencies however will result in fewer columns without \n",
    "# affecting model performance too much .\n",
    "to_store = []\n",
    "new_cols = []\n",
    "\n",
    "for col in cat_cols:\n",
    "    \n",
    "    freqs = df_train[col].value_counts()\n",
    "    categories = freqs.index[freqs>20]\n",
    "    to_store.append((col, categories))\n",
    "    \n",
    "    for category in categories:\n",
    "        name=col+'.'+category\n",
    "        new_cols.append(name)\n",
    "        df_train[name]=(df_train[col]==category).astype(int)\n",
    "    del df_train[col]\n",
    "    print(col)"
   ]
  },
  {
   "cell_type": "code",
   "execution_count": 45,
   "metadata": {
    "ExecuteTime": {
     "end_time": "2019-11-10T12:43:20.500697Z",
     "start_time": "2019-11-10T12:43:20.496200Z"
    }
   },
   "outputs": [
    {
     "data": {
      "text/plain": [
       "(2200, 50)"
      ]
     },
     "execution_count": 45,
     "metadata": {},
     "output_type": "execute_result"
    }
   ],
   "source": [
    "df_train.shape"
   ]
  },
  {
   "cell_type": "code",
   "execution_count": 46,
   "metadata": {},
   "outputs": [
    {
     "data": {
      "text/plain": [
       "['Loan.Length.36 months',\n",
       " 'Loan.Length.60 months',\n",
       " 'Loan.Purpose.debt_consolidation',\n",
       " 'Loan.Purpose.credit_card',\n",
       " 'Loan.Purpose.other',\n",
       " 'Loan.Purpose.home_improvement',\n",
       " 'Loan.Purpose.major_purchase',\n",
       " 'Loan.Purpose.small_business',\n",
       " 'Loan.Purpose.car',\n",
       " 'Loan.Purpose.wedding',\n",
       " 'Loan.Purpose.medical',\n",
       " 'Loan.Purpose.moving',\n",
       " 'State.CA',\n",
       " 'State.NY',\n",
       " 'State.FL',\n",
       " 'State.TX',\n",
       " 'State.PA',\n",
       " 'State.IL',\n",
       " 'State.GA',\n",
       " 'State.NJ',\n",
       " 'State.VA',\n",
       " 'State.MA',\n",
       " 'State.OH',\n",
       " 'State.NC',\n",
       " 'State.MD',\n",
       " 'State.CO',\n",
       " 'State.WA',\n",
       " 'State.CT',\n",
       " 'State.AZ',\n",
       " 'State.MI',\n",
       " 'State.AL',\n",
       " 'State.MN',\n",
       " 'State.NV',\n",
       " 'State.MO',\n",
       " 'State.SC',\n",
       " 'State.WI',\n",
       " 'State.OR',\n",
       " 'State.KS',\n",
       " 'Home.Ownership.MORTGAGE',\n",
       " 'Home.Ownership.RENT',\n",
       " 'Home.Ownership.OWN']"
      ]
     },
     "execution_count": 46,
     "metadata": {},
     "output_type": "execute_result"
    }
   ],
   "source": [
    "new_cols #we are storing all categorical feature names so that extracting numerical feature name is easy. "
   ]
  },
  {
   "cell_type": "code",
   "execution_count": 47,
   "metadata": {},
   "outputs": [
    {
     "data": {
      "text/plain": [
       "[('Loan.Length', Index(['36 months', '60 months'], dtype='object')),\n",
       " ('Loan.Purpose',\n",
       "  Index(['debt_consolidation', 'credit_card', 'other', 'home_improvement',\n",
       "         'major_purchase', 'small_business', 'car', 'wedding', 'medical',\n",
       "         'moving'],\n",
       "        dtype='object')),\n",
       " ('State',\n",
       "  Index(['CA', 'NY', 'FL', 'TX', 'PA', 'IL', 'GA', 'NJ', 'VA', 'MA', 'OH', 'NC',\n",
       "         'MD', 'CO', 'WA', 'CT', 'AZ', 'MI', 'AL', 'MN', 'NV', 'MO', 'SC', 'WI',\n",
       "         'OR', 'KS'],\n",
       "        dtype='object')),\n",
       " ('Home.Ownership', Index(['MORTGAGE', 'RENT', 'OWN'], dtype='object'))]"
      ]
     },
     "execution_count": 47,
     "metadata": {},
     "output_type": "execute_result"
    }
   ],
   "source": [
    "to_store #we are storing \"features\" used for one-hot-encoding, and for each feature the corresponding categories\n",
    "         #used. This will help in replicating the same procedure for the test dataset. "
   ]
  },
  {
   "cell_type": "code",
   "execution_count": 48,
   "metadata": {
    "ExecuteTime": {
     "end_time": "2019-11-10T12:43:39.370588Z",
     "start_time": "2019-11-10T12:43:39.365368Z"
    }
   },
   "outputs": [
    {
     "data": {
      "text/plain": [
       "array([dtype('float64'), dtype('int64')], dtype=object)"
      ]
     },
     "execution_count": 48,
     "metadata": {},
     "output_type": "execute_result"
    }
   ],
   "source": [
    "df_train.dtypes.unique() #mission successful"
   ]
  },
  {
   "cell_type": "code",
   "execution_count": 49,
   "metadata": {
    "ExecuteTime": {
     "end_time": "2019-11-10T12:44:07.652762Z",
     "start_time": "2019-11-10T12:44:07.645451Z"
    }
   },
   "outputs": [
    {
     "data": {
      "text/plain": [
       "Amount.Requested                   float64\n",
       "Interest.Rate                      float64\n",
       "Debt.To.Income.Ratio               float64\n",
       "Monthly.Income                     float64\n",
       "Open.CREDIT.Lines                  float64\n",
       "Revolving.CREDIT.Balance           float64\n",
       "Inquiries.in.the.Last.6.Months     float64\n",
       "Employment.Length                  float64\n",
       "fico                               float64\n",
       "Loan.Length.36 months                int64\n",
       "Loan.Length.60 months                int64\n",
       "Loan.Purpose.debt_consolidation      int64\n",
       "Loan.Purpose.credit_card             int64\n",
       "Loan.Purpose.other                   int64\n",
       "Loan.Purpose.home_improvement        int64\n",
       "Loan.Purpose.major_purchase          int64\n",
       "Loan.Purpose.small_business          int64\n",
       "Loan.Purpose.car                     int64\n",
       "Loan.Purpose.wedding                 int64\n",
       "Loan.Purpose.medical                 int64\n",
       "Loan.Purpose.moving                  int64\n",
       "State.CA                             int64\n",
       "State.NY                             int64\n",
       "State.FL                             int64\n",
       "State.TX                             int64\n",
       "State.PA                             int64\n",
       "State.IL                             int64\n",
       "State.GA                             int64\n",
       "State.NJ                             int64\n",
       "State.VA                             int64\n",
       "State.MA                             int64\n",
       "State.OH                             int64\n",
       "State.NC                             int64\n",
       "State.MD                             int64\n",
       "State.CO                             int64\n",
       "State.WA                             int64\n",
       "State.CT                             int64\n",
       "State.AZ                             int64\n",
       "State.MI                             int64\n",
       "State.AL                             int64\n",
       "State.MN                             int64\n",
       "State.NV                             int64\n",
       "State.MO                             int64\n",
       "State.SC                             int64\n",
       "State.WI                             int64\n",
       "State.OR                             int64\n",
       "State.KS                             int64\n",
       "Home.Ownership.MORTGAGE              int64\n",
       "Home.Ownership.RENT                  int64\n",
       "Home.Ownership.OWN                   int64\n",
       "dtype: object"
      ]
     },
     "execution_count": 49,
     "metadata": {},
     "output_type": "execute_result"
    }
   ],
   "source": [
    "df_train.dtypes"
   ]
  },
  {
   "cell_type": "markdown",
   "metadata": {},
   "source": [
    "### 2.2. Correlation Coefficient"
   ]
  },
  {
   "cell_type": "code",
   "execution_count": 50,
   "metadata": {},
   "outputs": [
    {
     "data": {
      "text/plain": [
       "Index(['Amount.Requested', 'Interest.Rate', 'Debt.To.Income.Ratio',\n",
       "       'Monthly.Income', 'Open.CREDIT.Lines', 'Revolving.CREDIT.Balance',\n",
       "       'Inquiries.in.the.Last.6.Months', 'Employment.Length', 'fico'],\n",
       "      dtype='object')"
      ]
     },
     "execution_count": 50,
     "metadata": {},
     "output_type": "execute_result"
    }
   ],
   "source": [
    "df_train.columns.drop(new_cols) #list of all numerical features"
   ]
  },
  {
   "cell_type": "code",
   "execution_count": 51,
   "metadata": {},
   "outputs": [
    {
     "data": {
      "text/plain": [
       "(2200, 9)"
      ]
     },
     "execution_count": 51,
     "metadata": {},
     "output_type": "execute_result"
    }
   ],
   "source": [
    "numerical = df_train[df_train.columns.drop(new_cols)]\n",
    "numerical.shape"
   ]
  },
  {
   "cell_type": "code",
   "execution_count": 52,
   "metadata": {},
   "outputs": [
    {
     "data": {
      "image/png": "[encoded data removed]",
      "text/plain": [
       "<Figure size 720x576 with 2 Axes>"
      ]
     },
     "metadata": {
      "needs_background": "light"
     },
     "output_type": "display_data"
    }
   ],
   "source": [
    "ax, fig = plt.subplots(figsize=(10,8))\n",
    "sns.heatmap(numerical.corr(), annot=True, cmap='coolwarm')\n",
    "plt.show()"
   ]
  },
  {
   "cell_type": "markdown",
   "metadata": {},
   "source": [
    "### 2.3. Outliers"
   ]
  },
  {
   "cell_type": "code",
   "execution_count": 53,
   "metadata": {},
   "outputs": [
    {
     "data": {
      "image/png": "[encoded data removed]",
      "text/plain": [
       "<Figure size 2160x1800 with 9 Axes>"
      ]
     },
     "metadata": {
      "needs_background": "light"
     },
     "output_type": "display_data"
    }
   ],
   "source": [
    "from scipy import stats\n",
    "\n",
    "fig, axs = plt.subplots(ncols=3, nrows=3, figsize=(30, 25))\n",
    "index = 0\n",
    "axs = axs.flatten()\n",
    "for k,v in numerical.items():\n",
    "    sns.boxplot(y=k, data=numerical, ax=axs[index])\n",
    "    index += 1\n",
    "plt.tight_layout(pad=0.4, w_pad=0.5, h_pad=5.0)"
   ]
  },
  {
   "cell_type": "code",
   "execution_count": 54,
   "metadata": {},
   "outputs": [
    {
     "name": "stdout",
     "output_type": "stream",
     "text": [
      "Column Amount.Requested outliers = 2.32%\n",
      "Column Interest.Rate outliers = 0.23%\n",
      "Column Debt.To.Income.Ratio outliers = 0.00%\n",
      "Column Monthly.Income outliers = 4.95%\n",
      "Column Open.CREDIT.Lines outliers = 1.55%\n",
      "Column Revolving.CREDIT.Balance outliers = 5.64%\n",
      "Column Inquiries.in.the.Last.6.Months outliers = 10.09%\n",
      "Column Employment.Length outliers = 0.00%\n",
      "Column fico outliers = 2.23%\n"
     ]
    }
   ],
   "source": [
    "for k, v in numerical.items(): #k=column_name, v=values\n",
    "    q1 = v.quantile(0.25)\n",
    "    q3 = v.quantile(0.75)\n",
    "    irq = q3 - q1\n",
    "    v_col = v[(v <= q1 - 1.5 * irq) | (v >= q3 + 1.5 * irq)]\n",
    "    perc = np.shape(v_col)[0] * 100.0 / np.shape(numerical)[0]\n",
    "    print(\"Column %s outliers = %.2f%%\" % (k, perc))"
   ]
  },
  {
   "cell_type": "markdown",
   "metadata": {},
   "source": [
    "### 2.4. Missing values: SimpleImputer"
   ]
  },
  {
   "cell_type": "code",
   "execution_count": 55,
   "metadata": {},
   "outputs": [
    {
     "data": {
      "text/plain": [
       "Amount.Requested                    5\n",
       "Interest.Rate                       0\n",
       "Debt.To.Income.Ratio                1\n",
       "Monthly.Income                      3\n",
       "Open.CREDIT.Lines                   7\n",
       "Revolving.CREDIT.Balance            5\n",
       "Inquiries.in.the.Last.6.Months      3\n",
       "Employment.Length                  70\n",
       "fico                                0\n",
       "Loan.Length.36 months               0\n",
       "Loan.Length.60 months               0\n",
       "Loan.Purpose.debt_consolidation     0\n",
       "Loan.Purpose.credit_card            0\n",
       "Loan.Purpose.other                  0\n",
       "Loan.Purpose.home_improvement       0\n",
       "Loan.Purpose.major_purchase         0\n",
       "Loan.Purpose.small_business         0\n",
       "Loan.Purpose.car                    0\n",
       "Loan.Purpose.wedding                0\n",
       "Loan.Purpose.medical                0\n",
       "Loan.Purpose.moving                 0\n",
       "State.CA                            0\n",
       "State.NY                            0\n",
       "State.FL                            0\n",
       "State.TX                            0\n",
       "State.PA                            0\n",
       "State.IL                            0\n",
       "State.GA                            0\n",
       "State.NJ                            0\n",
       "State.VA                            0\n",
       "State.MA                            0\n",
       "State.OH                            0\n",
       "State.NC                            0\n",
       "State.MD                            0\n",
       "State.CO                            0\n",
       "State.WA                            0\n",
       "State.CT                            0\n",
       "State.AZ                            0\n",
       "State.MI                            0\n",
       "State.AL                            0\n",
       "State.MN                            0\n",
       "State.NV                            0\n",
       "State.MO                            0\n",
       "State.SC                            0\n",
       "State.WI                            0\n",
       "State.OR                            0\n",
       "State.KS                            0\n",
       "Home.Ownership.MORTGAGE             0\n",
       "Home.Ownership.RENT                 0\n",
       "Home.Ownership.OWN                  0\n",
       "dtype: int64"
      ]
     },
     "execution_count": 55,
     "metadata": {},
     "output_type": "execute_result"
    }
   ],
   "source": [
    "df_train.isnull().sum()"
   ]
  },
  {
   "cell_type": "code",
   "execution_count": 56,
   "metadata": {},
   "outputs": [],
   "source": [
    "from sklearn.impute import SimpleImputer\n",
    "imputer = SimpleImputer(missing_values=np.nan, strategy='mean')"
   ]
  },
  {
   "cell_type": "code",
   "execution_count": 57,
   "metadata": {},
   "outputs": [],
   "source": [
    "# imputer.fit(df_train) #learn the positions which has to be imputed\n",
    "# imputer.transform(df_train) #actually perform the imputer operation \n",
    "# imputer.fit(df_train) + imputer.transform(df_train) = imputer.fit_transform(df_train)"
   ]
  },
  {
   "cell_type": "code",
   "execution_count": 58,
   "metadata": {},
   "outputs": [],
   "source": [
    "#return type for imputer is always array. We have to convert that back to dataframe\n",
    "# How to convert array to dataframe:\n",
    "# new_df = pd.Dataframe(array)"
   ]
  },
  {
   "cell_type": "code",
   "execution_count": 59,
   "metadata": {},
   "outputs": [],
   "source": [
    "df_train = pd.DataFrame(imputer.fit_transform(df_train), columns=df_train.columns)"
   ]
  },
  {
   "cell_type": "code",
   "execution_count": 60,
   "metadata": {},
   "outputs": [
    {
     "data": {
      "text/plain": [
       "Amount.Requested                   0\n",
       "Interest.Rate                      0\n",
       "Debt.To.Income.Ratio               0\n",
       "Monthly.Income                     0\n",
       "Open.CREDIT.Lines                  0\n",
       "Revolving.CREDIT.Balance           0\n",
       "Inquiries.in.the.Last.6.Months     0\n",
       "Employment.Length                  0\n",
       "fico                               0\n",
       "Loan.Length.36 months              0\n",
       "Loan.Length.60 months              0\n",
       "Loan.Purpose.debt_consolidation    0\n",
       "Loan.Purpose.credit_card           0\n",
       "Loan.Purpose.other                 0\n",
       "Loan.Purpose.home_improvement      0\n",
       "Loan.Purpose.major_purchase        0\n",
       "Loan.Purpose.small_business        0\n",
       "Loan.Purpose.car                   0\n",
       "Loan.Purpose.wedding               0\n",
       "Loan.Purpose.medical               0\n",
       "Loan.Purpose.moving                0\n",
       "State.CA                           0\n",
       "State.NY                           0\n",
       "State.FL                           0\n",
       "State.TX                           0\n",
       "State.PA                           0\n",
       "State.IL                           0\n",
       "State.GA                           0\n",
       "State.NJ                           0\n",
       "State.VA                           0\n",
       "State.MA                           0\n",
       "State.OH                           0\n",
       "State.NC                           0\n",
       "State.MD                           0\n",
       "State.CO                           0\n",
       "State.WA                           0\n",
       "State.CT                           0\n",
       "State.AZ                           0\n",
       "State.MI                           0\n",
       "State.AL                           0\n",
       "State.MN                           0\n",
       "State.NV                           0\n",
       "State.MO                           0\n",
       "State.SC                           0\n",
       "State.WI                           0\n",
       "State.OR                           0\n",
       "State.KS                           0\n",
       "Home.Ownership.MORTGAGE            0\n",
       "Home.Ownership.RENT                0\n",
       "Home.Ownership.OWN                 0\n",
       "dtype: int64"
      ]
     },
     "execution_count": 60,
     "metadata": {},
     "output_type": "execute_result"
    }
   ],
   "source": [
    "df_train.isnull().sum()"
   ]
  },
  {
   "cell_type": "markdown",
   "metadata": {},
   "source": [
    "## Step 3: Defining Training and Test Set"
   ]
  },
  {
   "cell_type": "code",
   "execution_count": 61,
   "metadata": {},
   "outputs": [
    {
     "data": {
      "text/plain": [
       "((2200, 49), (2200,))"
      ]
     },
     "execution_count": 61,
     "metadata": {},
     "output_type": "execute_result"
    }
   ],
   "source": [
    "#dataframe.values --> will return array\n",
    "X_train, y_train = df_train.loc[:,df_train.columns!=\"Interest.Rate\"].values, df_train[\"Interest.Rate\"].values\n",
    "X_train.shape, y_train.shape"
   ]
  },
  {
   "cell_type": "markdown",
   "metadata": {},
   "source": [
    "## Step 4: Data Scaling"
   ]
  },
  {
   "cell_type": "code",
   "execution_count": 62,
   "metadata": {},
   "outputs": [],
   "source": [
    "from sklearn.preprocessing import StandardScaler #mean=0, std_deviation=1.0\n",
    "std = StandardScaler().fit(X_train)\n",
    "X_train = std.transform(X_train)"
   ]
  },
  {
   "cell_type": "markdown",
   "metadata": {},
   "source": [
    "#### There are three different types of scaler: Standard, MixMax and Robust. Read about them here: http://benalexkeen.com/feature-scaling-with-scikit-learn/"
   ]
  },
  {
   "cell_type": "markdown",
   "metadata": {},
   "source": [
    "## Step 5: Test set pipeline"
   ]
  },
  {
   "cell_type": "code",
   "execution_count": 63,
   "metadata": {},
   "outputs": [],
   "source": [
    "def preprocessing(dataframe, to_store, std):\n",
    "    \n",
    "    #Operation1\n",
    "    dataframe = dataframe.drop(['ID','Amount.Funded.By.Investors'],axis=1)\n",
    "    \n",
    "    #Operation2\n",
    "    for col in ['Amount.Requested', 'Open.CREDIT.Lines','Revolving.CREDIT.Balance']:\n",
    "        dataframe[col]=pd.to_numeric(dataframe[col],errors='coerce')\n",
    "    \n",
    "    #Operation3\n",
    "    for col in ['Debt.To.Income.Ratio']:\n",
    "        dataframe[col] = dataframe[col].str.replace(\"%\",\"\") \n",
    "    \n",
    "    for col in ['Debt.To.Income.Ratio']:\n",
    "        dataframe[col]=pd.to_numeric(dataframe[col],errors='coerce') \n",
    "    \n",
    "    #Operation4\n",
    "    k=dataframe['FICO.Range'].str.split(\"-\",expand=True).astype(float)\n",
    "    dataframe['fico']=0.5*(k[0]+k[1])\n",
    "    del dataframe['FICO.Range']\n",
    "    \n",
    "    #Operation5\n",
    "    dataframe['Employment.Length']=dataframe['Employment.Length'].str.replace('years',\"\")\n",
    "    dataframe['Employment.Length']=dataframe['Employment.Length'].str.replace('year',\"\")\n",
    "    \n",
    "    dataframe['Employment.Length']=np.where(dataframe['Employment.Length'].str[:2]==\"10\",10,\n",
    "                                       dataframe['Employment.Length'])\n",
    "\n",
    "    dataframe['Employment.Length']=np.where(dataframe['Employment.Length'].str[0]==\"<\",0,\n",
    "                                       dataframe['Employment.Length'])\n",
    "    \n",
    "    dataframe['Employment.Length']=pd.to_numeric(dataframe['Employment.Length'],errors='coerce')\n",
    "    \n",
    "    #Operation6\n",
    "    for column, categories in to_store:\n",
    "        for category in categories:\n",
    "            name=column+'.'+category\n",
    "            dataframe[name]=(dataframe[column]==category).astype(int)\n",
    "        del dataframe[column]\n",
    "    \n",
    "    #Missing values\n",
    "    imputer = SimpleImputer(missing_values=np.nan, strategy='mean')\n",
    "    dataframe = pd.DataFrame(imputer.fit_transform(dataframe), columns=dataframe.columns)\n",
    "    \n",
    "    #data scaling\n",
    "    X_test = dataframe.values\n",
    "    X_test = std.transform(X_test) #standard scaling\n",
    "    \n",
    "    return X_test"
   ]
  },
  {
   "cell_type": "code",
   "execution_count": 64,
   "metadata": {},
   "outputs": [
    {
     "data": {
      "text/plain": [
       "(300, 49)"
      ]
     },
     "execution_count": 64,
     "metadata": {},
     "output_type": "execute_result"
    }
   ],
   "source": [
    "X_test = preprocessing(df_test, to_store, std)\n",
    "X_test.shape"
   ]
  },
  {
   "cell_type": "markdown",
   "metadata": {},
   "source": [
    "## Step 6: Modelling"
   ]
  },
  {
   "cell_type": "markdown",
   "metadata": {},
   "source": [
    "### Linear Regression"
   ]
  },
  {
   "cell_type": "code",
   "execution_count": 65,
   "metadata": {},
   "outputs": [
    {
     "data": {
      "text/plain": [
       "LinearRegression(copy_X=True, fit_intercept=True, n_jobs=None, normalize=False)"
      ]
     },
     "execution_count": 65,
     "metadata": {},
     "output_type": "execute_result"
    }
   ],
   "source": [
    "from sklearn.linear_model import LinearRegression\n",
    "lm=LinearRegression()\n",
    "lm.fit(X_train, y_train)"
   ]
  },
  {
   "cell_type": "code",
   "execution_count": 66,
   "metadata": {},
   "outputs": [],
   "source": [
    "test_pred = lm.predict(X_test)"
   ]
  },
  {
   "cell_type": "markdown",
   "metadata": {},
   "source": [
    "We can write these to a csv file for submission like this :"
   ]
  },
  {
   "cell_type": "code",
   "execution_count": 67,
   "metadata": {},
   "outputs": [],
   "source": [
    "pd.DataFrame(test_pred).to_csv(\"mysubmission.csv\",index=False)"
   ]
  },
  {
   "cell_type": "markdown",
   "metadata": {},
   "source": [
    "### Ridge  Regression"
   ]
  },
  {
   "cell_type": "code",
   "execution_count": 68,
   "metadata": {},
   "outputs": [],
   "source": [
    "from sklearn.linear_model import Ridge\n",
    "from sklearn.model_selection import GridSearchCV"
   ]
  },
  {
   "cell_type": "code",
   "execution_count": 69,
   "metadata": {},
   "outputs": [],
   "source": [
    "model=Ridge()"
   ]
  },
  {
   "cell_type": "code",
   "execution_count": 70,
   "metadata": {},
   "outputs": [
    {
     "data": {
      "text/plain": [
       "array([  1.,   2.,   3.,   4.,   5.,   6.,   7.,   8.,   9.,  10.,  11.,\n",
       "        12.,  13.,  14.,  15.,  16.,  17.,  18.,  19.,  20.,  21.,  22.,\n",
       "        23.,  24.,  25.,  26.,  27.,  28.,  29.,  30.,  31.,  32.,  33.,\n",
       "        34.,  35.,  36.,  37.,  38.,  39.,  40.,  41.,  42.,  43.,  44.,\n",
       "        45.,  46.,  47.,  48.,  49.,  50.,  51.,  52.,  53.,  54.,  55.,\n",
       "        56.,  57.,  58.,  59.,  60.,  61.,  62.,  63.,  64.,  65.,  66.,\n",
       "        67.,  68.,  69.,  70.,  71.,  72.,  73.,  74.,  75.,  76.,  77.,\n",
       "        78.,  79.,  80.,  81.,  82.,  83.,  84.,  85.,  86.,  87.,  88.,\n",
       "        89.,  90.,  91.,  92.,  93.,  94.,  95.,  96.,  97.,  98.,  99.,\n",
       "       100.])"
      ]
     },
     "execution_count": 70,
     "metadata": {},
     "output_type": "execute_result"
    }
   ],
   "source": [
    "alpha=np.linspace(1,100,100) #defiing range for values for lambda\n",
    "params={'alpha':alpha}\n",
    "alpha"
   ]
  },
  {
   "cell_type": "code",
   "execution_count": 71,
   "metadata": {},
   "outputs": [],
   "source": [
    "#GridSearchCV by default choses best model based on max score obtained. \n",
    "grid_search = GridSearchCV(model, param_grid=params, cv=10, scoring='neg_mean_absolute_error')"
   ]
  },
  {
   "cell_type": "code",
   "execution_count": 72,
   "metadata": {},
   "outputs": [
    {
     "data": {
      "text/plain": [
       "GridSearchCV(cv=10, error_score='raise-deprecating',\n",
       "             estimator=Ridge(alpha=1.0, copy_X=True, fit_intercept=True,\n",
       "                             max_iter=None, normalize=False, random_state=None,\n",
       "                             solver='auto', tol=0.001),\n",
       "             iid='warn', n_jobs=None,\n",
       "             param_grid={'alpha': array([  1.,   2.,   3.,   4.,   5.,   6.,   7.,   8.,   9.,  10.,  11.,\n",
       "        12.,  13.,  14.,  15.,  16.,  17.,  18.,  19.,  20.,  21.,  22.,\n",
       "        23.,  24.,  25.,  26.,  27.,  28.,  29.,  30.,  31.,  32.,...\n",
       "        34.,  35.,  36.,  37.,  38.,  39.,  40.,  41.,  42.,  43.,  44.,\n",
       "        45.,  46.,  47.,  48.,  49.,  50.,  51.,  52.,  53.,  54.,  55.,\n",
       "        56.,  57.,  58.,  59.,  60.,  61.,  62.,  63.,  64.,  65.,  66.,\n",
       "        67.,  68.,  69.,  70.,  71.,  72.,  73.,  74.,  75.,  76.,  77.,\n",
       "        78.,  79.,  80.,  81.,  82.,  83.,  84.,  85.,  86.,  87.,  88.,\n",
       "        89.,  90.,  91.,  92.,  93.,  94.,  95.,  96.,  97.,  98.,  99.,\n",
       "       100.])},\n",
       "             pre_dispatch='2*n_jobs', refit=True, return_train_score=False,\n",
       "             scoring='neg_mean_absolute_error', verbose=0)"
      ]
     },
     "execution_count": 72,
     "metadata": {},
     "output_type": "execute_result"
    }
   ],
   "source": [
    "grid_search.fit(X_train, y_train)"
   ]
  },
  {
   "cell_type": "code",
   "execution_count": 73,
   "metadata": {},
   "outputs": [
    {
     "data": {
      "text/plain": [
       "Ridge(alpha=3.0, copy_X=True, fit_intercept=True, max_iter=None,\n",
       "      normalize=False, random_state=None, solver='auto', tol=0.001)"
      ]
     },
     "execution_count": 73,
     "metadata": {},
     "output_type": "execute_result"
    }
   ],
   "source": [
    "grid_search.best_estimator_"
   ]
  },
  {
   "cell_type": "code",
   "execution_count": 74,
   "metadata": {},
   "outputs": [
    {
     "data": {
      "text/plain": [
       "{'mean_fit_time': array([0.01485114, 0.00192778, 0.00194714, 0.00196571, 0.00198336,\n",
       "        0.00195224, 0.00192685, 0.00193236, 0.00193172, 0.00192616,\n",
       "        0.0019331 , 0.00193894, 0.0019582 , 0.00194285, 0.00194132,\n",
       "        0.00194201, 0.00194349, 0.00193818, 0.00195165, 0.0019501 ,\n",
       "        0.00194042, 0.00194607, 0.00199578, 0.00224445, 0.00273962,\n",
       "        0.00289021, 0.00268734, 0.00248861, 0.00271251, 0.00262098,\n",
       "        0.00260174, 0.00244935, 0.00199108, 0.00233257, 0.00220587,\n",
       "        0.00198622, 0.00195398, 0.00194569, 0.00194473, 0.00194438,\n",
       "        0.0019609 , 0.00193064, 0.00193594, 0.00192249, 0.00192487,\n",
       "        0.00192924, 0.00193477, 0.00194063, 0.00192304, 0.00192924,\n",
       "        0.00195699, 0.0019572 , 0.0019398 , 0.00192189, 0.00192156,\n",
       "        0.00192051, 0.00193498, 0.00194097, 0.00193691, 0.00194628,\n",
       "        0.00203075, 0.00207388, 0.00247991, 0.0024606 , 0.00253773,\n",
       "        0.00261874, 0.00280292, 0.00255232, 0.00248458, 0.0022614 ,\n",
       "        0.00214925, 0.00198212, 0.00201514, 0.00195234, 0.00194323,\n",
       "        0.00194149, 0.00193017, 0.00195124, 0.00202246, 0.00196185,\n",
       "        0.00194242, 0.00194905, 0.00194678, 0.00194287, 0.00194314,\n",
       "        0.00194612, 0.00194006, 0.00193949, 0.00195994, 0.00193996,\n",
       "        0.00193605, 0.00191736, 0.00191734, 0.00192542, 0.00192194,\n",
       "        0.00194731, 0.0019356 , 0.00194027, 0.00194597, 0.00194209]),\n",
       " 'std_fit_time': array([3.86421201e-02, 2.34999096e-05, 4.74991146e-05, 9.44786258e-05,\n",
       "        5.11182778e-05, 5.93505258e-05, 2.60048555e-05, 2.76888975e-05,\n",
       "        3.08837750e-05, 1.64520740e-05, 3.06155822e-05, 3.28437061e-05,\n",
       "        4.83455093e-05, 3.11426962e-05, 3.24768202e-05, 2.12519640e-05,\n",
       "        2.65744647e-05, 2.93582350e-05, 3.37064851e-05, 2.90716337e-05,\n",
       "        2.78633807e-05, 2.85033774e-05, 1.34139066e-04, 4.31998063e-04,\n",
       "        9.40582905e-04, 9.62464315e-04, 9.43863902e-04, 6.52692631e-04,\n",
       "        9.73456299e-04, 1.03950688e-03, 8.02380336e-04, 6.48733441e-04,\n",
       "        6.94746830e-05, 5.07047716e-04, 4.28381921e-04, 3.41529601e-05,\n",
       "        2.62873540e-05, 3.11998382e-05, 2.36908901e-05, 2.87026759e-05,\n",
       "        8.48689236e-05, 2.81642991e-05, 4.20841481e-05, 2.29559457e-05,\n",
       "        2.94141766e-05, 2.66587369e-05, 3.66406773e-05, 5.99886161e-05,\n",
       "        1.91177808e-05, 4.22286083e-05, 1.04301292e-04, 9.74311139e-05,\n",
       "        5.15772131e-05, 2.38141853e-05, 1.68314736e-05, 1.89373403e-05,\n",
       "        2.93844394e-05, 2.48795242e-05, 2.36457869e-05, 2.84088618e-05,\n",
       "        2.55029016e-04, 2.02963014e-04, 6.98306392e-04, 5.35196653e-04,\n",
       "        8.71265420e-04, 7.76340720e-04, 9.44214466e-04, 6.97077638e-04,\n",
       "        6.06236579e-04, 3.97953020e-04, 3.56360434e-04, 5.97603861e-05,\n",
       "        1.39167498e-04, 5.35110358e-05, 2.95822121e-05, 2.04445287e-05,\n",
       "        2.31528993e-05, 3.29743238e-05, 2.46192295e-04, 4.86086545e-05,\n",
       "        3.50850498e-05, 3.72861733e-05, 2.12506266e-05, 3.06567728e-05,\n",
       "        2.59450358e-05, 2.94108814e-05, 2.80392413e-05, 2.65786568e-05,\n",
       "        7.49482901e-05, 3.20429248e-05, 2.11231864e-05, 2.43889504e-05,\n",
       "        2.05254581e-05, 2.08069357e-05, 2.60897476e-05, 4.30889328e-05,\n",
       "        2.39662857e-05, 2.71278962e-05, 2.66472629e-05, 3.54742570e-05]),\n",
       " 'mean_score_time': array([0.00035326, 0.00035098, 0.00034547, 0.00035563, 0.00036807,\n",
       "        0.00034733, 0.0003444 , 0.00034709, 0.00034742, 0.00034444,\n",
       "        0.00034471, 0.00034404, 0.00035324, 0.00034933, 0.00034647,\n",
       "        0.00034435, 0.00034533, 0.00034542, 0.00034547, 0.00034702,\n",
       "        0.00034654, 0.00034738, 0.00035176, 0.00040398, 0.00038571,\n",
       "        0.0003794 , 0.0003803 , 0.00043762, 0.00041234, 0.00040231,\n",
       "        0.00037134, 0.00043147, 0.00035813, 0.00041423, 0.00036037,\n",
       "        0.0003521 , 0.0003454 , 0.00034626, 0.00034764, 0.00034633,\n",
       "        0.00036948, 0.00036662, 0.00035946, 0.0003624 , 0.00034738,\n",
       "        0.00034184, 0.00034499, 0.00035009, 0.00034595, 0.00034497,\n",
       "        0.00034571, 0.00035648, 0.00036151, 0.00035589, 0.00034664,\n",
       "        0.0003432 , 0.00034547, 0.00034637, 0.00034811, 0.00034447,\n",
       "        0.00036747, 0.00043311, 0.00036817, 0.00041411, 0.00049803,\n",
       "        0.00036085, 0.00043771, 0.00038135, 0.0004303 , 0.00045531,\n",
       "        0.00036347, 0.00035169, 0.00035248, 0.00034883, 0.00034721,\n",
       "        0.00034409, 0.0003442 , 0.00034699, 0.0003499 , 0.0003649 ,\n",
       "        0.00034432, 0.00034547, 0.00034771, 0.00034583, 0.00034454,\n",
       "        0.00034578, 0.00034347, 0.00034647, 0.00035021, 0.0003449 ,\n",
       "        0.00034759, 0.00035994, 0.00034807, 0.00034416, 0.00034368,\n",
       "        0.00034473, 0.00034599, 0.00034547, 0.00034454, 0.00034535]),\n",
       " 'std_score_time': array([2.49299774e-05, 1.03888417e-05, 9.71508171e-06, 1.95166251e-05,\n",
       "        3.94538880e-05, 3.96061988e-06, 1.37064765e-06, 5.15094498e-06,\n",
       "        1.41222713e-05, 2.02318921e-06, 5.05402401e-06, 4.06711629e-06,\n",
       "        1.88006920e-05, 1.58765293e-05, 4.52719153e-06, 3.46659302e-06,\n",
       "        4.57266697e-06, 6.48288132e-06, 3.91906772e-06, 5.93489886e-06,\n",
       "        5.02181071e-06, 5.78920372e-06, 1.62514051e-05, 1.02557807e-04,\n",
       "        6.95932193e-05, 4.04644937e-05, 7.84997978e-05, 1.78971261e-04,\n",
       "        1.24735727e-04, 1.33560386e-04, 3.38119661e-05, 2.02229277e-04,\n",
       "        1.77814392e-05, 1.10287456e-04, 1.40060516e-05, 7.18965447e-06,\n",
       "        2.95879282e-06, 4.77795829e-06, 4.23479990e-06, 6.06746008e-06,\n",
       "        5.09832419e-05, 3.70762049e-05, 2.21146695e-05, 2.05510730e-05,\n",
       "        1.29133982e-05, 2.29130054e-06, 3.94652971e-06, 1.23886845e-05,\n",
       "        6.77125554e-06, 4.93411267e-06, 8.70929722e-06, 1.93861722e-05,\n",
       "        2.45721664e-05, 1.94731357e-05, 9.98598224e-06, 2.15963018e-06,\n",
       "        3.96090692e-06, 3.16800790e-06, 5.10288171e-06, 3.84408834e-06,\n",
       "        7.01009860e-05, 1.63420804e-04, 2.50391274e-05, 1.05406278e-04,\n",
       "        2.84781875e-04, 1.37962801e-05, 1.69106130e-04, 6.36562649e-05,\n",
       "        1.63598263e-04, 1.67132310e-04, 2.07561825e-05, 1.39890768e-05,\n",
       "        1.42916775e-05, 1.02810393e-05, 5.49403530e-06, 2.52723694e-06,\n",
       "        4.19108397e-06, 5.78252304e-06, 1.37372143e-05, 2.75352816e-05,\n",
       "        4.80849551e-06, 4.06292122e-06, 4.16270919e-06, 4.44412487e-06,\n",
       "        3.53221772e-06, 3.00832856e-06, 4.80305456e-06, 7.42994311e-06,\n",
       "        1.17806043e-05, 6.37625963e-06, 8.70371506e-06, 2.24536765e-05,\n",
       "        1.20619303e-05, 4.17913154e-06, 2.23973921e-06, 4.78556632e-06,\n",
       "        7.89507564e-06, 4.84992853e-06, 4.50409233e-06, 2.90880438e-06]),\n",
       " 'param_alpha': masked_array(data=[1.0, 2.0, 3.0, 4.0, 5.0, 6.0, 7.0, 8.0, 9.0, 10.0,\n",
       "                    11.0, 12.0, 13.0, 14.0, 15.0, 16.0, 17.0, 18.0, 19.0,\n",
       "                    20.0, 21.0, 22.0, 23.0, 24.0, 25.0, 26.0, 27.0, 28.0,\n",
       "                    29.0, 30.0, 31.0, 32.0, 33.0, 34.0, 35.0, 36.0, 37.0,\n",
       "                    38.0, 39.0, 40.0, 41.0, 42.0, 43.0, 44.0, 45.0, 46.0,\n",
       "                    47.0, 48.0, 49.0, 50.0, 51.0, 52.0, 53.0, 54.0, 55.0,\n",
       "                    56.0, 57.0, 58.0, 59.0, 60.0, 61.0, 62.0, 63.0, 64.0,\n",
       "                    65.0, 66.0, 67.0, 68.0, 69.0, 70.0, 71.0, 72.0, 73.0,\n",
       "                    74.0, 75.0, 76.0, 77.0, 78.0, 79.0, 80.0, 81.0, 82.0,\n",
       "                    83.0, 84.0, 85.0, 86.0, 87.0, 88.0, 89.0, 90.0, 91.0,\n",
       "                    92.0, 93.0, 94.0, 95.0, 96.0, 97.0, 98.0, 99.0, 100.0],\n",
       "              mask=[False, False, False, False, False, False, False, False,\n",
       "                    False, False, False, False, False, False, False, False,\n",
       "                    False, False, False, False, False, False, False, False,\n",
       "                    False, False, False, False, False, False, False, False,\n",
       "                    False, False, False, False, False, False, False, False,\n",
       "                    False, False, False, False, False, False, False, False,\n",
       "                    False, False, False, False, False, False, False, False,\n",
       "                    False, False, False, False, False, False, False, False,\n",
       "                    False, False, False, False, False, False, False, False,\n",
       "                    False, False, False, False, False, False, False, False,\n",
       "                    False, False, False, False, False, False, False, False,\n",
       "                    False, False, False, False, False, False, False, False,\n",
       "                    False, False, False, False],\n",
       "        fill_value='?',\n",
       "             dtype=object),\n",
       " 'params': [{'alpha': 1.0},\n",
       "  {'alpha': 2.0},\n",
       "  {'alpha': 3.0},\n",
       "  {'alpha': 4.0},\n",
       "  {'alpha': 5.0},\n",
       "  {'alpha': 6.0},\n",
       "  {'alpha': 7.0},\n",
       "  {'alpha': 8.0},\n",
       "  {'alpha': 9.0},\n",
       "  {'alpha': 10.0},\n",
       "  {'alpha': 11.0},\n",
       "  {'alpha': 12.0},\n",
       "  {'alpha': 13.0},\n",
       "  {'alpha': 14.0},\n",
       "  {'alpha': 15.0},\n",
       "  {'alpha': 16.0},\n",
       "  {'alpha': 17.0},\n",
       "  {'alpha': 18.0},\n",
       "  {'alpha': 19.0},\n",
       "  {'alpha': 20.0},\n",
       "  {'alpha': 21.0},\n",
       "  {'alpha': 22.0},\n",
       "  {'alpha': 23.0},\n",
       "  {'alpha': 24.0},\n",
       "  {'alpha': 25.0},\n",
       "  {'alpha': 26.0},\n",
       "  {'alpha': 27.0},\n",
       "  {'alpha': 28.0},\n",
       "  {'alpha': 29.0},\n",
       "  {'alpha': 30.0},\n",
       "  {'alpha': 31.0},\n",
       "  {'alpha': 32.0},\n",
       "  {'alpha': 33.0},\n",
       "  {'alpha': 34.0},\n",
       "  {'alpha': 35.0},\n",
       "  {'alpha': 36.0},\n",
       "  {'alpha': 37.0},\n",
       "  {'alpha': 38.0},\n",
       "  {'alpha': 39.0},\n",
       "  {'alpha': 40.0},\n",
       "  {'alpha': 41.0},\n",
       "  {'alpha': 42.0},\n",
       "  {'alpha': 43.0},\n",
       "  {'alpha': 44.0},\n",
       "  {'alpha': 45.0},\n",
       "  {'alpha': 46.0},\n",
       "  {'alpha': 47.0},\n",
       "  {'alpha': 48.0},\n",
       "  {'alpha': 49.0},\n",
       "  {'alpha': 50.0},\n",
       "  {'alpha': 51.0},\n",
       "  {'alpha': 52.0},\n",
       "  {'alpha': 53.0},\n",
       "  {'alpha': 54.0},\n",
       "  {'alpha': 55.0},\n",
       "  {'alpha': 56.0},\n",
       "  {'alpha': 57.0},\n",
       "  {'alpha': 58.0},\n",
       "  {'alpha': 59.0},\n",
       "  {'alpha': 60.0},\n",
       "  {'alpha': 61.0},\n",
       "  {'alpha': 62.0},\n",
       "  {'alpha': 63.0},\n",
       "  {'alpha': 64.0},\n",
       "  {'alpha': 65.0},\n",
       "  {'alpha': 66.0},\n",
       "  {'alpha': 67.0},\n",
       "  {'alpha': 68.0},\n",
       "  {'alpha': 69.0},\n",
       "  {'alpha': 70.0},\n",
       "  {'alpha': 71.0},\n",
       "  {'alpha': 72.0},\n",
       "  {'alpha': 73.0},\n",
       "  {'alpha': 74.0},\n",
       "  {'alpha': 75.0},\n",
       "  {'alpha': 76.0},\n",
       "  {'alpha': 77.0},\n",
       "  {'alpha': 78.0},\n",
       "  {'alpha': 79.0},\n",
       "  {'alpha': 80.0},\n",
       "  {'alpha': 81.0},\n",
       "  {'alpha': 82.0},\n",
       "  {'alpha': 83.0},\n",
       "  {'alpha': 84.0},\n",
       "  {'alpha': 85.0},\n",
       "  {'alpha': 86.0},\n",
       "  {'alpha': 87.0},\n",
       "  {'alpha': 88.0},\n",
       "  {'alpha': 89.0},\n",
       "  {'alpha': 90.0},\n",
       "  {'alpha': 91.0},\n",
       "  {'alpha': 92.0},\n",
       "  {'alpha': 93.0},\n",
       "  {'alpha': 94.0},\n",
       "  {'alpha': 95.0},\n",
       "  {'alpha': 96.0},\n",
       "  {'alpha': 97.0},\n",
       "  {'alpha': 98.0},\n",
       "  {'alpha': 99.0},\n",
       "  {'alpha': 100.0}],\n",
       " 'split0_test_score': array([-1.72148756, -1.72164664, -1.7217957 , -1.72193673, -1.72207125,\n",
       "        -1.72220041, -1.72232512, -1.72244609, -1.72256387, -1.72267893,\n",
       "        -1.72279164, -1.72290231, -1.72301119, -1.7231185 , -1.72322442,\n",
       "        -1.72332911, -1.72343268, -1.72355315, -1.72368101, -1.72380791,\n",
       "        -1.72393393, -1.72405915, -1.72418363, -1.72430743, -1.7244306 ,\n",
       "        -1.72455319, -1.72467524, -1.72479678, -1.72491786, -1.72503849,\n",
       "        -1.7251603 , -1.725286  , -1.72541495, -1.72557475, -1.72573408,\n",
       "        -1.72589298, -1.72605145, -1.72620953, -1.72636721, -1.72652454,\n",
       "        -1.72668151, -1.72683815, -1.72699758, -1.72716355, -1.72732922,\n",
       "        -1.72749459, -1.72765966, -1.72782446, -1.72798898, -1.72815323,\n",
       "        -1.72832185, -1.72850422, -1.72868627, -1.72886802, -1.72904946,\n",
       "        -1.72923062, -1.72941149, -1.72959208, -1.7297724 , -1.72995246,\n",
       "        -1.73013225, -1.73031179, -1.73049108, -1.73067013, -1.73084893,\n",
       "        -1.73102749, -1.73120583, -1.73139091, -1.73157719, -1.73176322,\n",
       "        -1.73194901, -1.73213457, -1.73231988, -1.73250497, -1.73268983,\n",
       "        -1.73287446, -1.7330659 , -1.73327677, -1.73348909, -1.73370113,\n",
       "        -1.73391291, -1.73412442, -1.73433567, -1.73454665, -1.73475738,\n",
       "        -1.73496786, -1.73517808, -1.73538806, -1.73559778, -1.73580726,\n",
       "        -1.7360255 , -1.73625039, -1.73647501, -1.73669936, -1.73692345,\n",
       "        -1.73714728, -1.73737085, -1.73759417, -1.73781723, -1.73804004]),\n",
       " 'split1_test_score': array([-1.77273836, -1.77203283, -1.77146593, -1.77100548, -1.7706326 ,\n",
       "        -1.77032455, -1.77006883, -1.76985601, -1.76967883, -1.76953163,\n",
       "        -1.76940991, -1.76931005, -1.76922912, -1.76916467, -1.7691147 ,\n",
       "        -1.76907752, -1.7690517 , -1.76903603, -1.76902946, -1.7690311 ,\n",
       "        -1.76904016, -1.76905597, -1.76907792, -1.7691055 , -1.76915128,\n",
       "        -1.76920469, -1.76926246, -1.76933227, -1.76944941, -1.76956908,\n",
       "        -1.76969109, -1.76981521, -1.7699413 , -1.77006917, -1.77019869,\n",
       "        -1.77032973, -1.77046217, -1.77059589, -1.7707308 , -1.77086681,\n",
       "        -1.77100382, -1.77114178, -1.77128059, -1.7714202 , -1.77156055,\n",
       "        -1.77170158, -1.77184323, -1.77198546, -1.77212823, -1.77227149,\n",
       "        -1.7724152 , -1.77255933, -1.77270384, -1.77284871, -1.77299389,\n",
       "        -1.77313937, -1.77328512, -1.77343111, -1.77357732, -1.77372372,\n",
       "        -1.77387031, -1.77401706, -1.77416395, -1.77431096, -1.77445809,\n",
       "        -1.7746053 , -1.7747526 , -1.77489996, -1.77504738, -1.77519483,\n",
       "        -1.77534232, -1.77548983, -1.77563734, -1.77578486, -1.77593236,\n",
       "        -1.77607985, -1.77622731, -1.77637473, -1.77652211, -1.77666944,\n",
       "        -1.77681672, -1.77696393, -1.77711108, -1.77725815, -1.77740514,\n",
       "        -1.77755205, -1.77769886, -1.77784558, -1.7779922 , -1.77813871,\n",
       "        -1.77828512, -1.77843141, -1.77857759, -1.77872365, -1.77886959,\n",
       "        -1.77901539, -1.77916107, -1.77930662, -1.77945203, -1.7795973 ]),\n",
       " 'split2_test_score': array([-1.76852907, -1.76921834, -1.76974463, -1.77014865, -1.77045853,\n",
       "        -1.77070349, -1.77090025, -1.77104869, -1.77116115, -1.7712589 ,\n",
       "        -1.77132907, -1.7713758 , -1.77140244, -1.77141174, -1.77140598,\n",
       "        -1.77138706, -1.7713566 , -1.77133468, -1.77132932, -1.77131566,\n",
       "        -1.77129457, -1.77126681, -1.77123303, -1.77119382, -1.77114969,\n",
       "        -1.77110109, -1.77104841, -1.77099203, -1.77093224, -1.7708836 ,\n",
       "        -1.77083235, -1.77077845, -1.7707221 , -1.77069952, -1.77067712,\n",
       "        -1.77065266, -1.77062629, -1.77059813, -1.77056831, -1.77053694,\n",
       "        -1.77050412, -1.77046995, -1.77043452, -1.77039791, -1.77036019,\n",
       "        -1.77032142, -1.77028168, -1.77024103, -1.77019951, -1.77015719,\n",
       "        -1.7701141 , -1.7700703 , -1.77002583, -1.76998072, -1.76994608,\n",
       "        -1.76992353, -1.76990041, -1.76987675, -1.76985257, -1.76982791,\n",
       "        -1.76980279, -1.76977723, -1.76975125, -1.76972488, -1.76969815,\n",
       "        -1.76967106, -1.76964363, -1.76961589, -1.76958785, -1.76955952,\n",
       "        -1.76953092, -1.76950207, -1.76947298, -1.76944365, -1.76941411,\n",
       "        -1.76938435, -1.76935441, -1.76932427, -1.76929397, -1.76926349,\n",
       "        -1.76923286, -1.76920208, -1.76917116, -1.76914011, -1.76910893,\n",
       "        -1.76907763, -1.76904622, -1.76901471, -1.7689831 , -1.7689514 ,\n",
       "        -1.76892554, -1.76893308, -1.76894049, -1.76894778, -1.76895493,\n",
       "        -1.76896197, -1.7689689 , -1.76897571, -1.76898242, -1.76898903]),\n",
       " 'split3_test_score': array([-1.64738259, -1.64755075, -1.64769714, -1.64782574, -1.64793977,\n",
       "        -1.64804632, -1.64814718, -1.64824046, -1.64837053, -1.64853875,\n",
       "        -1.648721  , -1.64889918, -1.64907383, -1.64924541, -1.64941431,\n",
       "        -1.64958087, -1.64974537, -1.64990804, -1.6500691 , -1.65022872,\n",
       "        -1.65038705, -1.65054423, -1.65070038, -1.65085559, -1.65100996,\n",
       "        -1.65116356, -1.65131647, -1.65146874, -1.65164159, -1.65183754,\n",
       "        -1.65204208, -1.65226326, -1.652483  , -1.65270136, -1.6529184 ,\n",
       "        -1.65313418, -1.65334873, -1.65356211, -1.65377435, -1.65398549,\n",
       "        -1.65419558, -1.65440464, -1.6546127 , -1.6548198 , -1.65502596,\n",
       "        -1.65523121, -1.65543557, -1.65563907, -1.65584173, -1.65604357,\n",
       "        -1.65624461, -1.65644487, -1.65664437, -1.65684312, -1.65704114,\n",
       "        -1.65723845, -1.65743505, -1.65763098, -1.65782623, -1.65802082,\n",
       "        -1.65821476, -1.65840807, -1.65860076, -1.65879283, -1.6589843 ,\n",
       "        -1.65917518, -1.65936547, -1.65955519, -1.65974435, -1.65993294,\n",
       "        -1.66012099, -1.66031343, -1.66051111, -1.66070828, -1.66090496,\n",
       "        -1.66110114, -1.66129684, -1.66149205, -1.66168679, -1.66188106,\n",
       "        -1.66207486, -1.6622682 , -1.66246109, -1.66265352, -1.6628455 ,\n",
       "        -1.66303705, -1.66322815, -1.66341881, -1.66360904, -1.66379885,\n",
       "        -1.66398823, -1.66417719, -1.66436573, -1.66455386, -1.66474158,\n",
       "        -1.66492889, -1.6651158 , -1.6653023 , -1.66548841, -1.66567412]),\n",
       " 'split4_test_score': array([-1.4277654 , -1.43038677, -1.43233905, -1.43385501, -1.43508047,\n",
       "        -1.43608756, -1.43693872, -1.43766802, -1.43831158, -1.43887961,\n",
       "        -1.43939413, -1.43989367, -1.440347  , -1.44076107, -1.44114148,\n",
       "        -1.44149281, -1.44181879, -1.44212254, -1.44240668, -1.4426734 ,\n",
       "        -1.44292458, -1.44316183, -1.44338654, -1.44359991, -1.44380297,\n",
       "        -1.44399666, -1.44418177, -1.44435902, -1.44452904, -1.44469239,\n",
       "        -1.44484958, -1.44500107, -1.44514724, -1.44528848, -1.44542511,\n",
       "        -1.44555744, -1.44568573, -1.44581025, -1.4459312 , -1.44604882,\n",
       "        -1.44616328, -1.44627476, -1.44638344, -1.44648944, -1.44659293,\n",
       "        -1.44669402, -1.44679283, -1.44688948, -1.44698407, -1.44707669,\n",
       "        -1.44716744, -1.44725641, -1.44734366, -1.44742927, -1.44751331,\n",
       "        -1.44759586, -1.44767696, -1.44780363, -1.44795405, -1.44810268,\n",
       "        -1.44824958, -1.4483948 , -1.44853841, -1.44868044, -1.44882095,\n",
       "        -1.44895999, -1.44909759, -1.4492338 , -1.44936866, -1.44950418,\n",
       "        -1.44965185, -1.44979824, -1.44994339, -1.45008733, -1.45023009,\n",
       "        -1.45037171, -1.4505122 , -1.4506516 , -1.45078994, -1.45092724,\n",
       "        -1.45106352, -1.45119881, -1.45133313, -1.4514665 , -1.45159895,\n",
       "        -1.45173049, -1.45186115, -1.45199093, -1.45211987, -1.45224798,\n",
       "        -1.45237528, -1.45250177, -1.45262749, -1.45275244, -1.45287664,\n",
       "        -1.4530001 , -1.45312284, -1.45324487, -1.45336621, -1.45348687]),\n",
       " 'split5_test_score': array([-1.63757972, -1.63436839, -1.63222553, -1.63068716, -1.62999921,\n",
       "        -1.63064776, -1.63115408, -1.63155773, -1.63188482, -1.63215332,\n",
       "        -1.63237594, -1.63256197, -1.63272156, -1.63286505, -1.63299289,\n",
       "        -1.63311943, -1.63323108, -1.63332993, -1.63341769, -1.63349578,\n",
       "        -1.63357349, -1.6336462 , -1.63371213, -1.63377199, -1.63383809,\n",
       "        -1.63390398, -1.63396538, -1.63402735, -1.63409377, -1.63415668,\n",
       "        -1.63421635, -1.63427303, -1.63432694, -1.63437828, -1.63442722,\n",
       "        -1.63447393, -1.63451855, -1.63456121, -1.63460202, -1.63464111,\n",
       "        -1.63467856, -1.63471446, -1.63474891, -1.63478197, -1.63481372,\n",
       "        -1.63484422, -1.63487353, -1.63490171, -1.63492881, -1.63495487,\n",
       "        -1.63497995, -1.63500409, -1.63502732, -1.63504968, -1.63507121,\n",
       "        -1.63509194, -1.63511189, -1.6351311 , -1.6351496 , -1.63516741,\n",
       "        -1.63518455, -1.63520105, -1.63521692, -1.6352322 , -1.63524689,\n",
       "        -1.63526102, -1.63527461, -1.63529665, -1.63532349, -1.63534982,\n",
       "        -1.63537564, -1.63540097, -1.63542583, -1.63545022, -1.63547417,\n",
       "        -1.63549767, -1.63552075, -1.63554341, -1.63556567, -1.63558752,\n",
       "        -1.63560899, -1.63564215, -1.63567774, -1.63571295, -1.63574823,\n",
       "        -1.63581137, -1.63587412, -1.63593646, -1.63599842, -1.63606   ,\n",
       "        -1.6361212 , -1.63618204, -1.63624251, -1.63630262, -1.63636237,\n",
       "        -1.63642178, -1.63648085, -1.63653958, -1.63659798, -1.63665816]),\n",
       " 'split6_test_score': array([-1.42561358, -1.42618426, -1.42666719, -1.42708272, -1.42744546,\n",
       "        -1.42776614, -1.4280528 , -1.42831159, -1.42857349, -1.42883364,\n",
       "        -1.42907451, -1.42929894, -1.42950922, -1.42970725, -1.42989459,\n",
       "        -1.43007258, -1.43024231, -1.43040472, -1.43056064, -1.43071074,\n",
       "        -1.43085562, -1.43099581, -1.43113175, -1.43126384, -1.43139242,\n",
       "        -1.43151782, -1.43164029, -1.43176008, -1.4318774 , -1.4320239 ,\n",
       "        -1.43218611, -1.43234619, -1.4325043 , -1.43266055, -1.43281508,\n",
       "        -1.43296798, -1.43311937, -1.43326932, -1.43342455, -1.43358914,\n",
       "        -1.43375252, -1.43391475, -1.43407588, -1.43423598, -1.43442185,\n",
       "        -1.43462828, -1.43483371, -1.43503819, -1.43524176, -1.43544443,\n",
       "        -1.43564626, -1.43584727, -1.43604748, -1.43624692, -1.43644562,\n",
       "        -1.4366436 , -1.43684088, -1.43703748, -1.43723343, -1.43742873,\n",
       "        -1.4376234 , -1.43781747, -1.43801094, -1.43820383, -1.43839615,\n",
       "        -1.43858792, -1.43877915, -1.43896985, -1.43916002, -1.43934969,\n",
       "        -1.43953886, -1.43972753, -1.43991573, -1.44010345, -1.4402907 ,\n",
       "        -1.4404775 , -1.44066385, -1.44084975, -1.44103522, -1.44122025,\n",
       "        -1.44140486, -1.44158905, -1.44177283, -1.4419562 , -1.44213917,\n",
       "        -1.44232174, -1.44250391, -1.4426857 , -1.4428671 , -1.44304813,\n",
       "        -1.44322878, -1.44340905, -1.44358896, -1.44376851, -1.44394769,\n",
       "        -1.44412652, -1.44430499, -1.44448311, -1.44466088, -1.44483831]),\n",
       " 'split7_test_score': array([-1.58611801, -1.58584984, -1.5855908 , -1.58534059, -1.58509861,\n",
       "        -1.5848642 , -1.58463671, -1.58441554, -1.58420019, -1.58399018,\n",
       "        -1.58378512, -1.58358464, -1.58338844, -1.58319623, -1.58300778,\n",
       "        -1.58282285, -1.58264127, -1.58246284, -1.58229079, -1.58214979,\n",
       "        -1.58201148, -1.58187573, -1.58174244, -1.58161148, -1.58148278,\n",
       "        -1.58135625, -1.58123179, -1.58110934, -1.58098882, -1.58087016,\n",
       "        -1.58075331, -1.58063821, -1.5805248 , -1.58041303, -1.58030284,\n",
       "        -1.5801942 , -1.58008706, -1.57998138, -1.57987712, -1.57980479,\n",
       "        -1.57974619, -1.57968821, -1.57963085, -1.57957409, -1.5795179 ,\n",
       "        -1.57946229, -1.57940723, -1.57935271, -1.57929873, -1.57924527,\n",
       "        -1.57919232, -1.57913987, -1.57908791, -1.57903644, -1.57898544,\n",
       "        -1.5789349 , -1.57888483, -1.5788352 , -1.57878602, -1.57873727,\n",
       "        -1.57868895, -1.57864106, -1.57859358, -1.57854651, -1.57849984,\n",
       "        -1.57845357, -1.5784077 , -1.57836221, -1.57831711, -1.57827238,\n",
       "        -1.57822803, -1.57818404, -1.57814042, -1.57809715, -1.57805424,\n",
       "        -1.57801168, -1.57796947, -1.57795902, -1.57795046, -1.57794216,\n",
       "        -1.57793414, -1.57792637, -1.57791887, -1.57791163, -1.57790464,\n",
       "        -1.5778979 , -1.5779032 , -1.57792002, -1.57793707, -1.57795435,\n",
       "        -1.57797185, -1.57798958, -1.57800752, -1.57802568, -1.57804406,\n",
       "        -1.57806265, -1.57808145, -1.57810046, -1.57811967, -1.57813909]),\n",
       " 'split8_test_score': array([-1.52916916, -1.52852623, -1.52807216, -1.52775775, -1.52755059,\n",
       "        -1.52742749, -1.52737135, -1.52736934, -1.52741162, -1.52749051,\n",
       "        -1.52759996, -1.52773511, -1.52789203, -1.52806752, -1.52825893,\n",
       "        -1.52846405, -1.52868104, -1.52890833, -1.52914462, -1.52938876,\n",
       "        -1.5296398 , -1.52989689, -1.53015931, -1.53042644, -1.53069772,\n",
       "        -1.53097267, -1.53125087, -1.53153195, -1.53181557, -1.53210145,\n",
       "        -1.53238932, -1.53267896, -1.53297014, -1.5332627 , -1.53355647,\n",
       "        -1.53385129, -1.53414703, -1.53444357, -1.5347408 , -1.53503862,\n",
       "        -1.53533694, -1.53563568, -1.53593478, -1.53623415, -1.53654102,\n",
       "        -1.53684921, -1.53715751, -1.53746588, -1.53777427, -1.53808264,\n",
       "        -1.53839096, -1.53869919, -1.5390266 , -1.53935749, -1.53968814,\n",
       "        -1.54001855, -1.5403487 , -1.54067857, -1.54100813, -1.54133739,\n",
       "        -1.54166632, -1.54199491, -1.54232315, -1.54265104, -1.54297855,\n",
       "        -1.54330569, -1.54363245, -1.54395882, -1.54428479, -1.54461036,\n",
       "        -1.54493552, -1.54526027, -1.5455846 , -1.54590852, -1.54623201,\n",
       "        -1.54655508, -1.54687772, -1.54719993, -1.54752171, -1.54784305,\n",
       "        -1.54816396, -1.54848444, -1.54880448, -1.54912408, -1.54944325,\n",
       "        -1.54976197, -1.55008026, -1.55039811, -1.55071552, -1.55103249,\n",
       "        -1.55134903, -1.55166513, -1.55198079, -1.55229601, -1.5526108 ,\n",
       "        -1.55292515, -1.55323907, -1.55355256, -1.55386561, -1.55417824]),\n",
       " 'split9_test_score': array([-1.66092281, -1.66090925, -1.66089426, -1.66087858, -1.66086257,\n",
       "        -1.66084642, -1.66083296, -1.66083666, -1.66084061, -1.66084472,\n",
       "        -1.66084896, -1.66085328, -1.66085764, -1.660862  , -1.66086636,\n",
       "        -1.66087068, -1.66087495, -1.66087915, -1.66088328, -1.66088733,\n",
       "        -1.66089129, -1.66089515, -1.66089891, -1.66090257, -1.66090612,\n",
       "        -1.66090957, -1.66091291, -1.66091613, -1.66091925, -1.66092226,\n",
       "        -1.66092517, -1.66092796, -1.66093066, -1.66093324, -1.66093573,\n",
       "        -1.66093811, -1.66094039, -1.66094258, -1.66094466, -1.66094666,\n",
       "        -1.66094856, -1.66095037, -1.66095748, -1.66097372, -1.66098989,\n",
       "        -1.661006  , -1.66102204, -1.66103802, -1.66105393, -1.66106978,\n",
       "        -1.66108557, -1.66110131, -1.66111699, -1.66113261, -1.66114818,\n",
       "        -1.66116369, -1.66117916, -1.66119458, -1.66120995, -1.66122527,\n",
       "        -1.66124054, -1.66125577, -1.66127096, -1.66128611, -1.66130121,\n",
       "        -1.66131628, -1.6613313 , -1.66134629, -1.66136124, -1.66137616,\n",
       "        -1.66139104, -1.66140588, -1.6614207 , -1.66143548, -1.66145289,\n",
       "        -1.66147137, -1.66148979, -1.66150817, -1.66152651, -1.66154481,\n",
       "        -1.66156307, -1.66158128, -1.66159946, -1.66161759, -1.66163569,\n",
       "        -1.66165375, -1.66167837, -1.66170689, -1.66173537, -1.66176379,\n",
       "        -1.66179217, -1.66182051, -1.6618488 , -1.66187704, -1.66190524,\n",
       "        -1.66193339, -1.66196151, -1.66198957, -1.6620176 , -1.66204558]),\n",
       " 'mean_test_score': array([-1.61773063, -1.61766733, -1.61764924, -1.61765184, -1.61771391,\n",
       "        -1.61789143, -1.6180428 , -1.61817501, -1.61829967, -1.61842002,\n",
       "        -1.61853302, -1.6186415 , -1.61874325, -1.61883994, -1.61893214,\n",
       "        -1.6190217 , -1.61910758, -1.61919394, -1.61928126, -1.61936892,\n",
       "        -1.6194552 , -1.61953978, -1.6196226 , -1.61970386, -1.61978616,\n",
       "        -1.61986795, -1.61994856, -1.62002937, -1.62011649, -1.62020956,\n",
       "        -1.62030457, -1.62040083, -1.62049654, -1.62059811, -1.62069908,\n",
       "        -1.62079925, -1.62089868, -1.62099739, -1.6210961 , -1.62119829,\n",
       "        -1.62130111, -1.62140328, -1.62150567, -1.62160908, -1.62171532,\n",
       "        -1.62182328, -1.6219307 , -1.6220376 , -1.622144  , -1.62224992,\n",
       "        -1.62235583, -1.62246269, -1.62257103, -1.6226793 , -1.62278825,\n",
       "        -1.62289805, -1.62300745, -1.62312115, -1.62323697, -1.62335237,\n",
       "        -1.62346735, -1.62358192, -1.6236961 , -1.62380989, -1.62392331,\n",
       "        -1.62403635, -1.62414903, -1.62426296, -1.62437721, -1.62449131,\n",
       "        -1.62460642, -1.62472168, -1.6248372 , -1.62495239, -1.62506754,\n",
       "        -1.62518248, -1.62529782, -1.62541797, -1.62553815, -1.62565802,\n",
       "        -1.62577759, -1.62589807, -1.62601855, -1.62613874, -1.62625869,\n",
       "        -1.62638118, -1.62650523, -1.62663053, -1.62675555, -1.6268803 ,\n",
       "        -1.62700627, -1.62713602, -1.62726549, -1.62739469, -1.62752364,\n",
       "        -1.62765231, -1.62778073, -1.6279089 , -1.62803681, -1.62816467]),\n",
       " 'std_test_score': array([0.1193776 , 0.11888994, 0.11852863, 0.11824539, 0.11801783,\n",
       "        0.11783875, 0.11768325, 0.11754542, 0.11741678, 0.11729932,\n",
       "        0.11719019, 0.11708313, 0.116983  , 0.11688888, 0.11679992,\n",
       "        0.11671558, 0.11663514, 0.11656219, 0.11649631, 0.11643224,\n",
       "        0.11637071, 0.11631141, 0.11625413, 0.1161987 , 0.11614677,\n",
       "        0.11609684, 0.11604836, 0.11600231, 0.1159638 , 0.11592375,\n",
       "        0.11588223, 0.11584252, 0.11580403, 0.11577386, 0.11574476,\n",
       "        0.11571636, 0.11568865, 0.11566157, 0.11563402, 0.11560424,\n",
       "        0.11557455, 0.11554541, 0.11551726, 0.11549055, 0.11545944,\n",
       "        0.11542522, 0.11539147, 0.11535817, 0.1153253 , 0.11529286,\n",
       "        0.11526125, 0.11523132, 0.11520038, 0.11516956, 0.11514053,\n",
       "        0.11511348, 0.11508677, 0.11505324, 0.11501622, 0.1149796 ,\n",
       "        0.11494336, 0.1149075 , 0.114872  , 0.11483687, 0.1148021 ,\n",
       "        0.11476767, 0.11473359, 0.11470057, 0.11466807, 0.11463559,\n",
       "        0.11460137, 0.11456762, 0.11453435, 0.11450139, 0.11446882,\n",
       "        0.11443657, 0.11440527, 0.11437481, 0.11434472, 0.1143149 ,\n",
       "        0.11428535, 0.11425616, 0.11422725, 0.1141986 , 0.1141702 ,\n",
       "        0.11414227, 0.11411429, 0.11408618, 0.11405829, 0.11403063,\n",
       "        0.11400479, 0.11398398, 0.11396338, 0.11394298, 0.11392277,\n",
       "        0.11390276, 0.11388294, 0.1138633 , 0.11384385, 0.1138246 ]),\n",
       " 'rank_test_score': array([  5,   3,   1,   2,   4,   6,   7,   8,   9,  10,  11,  12,  13,\n",
       "         14,  15,  16,  17,  18,  19,  20,  21,  22,  23,  24,  25,  26,\n",
       "         27,  28,  29,  30,  31,  32,  33,  34,  35,  36,  37,  38,  39,\n",
       "         40,  41,  42,  43,  44,  45,  46,  47,  48,  49,  50,  51,  52,\n",
       "         53,  54,  55,  56,  57,  58,  59,  60,  61,  62,  63,  64,  65,\n",
       "         66,  67,  68,  69,  70,  71,  72,  73,  74,  75,  76,  77,  78,\n",
       "         79,  80,  81,  82,  83,  84,  85,  86,  87,  88,  89,  90,  91,\n",
       "         92,  93,  94,  95,  96,  97,  98,  99, 100], dtype=int32)}"
      ]
     },
     "execution_count": 74,
     "metadata": {},
     "output_type": "execute_result"
    }
   ],
   "source": [
    "grid_search.cv_results_"
   ]
  },
  {
   "cell_type": "markdown",
   "metadata": {},
   "source": [
    " if you want you can now fit a ridge regression model with obtained value of alpha , although there is no need, grid search automatically fits the best estimator on the entire data, you can directly use this to make predictions on test_data. But if you want to look at coefficients , its much more convenient to fit the model with direct function"
   ]
  },
  {
   "cell_type": "markdown",
   "metadata": {},
   "source": [
    "Using the report function given below you can see the cv performance of top few models as well, that will the tentative performance"
   ]
  },
  {
   "cell_type": "code",
   "execution_count": 75,
   "metadata": {},
   "outputs": [],
   "source": [
    "def report(results, n_top=3):\n",
    "    for i in range(1, n_top + 1):\n",
    "        candidates = np.flatnonzero(results['rank_test_score'] == i)\n",
    "        for candidate in candidates:\n",
    "            print(\"Model with rank: {0}\".format(i))\n",
    "            print(\"Mean validation score: {0:.3f} (std: {1:.3f})\".format(\n",
    "                  results['mean_test_score'][candidate],\n",
    "                  results['std_test_score'][candidate]))\n",
    "            print(\"Parameters: {0}\".format(results['params'][candidate]))\n",
    "            print(\"\")"
   ]
  },
  {
   "cell_type": "code",
   "execution_count": 76,
   "metadata": {},
   "outputs": [
    {
     "name": "stdout",
     "output_type": "stream",
     "text": [
      "Model with rank: 1\n",
      "Mean validation score: -1.618 (std: 0.119)\n",
      "Parameters: {'alpha': 3.0}\n",
      "\n",
      "Model with rank: 2\n",
      "Mean validation score: -1.618 (std: 0.118)\n",
      "Parameters: {'alpha': 4.0}\n",
      "\n",
      "Model with rank: 3\n",
      "Mean validation score: -1.618 (std: 0.119)\n",
      "Parameters: {'alpha': 2.0}\n",
      "\n",
      "Model with rank: 4\n",
      "Mean validation score: -1.618 (std: 0.118)\n",
      "Parameters: {'alpha': 5.0}\n",
      "\n",
      "Model with rank: 5\n",
      "Mean validation score: -1.618 (std: 0.119)\n",
      "Parameters: {'alpha': 1.0}\n",
      "\n",
      "Model with rank: 6\n",
      "Mean validation score: -1.618 (std: 0.118)\n",
      "Parameters: {'alpha': 6.0}\n",
      "\n",
      "Model with rank: 7\n",
      "Mean validation score: -1.618 (std: 0.118)\n",
      "Parameters: {'alpha': 7.0}\n",
      "\n",
      "Model with rank: 8\n",
      "Mean validation score: -1.618 (std: 0.118)\n",
      "Parameters: {'alpha': 8.0}\n",
      "\n",
      "Model with rank: 9\n",
      "Mean validation score: -1.618 (std: 0.117)\n",
      "Parameters: {'alpha': 9.0}\n",
      "\n",
      "Model with rank: 10\n",
      "Mean validation score: -1.618 (std: 0.117)\n",
      "Parameters: {'alpha': 10.0}\n",
      "\n",
      "Model with rank: 11\n",
      "Mean validation score: -1.619 (std: 0.117)\n",
      "Parameters: {'alpha': 11.0}\n",
      "\n",
      "Model with rank: 12\n",
      "Mean validation score: -1.619 (std: 0.117)\n",
      "Parameters: {'alpha': 12.0}\n",
      "\n",
      "Model with rank: 13\n",
      "Mean validation score: -1.619 (std: 0.117)\n",
      "Parameters: {'alpha': 13.0}\n",
      "\n",
      "Model with rank: 14\n",
      "Mean validation score: -1.619 (std: 0.117)\n",
      "Parameters: {'alpha': 14.0}\n",
      "\n",
      "Model with rank: 15\n",
      "Mean validation score: -1.619 (std: 0.117)\n",
      "Parameters: {'alpha': 15.0}\n",
      "\n",
      "Model with rank: 16\n",
      "Mean validation score: -1.619 (std: 0.117)\n",
      "Parameters: {'alpha': 16.0}\n",
      "\n",
      "Model with rank: 17\n",
      "Mean validation score: -1.619 (std: 0.117)\n",
      "Parameters: {'alpha': 17.0}\n",
      "\n",
      "Model with rank: 18\n",
      "Mean validation score: -1.619 (std: 0.117)\n",
      "Parameters: {'alpha': 18.0}\n",
      "\n",
      "Model with rank: 19\n",
      "Mean validation score: -1.619 (std: 0.116)\n",
      "Parameters: {'alpha': 19.0}\n",
      "\n",
      "Model with rank: 20\n",
      "Mean validation score: -1.619 (std: 0.116)\n",
      "Parameters: {'alpha': 20.0}\n",
      "\n",
      "Model with rank: 21\n",
      "Mean validation score: -1.619 (std: 0.116)\n",
      "Parameters: {'alpha': 21.0}\n",
      "\n",
      "Model with rank: 22\n",
      "Mean validation score: -1.620 (std: 0.116)\n",
      "Parameters: {'alpha': 22.0}\n",
      "\n",
      "Model with rank: 23\n",
      "Mean validation score: -1.620 (std: 0.116)\n",
      "Parameters: {'alpha': 23.0}\n",
      "\n",
      "Model with rank: 24\n",
      "Mean validation score: -1.620 (std: 0.116)\n",
      "Parameters: {'alpha': 24.0}\n",
      "\n",
      "Model with rank: 25\n",
      "Mean validation score: -1.620 (std: 0.116)\n",
      "Parameters: {'alpha': 25.0}\n",
      "\n",
      "Model with rank: 26\n",
      "Mean validation score: -1.620 (std: 0.116)\n",
      "Parameters: {'alpha': 26.0}\n",
      "\n",
      "Model with rank: 27\n",
      "Mean validation score: -1.620 (std: 0.116)\n",
      "Parameters: {'alpha': 27.0}\n",
      "\n",
      "Model with rank: 28\n",
      "Mean validation score: -1.620 (std: 0.116)\n",
      "Parameters: {'alpha': 28.0}\n",
      "\n",
      "Model with rank: 29\n",
      "Mean validation score: -1.620 (std: 0.116)\n",
      "Parameters: {'alpha': 29.0}\n",
      "\n",
      "Model with rank: 30\n",
      "Mean validation score: -1.620 (std: 0.116)\n",
      "Parameters: {'alpha': 30.0}\n",
      "\n",
      "Model with rank: 31\n",
      "Mean validation score: -1.620 (std: 0.116)\n",
      "Parameters: {'alpha': 31.0}\n",
      "\n",
      "Model with rank: 32\n",
      "Mean validation score: -1.620 (std: 0.116)\n",
      "Parameters: {'alpha': 32.0}\n",
      "\n",
      "Model with rank: 33\n",
      "Mean validation score: -1.620 (std: 0.116)\n",
      "Parameters: {'alpha': 33.0}\n",
      "\n",
      "Model with rank: 34\n",
      "Mean validation score: -1.621 (std: 0.116)\n",
      "Parameters: {'alpha': 34.0}\n",
      "\n",
      "Model with rank: 35\n",
      "Mean validation score: -1.621 (std: 0.116)\n",
      "Parameters: {'alpha': 35.0}\n",
      "\n",
      "Model with rank: 36\n",
      "Mean validation score: -1.621 (std: 0.116)\n",
      "Parameters: {'alpha': 36.0}\n",
      "\n",
      "Model with rank: 37\n",
      "Mean validation score: -1.621 (std: 0.116)\n",
      "Parameters: {'alpha': 37.0}\n",
      "\n",
      "Model with rank: 38\n",
      "Mean validation score: -1.621 (std: 0.116)\n",
      "Parameters: {'alpha': 38.0}\n",
      "\n",
      "Model with rank: 39\n",
      "Mean validation score: -1.621 (std: 0.116)\n",
      "Parameters: {'alpha': 39.0}\n",
      "\n",
      "Model with rank: 40\n",
      "Mean validation score: -1.621 (std: 0.116)\n",
      "Parameters: {'alpha': 40.0}\n",
      "\n",
      "Model with rank: 41\n",
      "Mean validation score: -1.621 (std: 0.116)\n",
      "Parameters: {'alpha': 41.0}\n",
      "\n",
      "Model with rank: 42\n",
      "Mean validation score: -1.621 (std: 0.116)\n",
      "Parameters: {'alpha': 42.0}\n",
      "\n",
      "Model with rank: 43\n",
      "Mean validation score: -1.622 (std: 0.116)\n",
      "Parameters: {'alpha': 43.0}\n",
      "\n",
      "Model with rank: 44\n",
      "Mean validation score: -1.622 (std: 0.115)\n",
      "Parameters: {'alpha': 44.0}\n",
      "\n",
      "Model with rank: 45\n",
      "Mean validation score: -1.622 (std: 0.115)\n",
      "Parameters: {'alpha': 45.0}\n",
      "\n",
      "Model with rank: 46\n",
      "Mean validation score: -1.622 (std: 0.115)\n",
      "Parameters: {'alpha': 46.0}\n",
      "\n",
      "Model with rank: 47\n",
      "Mean validation score: -1.622 (std: 0.115)\n",
      "Parameters: {'alpha': 47.0}\n",
      "\n",
      "Model with rank: 48\n",
      "Mean validation score: -1.622 (std: 0.115)\n",
      "Parameters: {'alpha': 48.0}\n",
      "\n",
      "Model with rank: 49\n",
      "Mean validation score: -1.622 (std: 0.115)\n",
      "Parameters: {'alpha': 49.0}\n",
      "\n",
      "Model with rank: 50\n",
      "Mean validation score: -1.622 (std: 0.115)\n",
      "Parameters: {'alpha': 50.0}\n",
      "\n",
      "Model with rank: 51\n",
      "Mean validation score: -1.622 (std: 0.115)\n",
      "Parameters: {'alpha': 51.0}\n",
      "\n",
      "Model with rank: 52\n",
      "Mean validation score: -1.622 (std: 0.115)\n",
      "Parameters: {'alpha': 52.0}\n",
      "\n",
      "Model with rank: 53\n",
      "Mean validation score: -1.623 (std: 0.115)\n",
      "Parameters: {'alpha': 53.0}\n",
      "\n",
      "Model with rank: 54\n",
      "Mean validation score: -1.623 (std: 0.115)\n",
      "Parameters: {'alpha': 54.0}\n",
      "\n",
      "Model with rank: 55\n",
      "Mean validation score: -1.623 (std: 0.115)\n",
      "Parameters: {'alpha': 55.0}\n",
      "\n",
      "Model with rank: 56\n",
      "Mean validation score: -1.623 (std: 0.115)\n",
      "Parameters: {'alpha': 56.0}\n",
      "\n",
      "Model with rank: 57\n",
      "Mean validation score: -1.623 (std: 0.115)\n",
      "Parameters: {'alpha': 57.0}\n",
      "\n",
      "Model with rank: 58\n",
      "Mean validation score: -1.623 (std: 0.115)\n",
      "Parameters: {'alpha': 58.0}\n",
      "\n",
      "Model with rank: 59\n",
      "Mean validation score: -1.623 (std: 0.115)\n",
      "Parameters: {'alpha': 59.0}\n",
      "\n",
      "Model with rank: 60\n",
      "Mean validation score: -1.623 (std: 0.115)\n",
      "Parameters: {'alpha': 60.0}\n",
      "\n",
      "Model with rank: 61\n",
      "Mean validation score: -1.623 (std: 0.115)\n",
      "Parameters: {'alpha': 61.0}\n",
      "\n",
      "Model with rank: 62\n",
      "Mean validation score: -1.624 (std: 0.115)\n",
      "Parameters: {'alpha': 62.0}\n",
      "\n",
      "Model with rank: 63\n",
      "Mean validation score: -1.624 (std: 0.115)\n",
      "Parameters: {'alpha': 63.0}\n",
      "\n",
      "Model with rank: 64\n",
      "Mean validation score: -1.624 (std: 0.115)\n",
      "Parameters: {'alpha': 64.0}\n",
      "\n",
      "Model with rank: 65\n",
      "Mean validation score: -1.624 (std: 0.115)\n",
      "Parameters: {'alpha': 65.0}\n",
      "\n",
      "Model with rank: 66\n",
      "Mean validation score: -1.624 (std: 0.115)\n",
      "Parameters: {'alpha': 66.0}\n",
      "\n",
      "Model with rank: 67\n",
      "Mean validation score: -1.624 (std: 0.115)\n",
      "Parameters: {'alpha': 67.0}\n",
      "\n",
      "Model with rank: 68\n",
      "Mean validation score: -1.624 (std: 0.115)\n",
      "Parameters: {'alpha': 68.0}\n",
      "\n",
      "Model with rank: 69\n",
      "Mean validation score: -1.624 (std: 0.115)\n",
      "Parameters: {'alpha': 69.0}\n",
      "\n",
      "Model with rank: 70\n",
      "Mean validation score: -1.624 (std: 0.115)\n",
      "Parameters: {'alpha': 70.0}\n",
      "\n",
      "Model with rank: 71\n",
      "Mean validation score: -1.625 (std: 0.115)\n",
      "Parameters: {'alpha': 71.0}\n",
      "\n",
      "Model with rank: 72\n",
      "Mean validation score: -1.625 (std: 0.115)\n",
      "Parameters: {'alpha': 72.0}\n",
      "\n",
      "Model with rank: 73\n",
      "Mean validation score: -1.625 (std: 0.115)\n",
      "Parameters: {'alpha': 73.0}\n",
      "\n",
      "Model with rank: 74\n",
      "Mean validation score: -1.625 (std: 0.115)\n",
      "Parameters: {'alpha': 74.0}\n",
      "\n",
      "Model with rank: 75\n",
      "Mean validation score: -1.625 (std: 0.114)\n",
      "Parameters: {'alpha': 75.0}\n",
      "\n",
      "Model with rank: 76\n",
      "Mean validation score: -1.625 (std: 0.114)\n",
      "Parameters: {'alpha': 76.0}\n",
      "\n",
      "Model with rank: 77\n",
      "Mean validation score: -1.625 (std: 0.114)\n",
      "Parameters: {'alpha': 77.0}\n",
      "\n",
      "Model with rank: 78\n",
      "Mean validation score: -1.625 (std: 0.114)\n",
      "Parameters: {'alpha': 78.0}\n",
      "\n",
      "Model with rank: 79\n",
      "Mean validation score: -1.626 (std: 0.114)\n",
      "Parameters: {'alpha': 79.0}\n",
      "\n",
      "Model with rank: 80\n",
      "Mean validation score: -1.626 (std: 0.114)\n",
      "Parameters: {'alpha': 80.0}\n",
      "\n",
      "Model with rank: 81\n",
      "Mean validation score: -1.626 (std: 0.114)\n",
      "Parameters: {'alpha': 81.0}\n",
      "\n",
      "Model with rank: 82\n",
      "Mean validation score: -1.626 (std: 0.114)\n",
      "Parameters: {'alpha': 82.0}\n",
      "\n",
      "Model with rank: 83\n",
      "Mean validation score: -1.626 (std: 0.114)\n",
      "Parameters: {'alpha': 83.0}\n",
      "\n",
      "Model with rank: 84\n",
      "Mean validation score: -1.626 (std: 0.114)\n",
      "Parameters: {'alpha': 84.0}\n",
      "\n",
      "Model with rank: 85\n",
      "Mean validation score: -1.626 (std: 0.114)\n",
      "Parameters: {'alpha': 85.0}\n",
      "\n",
      "Model with rank: 86\n",
      "Mean validation score: -1.626 (std: 0.114)\n",
      "Parameters: {'alpha': 86.0}\n",
      "\n",
      "Model with rank: 87\n",
      "Mean validation score: -1.627 (std: 0.114)\n",
      "Parameters: {'alpha': 87.0}\n",
      "\n",
      "Model with rank: 88\n",
      "Mean validation score: -1.627 (std: 0.114)\n",
      "Parameters: {'alpha': 88.0}\n",
      "\n",
      "Model with rank: 89\n",
      "Mean validation score: -1.627 (std: 0.114)\n",
      "Parameters: {'alpha': 89.0}\n",
      "\n",
      "Model with rank: 90\n",
      "Mean validation score: -1.627 (std: 0.114)\n",
      "Parameters: {'alpha': 90.0}\n",
      "\n",
      "Model with rank: 91\n",
      "Mean validation score: -1.627 (std: 0.114)\n",
      "Parameters: {'alpha': 91.0}\n",
      "\n",
      "Model with rank: 92\n",
      "Mean validation score: -1.627 (std: 0.114)\n",
      "Parameters: {'alpha': 92.0}\n",
      "\n",
      "Model with rank: 93\n",
      "Mean validation score: -1.627 (std: 0.114)\n",
      "Parameters: {'alpha': 93.0}\n",
      "\n",
      "Model with rank: 94\n",
      "Mean validation score: -1.627 (std: 0.114)\n",
      "Parameters: {'alpha': 94.0}\n",
      "\n",
      "Model with rank: 95\n",
      "Mean validation score: -1.628 (std: 0.114)\n",
      "Parameters: {'alpha': 95.0}\n",
      "\n",
      "Model with rank: 96\n",
      "Mean validation score: -1.628 (std: 0.114)\n",
      "Parameters: {'alpha': 96.0}\n",
      "\n",
      "Model with rank: 97\n",
      "Mean validation score: -1.628 (std: 0.114)\n",
      "Parameters: {'alpha': 97.0}\n",
      "\n",
      "Model with rank: 98\n",
      "Mean validation score: -1.628 (std: 0.114)\n",
      "Parameters: {'alpha': 98.0}\n",
      "\n",
      "Model with rank: 99\n",
      "Mean validation score: -1.628 (std: 0.114)\n",
      "Parameters: {'alpha': 99.0}\n",
      "\n",
      "Model with rank: 100\n",
      "Mean validation score: -1.628 (std: 0.114)\n",
      "Parameters: {'alpha': 100.0}\n",
      "\n"
     ]
    }
   ],
   "source": [
    "report(grid_search.cv_results_,100)"
   ]
  },
  {
   "cell_type": "code",
   "execution_count": 77,
   "metadata": {},
   "outputs": [],
   "source": [
    "test_pred=grid_search.predict(X_test)"
   ]
  },
  {
   "cell_type": "code",
   "execution_count": 78,
   "metadata": {},
   "outputs": [],
   "source": [
    "pd.DataFrame(test_pred).to_csv(\"mysubmission.csv\",index=False)"
   ]
  }
 ],
 "metadata": {
  "kernelspec": {
   "display_name": "Python 3",
   "language": "python",
   "name": "python3"
  },
  "language_info": {
   "codemirror_mode": {
    "name": "ipython",
    "version": 3
   },
   "file_extension": ".py",
   "mimetype": "text/x-python",
   "name": "python",
   "nbconvert_exporter": "python",
   "pygments_lexer": "ipython3",
   "version": "3.7.4"
  }
 },
 "nbformat": 4,
 "nbformat_minor": 2
}
