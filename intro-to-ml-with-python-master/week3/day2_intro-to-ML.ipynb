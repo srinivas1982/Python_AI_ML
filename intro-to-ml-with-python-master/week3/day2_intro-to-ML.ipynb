{
 "cells": [
  {
   "cell_type": "markdown",
   "metadata": {},
   "source": [
    "# Introduction to Machine Learning"
   ]
  },
  {
   "cell_type": "markdown",
   "metadata": {},
   "source": [
    "## What is Machine Learning?"
   ]
  },
  {
   "cell_type": "markdown",
   "metadata": {},
   "source": [
    "<h2><center>Learn a function from data that can generalize to predict new data.</center></h2>"
   ]
  },
  {
   "cell_type": "markdown",
   "metadata": {},
   "source": [
    "What is the relationship between Artificial Intelligence, Machine Learning, and Deep Learning?\n",
    "-------\n",
    "\n",
    "<center><img src=\"https://www.bing.com/th?id=OIP.GDp24Tu2sZu1khv0YXTligHaHX&pid=Api\" width=\"500\"/></center>"
   ]
  },
  {
   "cell_type": "markdown",
   "metadata": {},
   "source": [
    "## Machine learning falls into two main categories: **supervised learning** and **unsupervised learning**."
   ]
  },
  {
   "cell_type": "markdown",
   "metadata": {},
   "source": [
    "<center><img src=\"https://leonardoaraujosantos.gitbooks.io/artificial-inteligence/content/Images/supervised_unsupervised.png\" width=\"100%\"/></center>"
   ]
  },
  {
   "cell_type": "markdown",
   "metadata": {},
   "source": [
    "<center><img src=\"images/mlintro01.png\" width=\"600\"/></center>"
   ]
  },
  {
   "cell_type": "markdown",
   "metadata": {},
   "source": [
    "### 1. Supervised Learning: \n",
    "Supervised learning involves mapping inputs (**independent variables: x**) to an output (**dependent variable: y**) also called as labels. <br>\n",
    "For example, $ y_\\text{pred} = f(x) + e $ states that the predicted value $y_\\text{pred}$ is a function of inputs `x` and errors `e`\n",
    "\n",
    "Example of Supervised learning:"
   ]
  },
  {
   "cell_type": "markdown",
   "metadata": {},
   "source": [
    "<center><img src=\"images/classy.png\" width=\"90%\"/></center>"
   ]
  },
  {
   "cell_type": "markdown",
   "metadata": {},
   "source": [
    " - **Classification:** In classification problems, y is categorical (discrete labels), such as flower type.\n",
    " \n",
    "Classification allows you to assign discrete **labels or categories** to new input data.\n",
    "\n",
    "|Inputs|Classification|\n",
    "|:---|:---|\n",
    "|Texts, emails, or comments|Spam detection|\n",
    "|Flowers, insects, or animals|Species detection|\n",
    "|Viewers, readers, buyers|Customer detection|\n",
    "\n",
    "\n",
    "\n",
    "<center><img src=\"https://astrobites.org/wp-content/uploads/2015/04/image22.jpg\" width=\"700\"/></center>\n",
    "\n",
    "Learn to predict discrete categories"
   ]
  },
  {
   "cell_type": "markdown",
   "metadata": {},
   "source": [
    " - **Regression:** In regression (or prediction) problems, y is a numerical variable (continuous variable), such as sales.\n",
    " \n",
    "Regression analysis allows you to predict **continuous quantities** based on new input data. \n",
    "\n",
    " |Inputs|Outputs|\n",
    "|:---|:---|\n",
    "|Auto characteristics (color, model, age, etc)|Price|\n",
    "|Advertising dollars spent|Sales revenue|\n",
    "|Candidate characteristics|Salary|\n",
    "\n",
    "<br>\n",
    "\n",
    "<center><img src=\"https://upload.wikimedia.org/wikipedia/commons/thumb/3/3a/Linear_regression.svg/1200px-Linear_regression.svg.png\" width=\"650\"/></center>\n",
    "\n",
    "Learn to predict continuous / float numbers\n",
    "\n",
    "Simpliest form is a straight line"
   ]
  },
  {
   "cell_type": "markdown",
   "metadata": {
    "heading_collapsed": true
   },
   "source": [
    "### 2. Unsupervised learning:\n",
    "Unsupervised learning involves finding interesting patterns in data without a dependent variable (or labels). We can group the complex data into clusters so that it appears more simpler or organised. <br>\n",
    "\n",
    "Examples of Unsupervised learning: \n",
    " - **Cluster analysis** \n",
    " - **Principal Components Analysis**"
   ]
  },
  {
   "cell_type": "markdown",
   "metadata": {
    "ExecuteTime": {
     "end_time": "2019-11-03T05:46:11.791833Z",
     "start_time": "2019-11-03T05:46:11.787676Z"
    }
   },
   "source": [
    "### Algorithms for Supervised Learning\n",
    "<center><img src=\"images/mlintro2.png\" width=\"600\"/></center>"
   ]
  },
  {
   "cell_type": "markdown",
   "metadata": {
    "heading_collapsed": true
   },
   "source": [
    "## Machine Learning Algorithms Overview"
   ]
  },
  {
   "cell_type": "markdown",
   "metadata": {
    "hidden": true
   },
   "source": [
    "<center><img src=\"images/flowchart1.png\" width=\"100%\"/></center>"
   ]
  },
  {
   "cell_type": "markdown",
   "metadata": {
    "hidden": true
   },
   "source": [
    "<center><img src=\"images/sklearn.png\" width=\"100%\"/></center>"
   ]
  },
  {
   "cell_type": "markdown",
   "metadata": {
    "heading_collapsed": true
   },
   "source": [
    "## What is Data Science"
   ]
  },
  {
   "cell_type": "markdown",
   "metadata": {
    "hidden": true
   },
   "source": [
    "Data Science Workflow\n",
    "----\n",
    "1. Ask\n",
    "2. Acquire\n",
    "3. Process\n",
    "4. Model\n",
    "5. Deliver "
   ]
  },
  {
   "cell_type": "markdown",
   "metadata": {
    "hidden": true
   },
   "source": [
    "<center><img src=\"images/dsflow2.png\" width=\"1000\"/></center>"
   ]
  },
  {
   "cell_type": "markdown",
   "metadata": {
    "hidden": true
   },
   "source": [
    "<center><img src=\"images/dsflow1.png\" width=\"1000\"/></center>"
   ]
  },
  {
   "cell_type": "markdown",
   "metadata": {
    "hidden": true
   },
   "source": [
    "Machine Learning Pipeline\n",
    "------\n",
    "\n",
    "<center><img src=\"images/pipelines.png\" width=\"100%\"/></center> "
   ]
  }
 ],
 "metadata": {
  "kernelspec": {
   "display_name": "Python 3",
   "language": "python",
   "name": "python3"
  },
  "language_info": {
   "codemirror_mode": {
    "name": "ipython",
    "version": 3
   },
   "file_extension": ".py",
   "mimetype": "text/x-python",
   "name": "python",
   "nbconvert_exporter": "python",
   "pygments_lexer": "ipython3",
   "version": "3.6.5"
  }
 },
 "nbformat": 4,
 "nbformat_minor": 2
}
