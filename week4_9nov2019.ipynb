{
 "cells": [
  {
   "cell_type": "code",
   "execution_count": 4,
   "metadata": {},
   "outputs": [],
   "source": [
    "import numpy as np\n",
    "import matplotlib.pyplot as plt"
   ]
  },
  {
   "cell_type": "code",
   "execution_count": 5,
   "metadata": {},
   "outputs": [
    {
     "data": {
      "text/plain": [
       "((50,), (50,))"
      ]
     },
     "execution_count": 5,
     "metadata": {},
     "output_type": "execute_result"
    }
   ],
   "source": [
    "feature_1 =np.random.randint(low=1,high=20,size=(50,))\n",
    "feature_2 =np.random.randint(low=1,high=20,size=(50,))\n",
    "feature_1.shape,feature_2.shape"
   ]
  },
  {
   "cell_type": "code",
   "execution_count": 11,
   "metadata": {},
   "outputs": [
    {
     "data": {
      "text/plain": [
       "((50, 3), array([[ 1, 15,  9],\n",
       "        [ 1, 16,  9],\n",
       "        [ 1,  9,  2]]))"
      ]
     },
     "execution_count": 11,
     "metadata": {},
     "output_type": "execute_result"
    }
   ],
   "source": [
    "x1 = np.array(feature_1).reshape(50,1)\n",
    "x0 = np.ones_like(feature_1).reshape(50,1)\n",
    "x2 = np.array(feature_2).reshape(50,1)\n",
    "                               \n",
    "x = np.hstack((x0,x1,x2))\n",
    "x.shape,x[:3,:]                              \n",
    "                               "
   ]
  },
  {
   "cell_type": "code",
   "execution_count": 16,
   "metadata": {},
   "outputs": [
    {
     "name": "stdout",
     "output_type": "stream",
     "text": [
      "(50,)\n"
     ]
    },
    {
     "data": {
      "text/plain": [
       "array([-2.73568661, -0.44294611, 13.83206207])"
      ]
     },
     "execution_count": 16,
     "metadata": {},
     "output_type": "execute_result"
    }
   ],
   "source": [
    "# \n",
    "y_true = 3+2*x[:,1]-4*x[:,2]+np.random.random((50,))\n",
    "print(y_true.shape)\n",
    "y_true[:3]"
   ]
  },
  {
   "cell_type": "code",
   "execution_count": 17,
   "metadata": {},
   "outputs": [
    {
     "data": {
      "text/plain": [
       "<matplotlib.collections.PathCollection at 0x7ff50b5af550>"
      ]
     },
     "execution_count": 17,
     "metadata": {},
     "output_type": "execute_result"
    },
    {
     "data": {
      "image/png": "[encoded data removed]",
      "text/plain": [
       "<Figure size 432x288 with 1 Axes>"
      ]
     },
     "metadata": {
      "needs_background": "light"
     },
     "output_type": "display_data"
    }
   ],
   "source": [
    "plt.scatter(x[:,1],y_true,marker='o',c='b')"
   ]
  },
  {
   "cell_type": "code",
   "execution_count": 18,
   "metadata": {},
   "outputs": [],
   "source": [
    "f=lambda theata_0,theta_1,theta_2,x:theta_0+theta_1*x[1]+theta_2*x[2]"
   ]
  },
  {
   "cell_type": "code",
   "execution_count": 19,
   "metadata": {},
   "outputs": [],
   "source": [
    "# cost function in linraer regression\n",
    "def J(x,y,m,theta_0,theta_1,theta_2):\n",
    "    retunValue =0\n",
    "    \n",
    "    for i in range (m):\n",
    "        retunValue +=(f(theta_0,theta_1,theta_2,x[i])-y[i])**2\n",
    "        \n",
    "    retunValue = retunValue/m\n",
    "    return retunValue"
   ]
  },
  {
   "cell_type": "code",
   "execution_count": 26,
   "metadata": {},
   "outputs": [],
   "source": [
    "def gard_J(x,y,m,theta_0,theta_1,theta_2):\n",
    "    returnValue =np.array([0.,0.,0])\n",
    "    \n",
    "    for i in range(m):\n",
    "        retunValue[0] +=(f(theta_0,theta_2,x[i]-y[i]))\n",
    "        retunValue[1] +=(f(theta_0,theta_2,x[i]-y[i]))*x[:,1][i]\n",
    "        retunValue[1] +=(f(theta_0,theta_2,x[i]-y[i]))*x[:,2][i]\n",
    "        \n",
    "    retunValue= retunValue/(2*m)\n",
    "    return returnValue  \n",
    "  \n",
    "   "
   ]
  },
  {
   "cell_type": "code",
   "execution_count": null,
   "metadata": {},
   "outputs": [],
   "source": []
  }
 ],
 "metadata": {
  "kernelspec": {
   "display_name": "Python 3",
   "language": "python",
   "name": "python3"
  },
  "language_info": {
   "codemirror_mode": {
    "name": "ipython",
    "version": 3
   },
   "file_extension": ".py",
   "mimetype": "text/x-python",
   "name": "python",
   "nbconvert_exporter": "python",
   "pygments_lexer": "ipython3",
   "version": "3.7.4"
  }
 },
 "nbformat": 4,
 "nbformat_minor": 2
}
