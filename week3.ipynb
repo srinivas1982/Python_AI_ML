{
 "cells": [
  {
   "cell_type": "code",
   "execution_count": 13,
   "metadata": {},
   "outputs": [
    {
     "name": "stdout",
     "output_type": "stream",
     "text": [
      "Index(['ID', 'Amount.Requested', 'Amount.Funded.By.Investors', 'Interest.Rate',\n",
      "       'Loan.Length', 'Loan.Purpose', 'Debt.To.Income.Ratio', 'State',\n",
      "       'Home.Ownership', 'Monthly.Income', 'FICO.Range', 'Open.CREDIT.Lines',\n",
      "       'Revolving.CREDIT.Balance', 'Inquiries.in.the.Last.6.Months',\n",
      "       'Employment.Length'],\n",
      "      dtype='object')\n"
     ]
    },
    {
     "data": {
      "text/plain": [
       "(2500, 15)"
      ]
     },
     "execution_count": 13,
     "metadata": {},
     "output_type": "execute_result"
    }
   ],
   "source": [
    "import pandas as pd\n",
    "import numpy as np\n",
    "import math\n",
    "\n",
    "#pd.options.display.max_columns=10=\n",
    "cities=['delhi','Mumbi','Kolkata','Chenni']\n",
    "code =[11,22,33,44]\n",
    "\n",
    "mydata=list(zip(cities,code))\n",
    "\n",
    "mydata\n",
    "\n",
    "df= pd.DataFrame({'cities':cities,\"code\":code})\n",
    "df\n",
    "type(df)\n",
    "\n",
    "df.to_csv(\"/media/dell/D_PROJECTS/Edvancer_Class/PythonWithML/Data/my_data2.csv\",index=False,header=False)\n",
    "#df.to_csv(\"my_data2.csv\",index=False,header=False)\n",
    "\n",
    "file=\"/media/dell/D_PROJECTS/Edvancer_Class/PythonWithML/Data/loans data.csv\"\n",
    "ld=pd.read_csv(file)\n",
    "ld\n",
    "ld.head(10)\n",
    "ld.tail(10)\n",
    "ld.sample(10)\n",
    "len(ld.columns)\n",
    "print(ld.columns)\n",
    "\n",
    "ld.dtypes\n",
    "\n",
    "ld.shape # enrires in csv"
   ]
  },
  {
   "cell_type": "code",
   "execution_count": null,
   "metadata": {},
   "outputs": [],
   "source": []
  },
  {
   "cell_type": "code",
   "execution_count": null,
   "metadata": {},
   "outputs": [],
   "source": []
  }
 ],
 "metadata": {
  "kernelspec": {
   "display_name": "Python 3",
   "language": "python",
   "name": "python3"
  },
  "language_info": {
   "codemirror_mode": {
    "name": "ipython",
    "version": 3
   },
   "file_extension": ".py",
   "mimetype": "text/x-python",
   "name": "python",
   "nbconvert_exporter": "python",
   "pygments_lexer": "ipython3",
   "version": "3.7.4"
  }
 },
 "nbformat": 4,
 "nbformat_minor": 2
}
